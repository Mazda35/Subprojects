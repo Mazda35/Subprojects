{
  "nbformat": 4,
  "nbformat_minor": 0,
  "metadata": {
    "colab": {
      "name": "Udemy_deep_learning_A_Z_hands_on_ANN.ipynb",
      "provenance": [],
      "collapsed_sections": [
        "FBI-Qye1r-9L",
        "oQtyNmxl5FMn",
        "OR4vfV0ti4d8",
        "mm4DfOw_IkXT"
      ]
    },
    "kernelspec": {
      "name": "python3",
      "display_name": "Python 3"
    },
    "language_info": {
      "name": "python"
    }
  },
  "cells": [
    {
      "cell_type": "markdown",
      "metadata": {
        "id": "FBI-Qye1r-9L"
      },
      "source": [
        "# 1 - Artificial Neural Networks - ANN"
      ]
    },
    {
      "cell_type": "markdown",
      "metadata": {
        "id": "A_ug0kt5ULgG"
      },
      "source": [
        "1.1 - Preprocessing"
      ]
    },
    {
      "cell_type": "code",
      "metadata": {
        "id": "V5SM-s2UrlPQ"
      },
      "source": [
        "import numpy as np\n",
        "import pandas as pd\n",
        "import tensorflow as tf\n",
        "import matplotlib.pyplot as plt"
      ],
      "execution_count": null,
      "outputs": []
    },
    {
      "cell_type": "code",
      "metadata": {
        "id": "lDOYOYuw026s"
      },
      "source": [
        "from keras import Sequential"
      ],
      "execution_count": null,
      "outputs": []
    },
    {
      "cell_type": "code",
      "metadata": {
        "colab": {
          "base_uri": "https://localhost:8080/",
          "height": 35
        },
        "id": "RdVFDSpP03FU",
        "outputId": "ffda5078-74d7-4558-b53c-328ff0a98b69"
      },
      "source": [
        "tf.__version__"
      ],
      "execution_count": null,
      "outputs": [
        {
          "output_type": "execute_result",
          "data": {
            "application/vnd.google.colaboratory.intrinsic+json": {
              "type": "string"
            },
            "text/plain": [
              "'2.6.0'"
            ]
          },
          "metadata": {},
          "execution_count": 73
        }
      ]
    },
    {
      "cell_type": "markdown",
      "metadata": {
        "id": "mkr9Dkwd1ndJ"
      },
      "source": [
        "Preprocessing Phase :\n",
        "\n",
        "1- Import dataset\n",
        "\n",
        "2- Seperate X and Y\n",
        "\n",
        "3- NaNs\n",
        "\n",
        "4- Encoding Binary data\n",
        "\n",
        "5- OneHotEncoding Categorical data\n",
        "\n",
        "6- Train/Test split\n",
        "\n",
        "7- Feature Scaling"
      ]
    },
    {
      "cell_type": "code",
      "metadata": {
        "colab": {
          "base_uri": "https://localhost:8080/",
          "height": 419
        },
        "id": "WzabGFlz03NN",
        "outputId": "7fa91330-6017-4355-a72c-dfced6663b46"
      },
      "source": [
        "# Step One\n",
        "dataset=pd.read_csv('Churn_Modelling.csv')\n",
        "dataset.head()"
      ],
      "execution_count": null,
      "outputs": [
        {
          "output_type": "error",
          "ename": "FileNotFoundError",
          "evalue": "ignored",
          "traceback": [
            "\u001b[0;31m---------------------------------------------------------------------------\u001b[0m",
            "\u001b[0;31mFileNotFoundError\u001b[0m                         Traceback (most recent call last)",
            "\u001b[0;32m<ipython-input-74-3d6bfff12c16>\u001b[0m in \u001b[0;36m<module>\u001b[0;34m()\u001b[0m\n\u001b[1;32m      1\u001b[0m \u001b[0;31m# Step One\u001b[0m\u001b[0;34m\u001b[0m\u001b[0;34m\u001b[0m\u001b[0;34m\u001b[0m\u001b[0m\n\u001b[0;32m----> 2\u001b[0;31m \u001b[0mdataset\u001b[0m\u001b[0;34m=\u001b[0m\u001b[0mpd\u001b[0m\u001b[0;34m.\u001b[0m\u001b[0mread_csv\u001b[0m\u001b[0;34m(\u001b[0m\u001b[0;34m'Churn_Modelling.csv'\u001b[0m\u001b[0;34m)\u001b[0m\u001b[0;34m\u001b[0m\u001b[0;34m\u001b[0m\u001b[0m\n\u001b[0m\u001b[1;32m      3\u001b[0m \u001b[0mdataset\u001b[0m\u001b[0;34m.\u001b[0m\u001b[0mhead\u001b[0m\u001b[0;34m(\u001b[0m\u001b[0;34m)\u001b[0m\u001b[0;34m\u001b[0m\u001b[0;34m\u001b[0m\u001b[0m\n",
            "\u001b[0;32m/usr/local/lib/python3.7/dist-packages/pandas/io/parsers.py\u001b[0m in \u001b[0;36mread_csv\u001b[0;34m(filepath_or_buffer, sep, delimiter, header, names, index_col, usecols, squeeze, prefix, mangle_dupe_cols, dtype, engine, converters, true_values, false_values, skipinitialspace, skiprows, skipfooter, nrows, na_values, keep_default_na, na_filter, verbose, skip_blank_lines, parse_dates, infer_datetime_format, keep_date_col, date_parser, dayfirst, cache_dates, iterator, chunksize, compression, thousands, decimal, lineterminator, quotechar, quoting, doublequote, escapechar, comment, encoding, dialect, error_bad_lines, warn_bad_lines, delim_whitespace, low_memory, memory_map, float_precision)\u001b[0m\n\u001b[1;32m    686\u001b[0m     )\n\u001b[1;32m    687\u001b[0m \u001b[0;34m\u001b[0m\u001b[0m\n\u001b[0;32m--> 688\u001b[0;31m     \u001b[0;32mreturn\u001b[0m \u001b[0m_read\u001b[0m\u001b[0;34m(\u001b[0m\u001b[0mfilepath_or_buffer\u001b[0m\u001b[0;34m,\u001b[0m \u001b[0mkwds\u001b[0m\u001b[0;34m)\u001b[0m\u001b[0;34m\u001b[0m\u001b[0;34m\u001b[0m\u001b[0m\n\u001b[0m\u001b[1;32m    689\u001b[0m \u001b[0;34m\u001b[0m\u001b[0m\n\u001b[1;32m    690\u001b[0m \u001b[0;34m\u001b[0m\u001b[0m\n",
            "\u001b[0;32m/usr/local/lib/python3.7/dist-packages/pandas/io/parsers.py\u001b[0m in \u001b[0;36m_read\u001b[0;34m(filepath_or_buffer, kwds)\u001b[0m\n\u001b[1;32m    452\u001b[0m \u001b[0;34m\u001b[0m\u001b[0m\n\u001b[1;32m    453\u001b[0m     \u001b[0;31m# Create the parser.\u001b[0m\u001b[0;34m\u001b[0m\u001b[0;34m\u001b[0m\u001b[0;34m\u001b[0m\u001b[0m\n\u001b[0;32m--> 454\u001b[0;31m     \u001b[0mparser\u001b[0m \u001b[0;34m=\u001b[0m \u001b[0mTextFileReader\u001b[0m\u001b[0;34m(\u001b[0m\u001b[0mfp_or_buf\u001b[0m\u001b[0;34m,\u001b[0m \u001b[0;34m**\u001b[0m\u001b[0mkwds\u001b[0m\u001b[0;34m)\u001b[0m\u001b[0;34m\u001b[0m\u001b[0;34m\u001b[0m\u001b[0m\n\u001b[0m\u001b[1;32m    455\u001b[0m \u001b[0;34m\u001b[0m\u001b[0m\n\u001b[1;32m    456\u001b[0m     \u001b[0;32mif\u001b[0m \u001b[0mchunksize\u001b[0m \u001b[0;32mor\u001b[0m \u001b[0miterator\u001b[0m\u001b[0;34m:\u001b[0m\u001b[0;34m\u001b[0m\u001b[0;34m\u001b[0m\u001b[0m\n",
            "\u001b[0;32m/usr/local/lib/python3.7/dist-packages/pandas/io/parsers.py\u001b[0m in \u001b[0;36m__init__\u001b[0;34m(self, f, engine, **kwds)\u001b[0m\n\u001b[1;32m    946\u001b[0m             \u001b[0mself\u001b[0m\u001b[0;34m.\u001b[0m\u001b[0moptions\u001b[0m\u001b[0;34m[\u001b[0m\u001b[0;34m\"has_index_names\"\u001b[0m\u001b[0;34m]\u001b[0m \u001b[0;34m=\u001b[0m \u001b[0mkwds\u001b[0m\u001b[0;34m[\u001b[0m\u001b[0;34m\"has_index_names\"\u001b[0m\u001b[0;34m]\u001b[0m\u001b[0;34m\u001b[0m\u001b[0;34m\u001b[0m\u001b[0m\n\u001b[1;32m    947\u001b[0m \u001b[0;34m\u001b[0m\u001b[0m\n\u001b[0;32m--> 948\u001b[0;31m         \u001b[0mself\u001b[0m\u001b[0;34m.\u001b[0m\u001b[0m_make_engine\u001b[0m\u001b[0;34m(\u001b[0m\u001b[0mself\u001b[0m\u001b[0;34m.\u001b[0m\u001b[0mengine\u001b[0m\u001b[0;34m)\u001b[0m\u001b[0;34m\u001b[0m\u001b[0;34m\u001b[0m\u001b[0m\n\u001b[0m\u001b[1;32m    949\u001b[0m \u001b[0;34m\u001b[0m\u001b[0m\n\u001b[1;32m    950\u001b[0m     \u001b[0;32mdef\u001b[0m \u001b[0mclose\u001b[0m\u001b[0;34m(\u001b[0m\u001b[0mself\u001b[0m\u001b[0;34m)\u001b[0m\u001b[0;34m:\u001b[0m\u001b[0;34m\u001b[0m\u001b[0;34m\u001b[0m\u001b[0m\n",
            "\u001b[0;32m/usr/local/lib/python3.7/dist-packages/pandas/io/parsers.py\u001b[0m in \u001b[0;36m_make_engine\u001b[0;34m(self, engine)\u001b[0m\n\u001b[1;32m   1178\u001b[0m     \u001b[0;32mdef\u001b[0m \u001b[0m_make_engine\u001b[0m\u001b[0;34m(\u001b[0m\u001b[0mself\u001b[0m\u001b[0;34m,\u001b[0m \u001b[0mengine\u001b[0m\u001b[0;34m=\u001b[0m\u001b[0;34m\"c\"\u001b[0m\u001b[0;34m)\u001b[0m\u001b[0;34m:\u001b[0m\u001b[0;34m\u001b[0m\u001b[0;34m\u001b[0m\u001b[0m\n\u001b[1;32m   1179\u001b[0m         \u001b[0;32mif\u001b[0m \u001b[0mengine\u001b[0m \u001b[0;34m==\u001b[0m \u001b[0;34m\"c\"\u001b[0m\u001b[0;34m:\u001b[0m\u001b[0;34m\u001b[0m\u001b[0;34m\u001b[0m\u001b[0m\n\u001b[0;32m-> 1180\u001b[0;31m             \u001b[0mself\u001b[0m\u001b[0;34m.\u001b[0m\u001b[0m_engine\u001b[0m \u001b[0;34m=\u001b[0m \u001b[0mCParserWrapper\u001b[0m\u001b[0;34m(\u001b[0m\u001b[0mself\u001b[0m\u001b[0;34m.\u001b[0m\u001b[0mf\u001b[0m\u001b[0;34m,\u001b[0m \u001b[0;34m**\u001b[0m\u001b[0mself\u001b[0m\u001b[0;34m.\u001b[0m\u001b[0moptions\u001b[0m\u001b[0;34m)\u001b[0m\u001b[0;34m\u001b[0m\u001b[0;34m\u001b[0m\u001b[0m\n\u001b[0m\u001b[1;32m   1181\u001b[0m         \u001b[0;32melse\u001b[0m\u001b[0;34m:\u001b[0m\u001b[0;34m\u001b[0m\u001b[0;34m\u001b[0m\u001b[0m\n\u001b[1;32m   1182\u001b[0m             \u001b[0;32mif\u001b[0m \u001b[0mengine\u001b[0m \u001b[0;34m==\u001b[0m \u001b[0;34m\"python\"\u001b[0m\u001b[0;34m:\u001b[0m\u001b[0;34m\u001b[0m\u001b[0;34m\u001b[0m\u001b[0m\n",
            "\u001b[0;32m/usr/local/lib/python3.7/dist-packages/pandas/io/parsers.py\u001b[0m in \u001b[0;36m__init__\u001b[0;34m(self, src, **kwds)\u001b[0m\n\u001b[1;32m   2008\u001b[0m         \u001b[0mkwds\u001b[0m\u001b[0;34m[\u001b[0m\u001b[0;34m\"usecols\"\u001b[0m\u001b[0;34m]\u001b[0m \u001b[0;34m=\u001b[0m \u001b[0mself\u001b[0m\u001b[0;34m.\u001b[0m\u001b[0musecols\u001b[0m\u001b[0;34m\u001b[0m\u001b[0;34m\u001b[0m\u001b[0m\n\u001b[1;32m   2009\u001b[0m \u001b[0;34m\u001b[0m\u001b[0m\n\u001b[0;32m-> 2010\u001b[0;31m         \u001b[0mself\u001b[0m\u001b[0;34m.\u001b[0m\u001b[0m_reader\u001b[0m \u001b[0;34m=\u001b[0m \u001b[0mparsers\u001b[0m\u001b[0;34m.\u001b[0m\u001b[0mTextReader\u001b[0m\u001b[0;34m(\u001b[0m\u001b[0msrc\u001b[0m\u001b[0;34m,\u001b[0m \u001b[0;34m**\u001b[0m\u001b[0mkwds\u001b[0m\u001b[0;34m)\u001b[0m\u001b[0;34m\u001b[0m\u001b[0;34m\u001b[0m\u001b[0m\n\u001b[0m\u001b[1;32m   2011\u001b[0m         \u001b[0mself\u001b[0m\u001b[0;34m.\u001b[0m\u001b[0munnamed_cols\u001b[0m \u001b[0;34m=\u001b[0m \u001b[0mself\u001b[0m\u001b[0;34m.\u001b[0m\u001b[0m_reader\u001b[0m\u001b[0;34m.\u001b[0m\u001b[0munnamed_cols\u001b[0m\u001b[0;34m\u001b[0m\u001b[0;34m\u001b[0m\u001b[0m\n\u001b[1;32m   2012\u001b[0m \u001b[0;34m\u001b[0m\u001b[0m\n",
            "\u001b[0;32mpandas/_libs/parsers.pyx\u001b[0m in \u001b[0;36mpandas._libs.parsers.TextReader.__cinit__\u001b[0;34m()\u001b[0m\n",
            "\u001b[0;32mpandas/_libs/parsers.pyx\u001b[0m in \u001b[0;36mpandas._libs.parsers.TextReader._setup_parser_source\u001b[0;34m()\u001b[0m\n",
            "\u001b[0;31mFileNotFoundError\u001b[0m: [Errno 2] No such file or directory: 'Churn_Modelling.csv'"
          ]
        }
      ]
    },
    {
      "cell_type": "code",
      "metadata": {
        "id": "lJyPAnTf03QH"
      },
      "source": [
        "# Step Two\n",
        "X=dataset.iloc[:,3:-1].values\n",
        "X"
      ],
      "execution_count": null,
      "outputs": []
    },
    {
      "cell_type": "code",
      "metadata": {
        "id": "AaLhsrDy03S9"
      },
      "source": [
        "Y=dataset.iloc[:,-1].values\n",
        "Y=Y.reshape(-1,1)\n",
        "Y"
      ],
      "execution_count": null,
      "outputs": []
    },
    {
      "cell_type": "code",
      "metadata": {
        "id": "Y6hyqerRSCn5"
      },
      "source": [
        "# Step Three\n",
        "# from sklearn.impute import SimpleImputer\n",
        "# imputer=SimpleImputer(missing_values=np.nan,strategy='mean')\n",
        "# imputer.fit(X[:,1:3])\n",
        "# X[:,1:3]=imputer.transform(X[:,1:3])"
      ],
      "execution_count": null,
      "outputs": []
    },
    {
      "cell_type": "code",
      "metadata": {
        "id": "PKPMa4xu03Vq"
      },
      "source": [
        "# Step Four\n",
        "from sklearn.preprocessing import LabelEncoder\n",
        "le=LabelEncoder()\n",
        "X[:,2]=le.fit_transform(X[:,2])\n",
        "X.shape"
      ],
      "execution_count": null,
      "outputs": []
    },
    {
      "cell_type": "code",
      "metadata": {
        "id": "JaR-dmpN03YY"
      },
      "source": [
        "# Step Five\n",
        "from sklearn.preprocessing import OneHotEncoder\n",
        "from sklearn.compose import ColumnTransformer\n",
        "ct=ColumnTransformer(transformers=[('encoder',OneHotEncoder(),[1])],remainder='passthrough')\n",
        "X=np.array(ct.fit_transform(X))\n",
        "X.shape"
      ],
      "execution_count": null,
      "outputs": []
    },
    {
      "cell_type": "code",
      "metadata": {
        "id": "nJV6bDwEQoX3"
      },
      "source": [
        "# Step Six\n",
        "from sklearn.model_selection import train_test_split\n",
        "xtrain,xtest,ytrain,ytest=train_test_split(X,Y,test_size=0.2,random_state=0)"
      ],
      "execution_count": null,
      "outputs": []
    },
    {
      "cell_type": "code",
      "metadata": {
        "id": "TcpV7k-ZVTiI"
      },
      "source": [
        "# Step Seven\n",
        "from sklearn.preprocessing import StandardScaler\n",
        "ss=StandardScaler()\n",
        "xtrain=ss.fit_transform(xtrain)\n",
        "xtest=ss.transform(xtest)"
      ],
      "execution_count": null,
      "outputs": []
    },
    {
      "cell_type": "markdown",
      "metadata": {
        "id": "cPglko5FURjR"
      },
      "source": [
        "1.2 - Building ANN"
      ]
    },
    {
      "cell_type": "code",
      "metadata": {
        "id": "ETZNbMUxX3bO"
      },
      "source": [
        "from tensorflow.keras.models import Sequential\n",
        "from tensorflow.keras.layers import Dense"
      ],
      "execution_count": null,
      "outputs": []
    },
    {
      "cell_type": "code",
      "metadata": {
        "id": "1vhYJebNQoeS"
      },
      "source": [
        "ann=Sequential()\n",
        "# first hidden layer\n",
        "ann.add(Dense(units=6,activation='relu'))\n",
        "# second hidden layer\n",
        "ann.add(Dense(units=6,activation='relu'))\n",
        "# output layer\n",
        "# classification\n",
        "ann.add(Dense(units=1,activation='sigmoid'))\n",
        "# regression\n",
        "#ann.add(Dense(units=1))"
      ],
      "execution_count": null,
      "outputs": []
    },
    {
      "cell_type": "markdown",
      "metadata": {
        "id": "gnfh75y-chiY"
      },
      "source": [
        "1.3 - Train ANN"
      ]
    },
    {
      "cell_type": "code",
      "metadata": {
        "id": "OGVlNxLtQojL"
      },
      "source": [
        "### compiling ANN\n",
        "# CLASSIFICATION\n",
        "ann.compile(optimizer='adam',loss='binary_crossentropy',metrics=['accuracy'])"
      ],
      "execution_count": null,
      "outputs": []
    },
    {
      "cell_type": "code",
      "metadata": {
        "id": "3rmMIeH531f9"
      },
      "source": [
        "# REGRESSION\n",
        "#ann.compile(optimizer='adam',loss='mean_squared_error')"
      ],
      "execution_count": null,
      "outputs": []
    },
    {
      "cell_type": "code",
      "metadata": {
        "colab": {
          "base_uri": "https://localhost:8080/"
        },
        "id": "iiikhp1XQomo",
        "outputId": "980ff9e0-1927-4e1d-dc84-8691e1947d54"
      },
      "source": [
        "# train ANN\n",
        "ann.fit(xtrain,ytrain,batch_size=32,epochs=100)"
      ],
      "execution_count": null,
      "outputs": [
        {
          "output_type": "stream",
          "text": [
            "Epoch 1/100\n",
            "250/250 [==============================] - 1s 1ms/step - loss: 0.6448 - accuracy: 0.6435\n",
            "Epoch 2/100\n",
            "250/250 [==============================] - 0s 1ms/step - loss: 0.4808 - accuracy: 0.7952\n",
            "Epoch 3/100\n",
            "250/250 [==============================] - 0s 1ms/step - loss: 0.4452 - accuracy: 0.7971\n",
            "Epoch 4/100\n",
            "250/250 [==============================] - 0s 1ms/step - loss: 0.4263 - accuracy: 0.8111\n",
            "Epoch 5/100\n",
            "250/250 [==============================] - 0s 1ms/step - loss: 0.4130 - accuracy: 0.8220\n",
            "Epoch 6/100\n",
            "250/250 [==============================] - 0s 1ms/step - loss: 0.4008 - accuracy: 0.8322\n",
            "Epoch 7/100\n",
            "250/250 [==============================] - 0s 1ms/step - loss: 0.3875 - accuracy: 0.8400\n",
            "Epoch 8/100\n",
            "250/250 [==============================] - 0s 1ms/step - loss: 0.3752 - accuracy: 0.8481\n",
            "Epoch 9/100\n",
            "250/250 [==============================] - 0s 1ms/step - loss: 0.3661 - accuracy: 0.8512\n",
            "Epoch 10/100\n",
            "250/250 [==============================] - 0s 1ms/step - loss: 0.3599 - accuracy: 0.8543\n",
            "Epoch 11/100\n",
            "250/250 [==============================] - 0s 1ms/step - loss: 0.3556 - accuracy: 0.8537\n",
            "Epoch 12/100\n",
            "250/250 [==============================] - 0s 1ms/step - loss: 0.3530 - accuracy: 0.8559\n",
            "Epoch 13/100\n",
            "250/250 [==============================] - 0s 1ms/step - loss: 0.3511 - accuracy: 0.8549\n",
            "Epoch 14/100\n",
            "250/250 [==============================] - 0s 1ms/step - loss: 0.3493 - accuracy: 0.8561\n",
            "Epoch 15/100\n",
            "250/250 [==============================] - 0s 1ms/step - loss: 0.3479 - accuracy: 0.8580\n",
            "Epoch 16/100\n",
            "250/250 [==============================] - 0s 1ms/step - loss: 0.3470 - accuracy: 0.8569\n",
            "Epoch 17/100\n",
            "250/250 [==============================] - 0s 1ms/step - loss: 0.3462 - accuracy: 0.8596\n",
            "Epoch 18/100\n",
            "250/250 [==============================] - 0s 1ms/step - loss: 0.3455 - accuracy: 0.8591\n",
            "Epoch 19/100\n",
            "250/250 [==============================] - 0s 1ms/step - loss: 0.3447 - accuracy: 0.8604\n",
            "Epoch 20/100\n",
            "250/250 [==============================] - 0s 1ms/step - loss: 0.3445 - accuracy: 0.8600\n",
            "Epoch 21/100\n",
            "250/250 [==============================] - 0s 1ms/step - loss: 0.3433 - accuracy: 0.8599\n",
            "Epoch 22/100\n",
            "250/250 [==============================] - 0s 1ms/step - loss: 0.3430 - accuracy: 0.8605\n",
            "Epoch 23/100\n",
            "250/250 [==============================] - 0s 1ms/step - loss: 0.3427 - accuracy: 0.8593\n",
            "Epoch 24/100\n",
            "250/250 [==============================] - 0s 1ms/step - loss: 0.3426 - accuracy: 0.8599\n",
            "Epoch 25/100\n",
            "250/250 [==============================] - 0s 1ms/step - loss: 0.3418 - accuracy: 0.8601\n",
            "Epoch 26/100\n",
            "250/250 [==============================] - 0s 1ms/step - loss: 0.3419 - accuracy: 0.8612\n",
            "Epoch 27/100\n",
            "250/250 [==============================] - 0s 1ms/step - loss: 0.3412 - accuracy: 0.8600\n",
            "Epoch 28/100\n",
            "250/250 [==============================] - 0s 1ms/step - loss: 0.3412 - accuracy: 0.8612\n",
            "Epoch 29/100\n",
            "250/250 [==============================] - 0s 1ms/step - loss: 0.3406 - accuracy: 0.8619\n",
            "Epoch 30/100\n",
            "250/250 [==============================] - 0s 1ms/step - loss: 0.3408 - accuracy: 0.8614\n",
            "Epoch 31/100\n",
            "250/250 [==============================] - 0s 1ms/step - loss: 0.3406 - accuracy: 0.8618\n",
            "Epoch 32/100\n",
            "250/250 [==============================] - 0s 1ms/step - loss: 0.3408 - accuracy: 0.8612\n",
            "Epoch 33/100\n",
            "250/250 [==============================] - 0s 1ms/step - loss: 0.3406 - accuracy: 0.8618\n",
            "Epoch 34/100\n",
            "250/250 [==============================] - 0s 1ms/step - loss: 0.3399 - accuracy: 0.8629\n",
            "Epoch 35/100\n",
            "250/250 [==============================] - 0s 1ms/step - loss: 0.3399 - accuracy: 0.8626\n",
            "Epoch 36/100\n",
            "250/250 [==============================] - 0s 1ms/step - loss: 0.3396 - accuracy: 0.8621\n",
            "Epoch 37/100\n",
            "250/250 [==============================] - 0s 1ms/step - loss: 0.3393 - accuracy: 0.8620\n",
            "Epoch 38/100\n",
            "250/250 [==============================] - 0s 1ms/step - loss: 0.3393 - accuracy: 0.8618\n",
            "Epoch 39/100\n",
            "250/250 [==============================] - 0s 1ms/step - loss: 0.3390 - accuracy: 0.8625\n",
            "Epoch 40/100\n",
            "250/250 [==============================] - 0s 1ms/step - loss: 0.3388 - accuracy: 0.8626\n",
            "Epoch 41/100\n",
            "250/250 [==============================] - 0s 1ms/step - loss: 0.3390 - accuracy: 0.8635\n",
            "Epoch 42/100\n",
            "250/250 [==============================] - 0s 1ms/step - loss: 0.3387 - accuracy: 0.8629\n",
            "Epoch 43/100\n",
            "250/250 [==============================] - 0s 1ms/step - loss: 0.3387 - accuracy: 0.8627\n",
            "Epoch 44/100\n",
            "250/250 [==============================] - 0s 1ms/step - loss: 0.3381 - accuracy: 0.8624\n",
            "Epoch 45/100\n",
            "250/250 [==============================] - 0s 1ms/step - loss: 0.3383 - accuracy: 0.8621\n",
            "Epoch 46/100\n",
            "250/250 [==============================] - 0s 1ms/step - loss: 0.3380 - accuracy: 0.8620\n",
            "Epoch 47/100\n",
            "250/250 [==============================] - 0s 1ms/step - loss: 0.3380 - accuracy: 0.8640\n",
            "Epoch 48/100\n",
            "250/250 [==============================] - 0s 1ms/step - loss: 0.3378 - accuracy: 0.8637\n",
            "Epoch 49/100\n",
            "250/250 [==============================] - 0s 1ms/step - loss: 0.3382 - accuracy: 0.8640\n",
            "Epoch 50/100\n",
            "250/250 [==============================] - 0s 1ms/step - loss: 0.3379 - accuracy: 0.8627\n",
            "Epoch 51/100\n",
            "250/250 [==============================] - 0s 1ms/step - loss: 0.3377 - accuracy: 0.8643\n",
            "Epoch 52/100\n",
            "250/250 [==============================] - 0s 1ms/step - loss: 0.3378 - accuracy: 0.8637\n",
            "Epoch 53/100\n",
            "250/250 [==============================] - 0s 1ms/step - loss: 0.3377 - accuracy: 0.8619\n",
            "Epoch 54/100\n",
            "250/250 [==============================] - 0s 1ms/step - loss: 0.3371 - accuracy: 0.8621\n",
            "Epoch 55/100\n",
            "250/250 [==============================] - 0s 1ms/step - loss: 0.3370 - accuracy: 0.8620\n",
            "Epoch 56/100\n",
            "250/250 [==============================] - 0s 1ms/step - loss: 0.3367 - accuracy: 0.8637\n",
            "Epoch 57/100\n",
            "250/250 [==============================] - 0s 1ms/step - loss: 0.3375 - accuracy: 0.8636\n",
            "Epoch 58/100\n",
            "250/250 [==============================] - 0s 1ms/step - loss: 0.3368 - accuracy: 0.8641\n",
            "Epoch 59/100\n",
            "250/250 [==============================] - 0s 1ms/step - loss: 0.3372 - accuracy: 0.8630\n",
            "Epoch 60/100\n",
            "250/250 [==============================] - 0s 1ms/step - loss: 0.3367 - accuracy: 0.8637\n",
            "Epoch 61/100\n",
            "250/250 [==============================] - 0s 1ms/step - loss: 0.3366 - accuracy: 0.8648\n",
            "Epoch 62/100\n",
            "250/250 [==============================] - 0s 1ms/step - loss: 0.3367 - accuracy: 0.8641\n",
            "Epoch 63/100\n",
            "250/250 [==============================] - 0s 1ms/step - loss: 0.3362 - accuracy: 0.8629\n",
            "Epoch 64/100\n",
            "250/250 [==============================] - 0s 1ms/step - loss: 0.3364 - accuracy: 0.8631\n",
            "Epoch 65/100\n",
            "250/250 [==============================] - 0s 1ms/step - loss: 0.3361 - accuracy: 0.8636\n",
            "Epoch 66/100\n",
            "250/250 [==============================] - 0s 1ms/step - loss: 0.3361 - accuracy: 0.8644\n",
            "Epoch 67/100\n",
            "250/250 [==============================] - 0s 1ms/step - loss: 0.3359 - accuracy: 0.8630\n",
            "Epoch 68/100\n",
            "250/250 [==============================] - 0s 1ms/step - loss: 0.3361 - accuracy: 0.8631\n",
            "Epoch 69/100\n",
            "250/250 [==============================] - 0s 1ms/step - loss: 0.3360 - accuracy: 0.8637\n",
            "Epoch 70/100\n",
            "250/250 [==============================] - 0s 1ms/step - loss: 0.3358 - accuracy: 0.8637\n",
            "Epoch 71/100\n",
            "250/250 [==============================] - 0s 1ms/step - loss: 0.3353 - accuracy: 0.8641\n",
            "Epoch 72/100\n",
            "250/250 [==============================] - 0s 1ms/step - loss: 0.3355 - accuracy: 0.8622\n",
            "Epoch 73/100\n",
            "250/250 [==============================] - 0s 1ms/step - loss: 0.3353 - accuracy: 0.8654\n",
            "Epoch 74/100\n",
            "250/250 [==============================] - 0s 1ms/step - loss: 0.3353 - accuracy: 0.8631\n",
            "Epoch 75/100\n",
            "250/250 [==============================] - 0s 1ms/step - loss: 0.3348 - accuracy: 0.8635\n",
            "Epoch 76/100\n",
            "250/250 [==============================] - 0s 1ms/step - loss: 0.3355 - accuracy: 0.8639\n",
            "Epoch 77/100\n",
            "250/250 [==============================] - 0s 1ms/step - loss: 0.3350 - accuracy: 0.8631\n",
            "Epoch 78/100\n",
            "250/250 [==============================] - 0s 1ms/step - loss: 0.3348 - accuracy: 0.8643\n",
            "Epoch 79/100\n",
            "250/250 [==============================] - 0s 1ms/step - loss: 0.3346 - accuracy: 0.8624\n",
            "Epoch 80/100\n",
            "250/250 [==============================] - 0s 1ms/step - loss: 0.3346 - accuracy: 0.8643\n",
            "Epoch 81/100\n",
            "250/250 [==============================] - 0s 1ms/step - loss: 0.3347 - accuracy: 0.8654\n",
            "Epoch 82/100\n",
            "250/250 [==============================] - 0s 1ms/step - loss: 0.3343 - accuracy: 0.8648\n",
            "Epoch 83/100\n",
            "250/250 [==============================] - 0s 1ms/step - loss: 0.3345 - accuracy: 0.8648\n",
            "Epoch 84/100\n",
            "250/250 [==============================] - 0s 1ms/step - loss: 0.3342 - accuracy: 0.8626\n",
            "Epoch 85/100\n",
            "250/250 [==============================] - 0s 1ms/step - loss: 0.3343 - accuracy: 0.8648\n",
            "Epoch 86/100\n",
            "250/250 [==============================] - 0s 1ms/step - loss: 0.3340 - accuracy: 0.8639\n",
            "Epoch 87/100\n",
            "250/250 [==============================] - 0s 1ms/step - loss: 0.3342 - accuracy: 0.8649\n",
            "Epoch 88/100\n",
            "250/250 [==============================] - 0s 1ms/step - loss: 0.3340 - accuracy: 0.8624\n",
            "Epoch 89/100\n",
            "250/250 [==============================] - 0s 1ms/step - loss: 0.3342 - accuracy: 0.8634\n",
            "Epoch 90/100\n",
            "250/250 [==============================] - 0s 1ms/step - loss: 0.3341 - accuracy: 0.8651\n",
            "Epoch 91/100\n",
            "250/250 [==============================] - 0s 1ms/step - loss: 0.3341 - accuracy: 0.8635\n",
            "Epoch 92/100\n",
            "250/250 [==============================] - 0s 1ms/step - loss: 0.3339 - accuracy: 0.8649\n",
            "Epoch 93/100\n",
            "250/250 [==============================] - 0s 1ms/step - loss: 0.3343 - accuracy: 0.8648\n",
            "Epoch 94/100\n",
            "250/250 [==============================] - 0s 1ms/step - loss: 0.3335 - accuracy: 0.8651\n",
            "Epoch 95/100\n",
            "250/250 [==============================] - 0s 1ms/step - loss: 0.3344 - accuracy: 0.8631\n",
            "Epoch 96/100\n",
            "250/250 [==============================] - 0s 1ms/step - loss: 0.3340 - accuracy: 0.8641\n",
            "Epoch 97/100\n",
            "250/250 [==============================] - 0s 1ms/step - loss: 0.3342 - accuracy: 0.8630\n",
            "Epoch 98/100\n",
            "250/250 [==============================] - 0s 1ms/step - loss: 0.3341 - accuracy: 0.8627\n",
            "Epoch 99/100\n",
            "250/250 [==============================] - 0s 1ms/step - loss: 0.3339 - accuracy: 0.8636\n",
            "Epoch 100/100\n",
            "250/250 [==============================] - 0s 1ms/step - loss: 0.3336 - accuracy: 0.8631\n"
          ],
          "name": "stdout"
        },
        {
          "output_type": "execute_result",
          "data": {
            "text/plain": [
              "<tensorflow.python.keras.callbacks.History at 0x7f1512b27f50>"
            ]
          },
          "metadata": {
            "tags": []
          },
          "execution_count": 75
        }
      ]
    },
    {
      "cell_type": "code",
      "metadata": {
        "colab": {
          "base_uri": "https://localhost:8080/"
        },
        "id": "3Z_OkABgQork",
        "outputId": "7bcaf8ad-c1e7-42e2-df70-8c0ec50f624c"
      },
      "source": [
        "# predict using ANN\n",
        "predict=ann.predict(ss.transform([[1,0,0,600,1,40,3,60000,2,1,1,50000]]))\n",
        "predict"
      ],
      "execution_count": null,
      "outputs": [
        {
          "output_type": "execute_result",
          "data": {
            "text/plain": [
              "array([[0.03785431]], dtype=float32)"
            ]
          },
          "metadata": {
            "tags": []
          },
          "execution_count": 76
        }
      ]
    },
    {
      "cell_type": "code",
      "metadata": {
        "colab": {
          "base_uri": "https://localhost:8080/"
        },
        "id": "eMxGOuMwQoud",
        "outputId": "021c6740-ace0-43cf-a1e4-f28bfeef5975"
      },
      "source": [
        "ypred=ann.predict(xtest)\n",
        "ypred"
      ],
      "execution_count": null,
      "outputs": [
        {
          "output_type": "execute_result",
          "data": {
            "text/plain": [
              "array([[0.18766052],\n",
              "       [0.31775436],\n",
              "       [0.1698449 ],\n",
              "       ...,\n",
              "       [0.20624089],\n",
              "       [0.17143753],\n",
              "       [0.22132495]], dtype=float32)"
            ]
          },
          "metadata": {
            "tags": []
          },
          "execution_count": 77
        }
      ]
    },
    {
      "cell_type": "code",
      "metadata": {
        "colab": {
          "base_uri": "https://localhost:8080/"
        },
        "id": "5ygi4g-vQozl",
        "outputId": "f4022a58-9cb7-4cf2-aaf3-8b1da70dc067"
      },
      "source": [
        "# CLASSIFICATION\n",
        "ypred=ann.predict(xtest)\n",
        "ypred=(ypred>0.5)\n",
        "print(np.concatenate((ypred.reshape(len(ypred),1),ytest.reshape(len(ytest),1)),1))"
      ],
      "execution_count": null,
      "outputs": [
        {
          "output_type": "stream",
          "text": [
            "[[0 0]\n",
            " [0 1]\n",
            " [0 0]\n",
            " ...\n",
            " [0 0]\n",
            " [0 0]\n",
            " [0 0]]\n"
          ],
          "name": "stdout"
        }
      ]
    },
    {
      "cell_type": "code",
      "metadata": {
        "id": "UUEIAMh61b6W"
      },
      "source": [
        "# REGRESSION\n",
        "# ypred=ann.predict(xtest)\n",
        "# np.set_printoptions(precision=2)\n",
        "# print(np.concatenate((ypred.reshape(len(ypred),1),ytest.reshape(len(ytest),1)),1))"
      ],
      "execution_count": null,
      "outputs": []
    },
    {
      "cell_type": "code",
      "metadata": {
        "colab": {
          "base_uri": "https://localhost:8080/"
        },
        "id": "RWFRXHKBQo2z",
        "outputId": "e88f90c4-c780-4950-a3ef-4d63cfca2be3"
      },
      "source": [
        "# confusion matrix\n",
        "from sklearn.metrics import accuracy_score,classification_report\n",
        "print(accuracy_score(ytest,ypred))\n",
        "print(classification_report(ytest,ypred,digits=4))"
      ],
      "execution_count": null,
      "outputs": [
        {
          "output_type": "stream",
          "text": [
            "0.8635\n",
            "              precision    recall  f1-score   support\n",
            "\n",
            "           0     0.8847    0.9530    0.9176      1595\n",
            "           1     0.7340    0.5111    0.6026       405\n",
            "\n",
            "    accuracy                         0.8635      2000\n",
            "   macro avg     0.8094    0.7320    0.7601      2000\n",
            "weighted avg     0.8542    0.8635    0.8538      2000\n",
            "\n"
          ],
          "name": "stdout"
        }
      ]
    },
    {
      "cell_type": "code",
      "metadata": {
        "colab": {
          "base_uri": "https://localhost:8080/",
          "height": 296
        },
        "id": "28jul1b5Qo6t",
        "outputId": "8108d471-c6ea-48f9-89cd-f0cf880c466d"
      },
      "source": [
        "from sklearn.metrics import confusion_matrix,plot_confusion_matrix,ConfusionMatrixDisplay\n",
        "cm=confusion_matrix(ytest,ypred)\n",
        "cm\n",
        "disp=ConfusionMatrixDisplay(cm,display_labels=[0,1])\n",
        "disp.plot(values_format='d')"
      ],
      "execution_count": null,
      "outputs": [
        {
          "output_type": "execute_result",
          "data": {
            "text/plain": [
              "<sklearn.metrics._plot.confusion_matrix.ConfusionMatrixDisplay at 0x7f1511913710>"
            ]
          },
          "metadata": {
            "tags": []
          },
          "execution_count": 87
        },
        {
          "output_type": "display_data",
          "data": {
            "image/png": "[encoded data removed]",
            "text/plain": [
              "<Figure size 432x288 with 2 Axes>"
            ]
          },
          "metadata": {
            "tags": [],
            "needs_background": "light"
          }
        }
      ]
    },
    {
      "cell_type": "markdown",
      "metadata": {
        "id": "oQtyNmxl5FMn"
      },
      "source": [
        "# 2 - Convolutional Neural Network (CNN)"
      ]
    },
    {
      "cell_type": "code",
      "metadata": {
        "id": "ArpUDsaj_Bpp"
      },
      "source": [
        "import tensorflow as tf\n",
        "from keras.preprocessing.image import ImageDataGenerator\n",
        "from keras.models import Sequential\n",
        "from keras.layers import Conv2D,MaxPool2D,Flatten,Dense"
      ],
      "execution_count": null,
      "outputs": []
    },
    {
      "cell_type": "code",
      "metadata": {
        "colab": {
          "base_uri": "https://localhost:8080/",
          "height": 35
        },
        "id": "g8yh_HP8r5D8",
        "outputId": "01a6dab5-f2ba-4d4b-9421-bf81b16723bd"
      },
      "source": [
        "tf.__version__"
      ],
      "execution_count": null,
      "outputs": [
        {
          "output_type": "execute_result",
          "data": {
            "application/vnd.google.colaboratory.intrinsic+json": {
              "type": "string"
            },
            "text/plain": [
              "'2.7.0'"
            ]
          },
          "metadata": {},
          "execution_count": 2
        }
      ]
    },
    {
      "cell_type": "markdown",
      "metadata": {
        "id": "BRc-KoJG5Ox-"
      },
      "source": [
        "2.1 - Preprocessing\n",
        "\n"
      ]
    },
    {
      "cell_type": "markdown",
      "metadata": {
        "id": "MHYs4TgHAhDd"
      },
      "source": [
        "Here you can read more about the ImageDataGenerator\n",
        "https://www.tensorflow.org/api_docs/python/tf/keras/preprocessing/image/ImageDataGenerator#flow_from_directory"
      ]
    },
    {
      "cell_type": "code",
      "metadata": {
        "id": "Ebthqhmq5PMn"
      },
      "source": [
        "# Prerpcessing Train Set\n",
        "train_datagen=ImageDataGenerator(rescale=1/225,shear_range=0.2,zoom_range=0.2,horizontal_flip=True)\n",
        "\n",
        "training_set = train_datagen.flow_from_directory('data/training_set',target_size=(64, 64),batch_size=32,class_mode='binary')"
      ],
      "execution_count": null,
      "outputs": []
    },
    {
      "cell_type": "code",
      "metadata": {
        "id": "TzWQEmH25PPX"
      },
      "source": [
        "# Preprocessing Test Set\n",
        "test_datagen = ImageDataGenerator(rescale=1./255)\n",
        "\n",
        "validation_generator = test_datagen.flow_from_directory('data/test_set',target_size=(64, 64),batch_size=32,class_mode='binary')"
      ],
      "execution_count": null,
      "outputs": []
    },
    {
      "cell_type": "markdown",
      "metadata": {
        "id": "O_1TVV0o_MSm"
      },
      "source": [
        "3.2 - Building CNN"
      ]
    },
    {
      "cell_type": "markdown",
      "metadata": {
        "id": "PDaQVWwZXq4k"
      },
      "source": [
        "3.2.1 Initialising CNN"
      ]
    },
    {
      "cell_type": "code",
      "metadata": {
        "id": "4lFNdp4y5PdU"
      },
      "source": [
        "cnn=Sequential()"
      ],
      "execution_count": null,
      "outputs": []
    },
    {
      "cell_type": "markdown",
      "metadata": {
        "id": "njXklXn6XwdR"
      },
      "source": [
        "3.2.2 Convolution"
      ]
    },
    {
      "cell_type": "code",
      "metadata": {
        "id": "gUckIPmS5Pkg"
      },
      "source": [
        "# Convolutional Layer\n",
        "cnn.add(Conv2D(filters=32,kernel_size=3,activation='relu',input_shape=[64,64,3]))"
      ],
      "execution_count": null,
      "outputs": []
    },
    {
      "cell_type": "markdown",
      "metadata": {
        "id": "lR-gT-vgX3nn"
      },
      "source": [
        "3.2.3 Pooling"
      ]
    },
    {
      "cell_type": "code",
      "metadata": {
        "id": "gIiNqwnG5Pnu"
      },
      "source": [
        "# Pooling Layer\n",
        "cnn.add(MaxPool2D(pool_size=2,strides=2))"
      ],
      "execution_count": null,
      "outputs": []
    },
    {
      "cell_type": "code",
      "metadata": {
        "id": "Z-ic16O35Pqe"
      },
      "source": [
        "# Add another convolutional layer\n",
        "cnn.add(Conv2D(filters=32,kernel_size=3,activation='relu'))\n",
        "cnn.add(MaxPool2D(pool_size=2,strides=2))"
      ],
      "execution_count": null,
      "outputs": []
    },
    {
      "cell_type": "markdown",
      "metadata": {
        "id": "0d9a9TC6X8ry"
      },
      "source": [
        "3.2.4 Flattening"
      ]
    },
    {
      "cell_type": "code",
      "metadata": {
        "id": "gC1Zwe2wXb4X"
      },
      "source": [
        "cnn.add(Flatten())"
      ],
      "execution_count": null,
      "outputs": []
    },
    {
      "cell_type": "markdown",
      "metadata": {
        "id": "O1owgCqXYF_v"
      },
      "source": [
        "3.2.5 Fully connection"
      ]
    },
    {
      "cell_type": "code",
      "metadata": {
        "id": "BH4fYlb_YJQU"
      },
      "source": [
        "cnn.add(Dense(units=128,activation='relu'))"
      ],
      "execution_count": null,
      "outputs": []
    },
    {
      "cell_type": "markdown",
      "metadata": {
        "id": "rBePQsAkYJdN"
      },
      "source": [
        "3.2.6 Output Layer"
      ]
    },
    {
      "cell_type": "code",
      "metadata": {
        "id": "h4gc_6wjZZxj"
      },
      "source": [
        "cnn.add(Dense(units=1,activation='sigmoid'))"
      ],
      "execution_count": null,
      "outputs": []
    },
    {
      "cell_type": "markdown",
      "metadata": {
        "id": "9WGj9ODu_Qog"
      },
      "source": [
        "3.3 - Training"
      ]
    },
    {
      "cell_type": "markdown",
      "metadata": {
        "id": "85TXRmdBayNR"
      },
      "source": [
        "3.3.1 Compiling CNN"
      ]
    },
    {
      "cell_type": "code",
      "metadata": {
        "id": "Xtq4HAJy5Ptg"
      },
      "source": [
        "cnn.compile(optimizer='adam',loss='binary_crossentropy',metrics=['accuracy'])"
      ],
      "execution_count": null,
      "outputs": []
    },
    {
      "cell_type": "markdown",
      "metadata": {
        "id": "xTVGzwjLa2mt"
      },
      "source": [
        "3.3.2 Training on training set and evaluation on test set"
      ]
    },
    {
      "cell_type": "code",
      "metadata": {
        "id": "ygH-h9pF5Pwi"
      },
      "source": [
        "cnn.fit(x=training_set,validation_data=test_set,epochs=100)"
      ],
      "execution_count": null,
      "outputs": []
    },
    {
      "cell_type": "markdown",
      "metadata": {
        "id": "pZKXU5jNTXyc"
      },
      "source": [
        "3.4 Predicting new image"
      ]
    },
    {
      "cell_type": "code",
      "metadata": {
        "id": "-gmP8wlP5Pzh"
      },
      "source": [
        "import numpy as np\n",
        "from keras.preprocessing import image"
      ],
      "execution_count": null,
      "outputs": []
    },
    {
      "cell_type": "code",
      "metadata": {
        "id": "uZCsY2JJTjQ1"
      },
      "source": [
        "test_img = image.load_img('datset/image_name',target_size=(64*64))\n",
        "test_img = image.img_to_array(test_img)\n",
        "test_img = np.expand_dims(test_img,axis=0)  # Convert single image to a batch.\n",
        "# test_img = np.array([test_img])  # Convert single image to a batch.\n",
        "results = cnn.predict(test_img)"
      ],
      "execution_count": null,
      "outputs": []
    },
    {
      "cell_type": "code",
      "metadata": {
        "id": "GJRugxbbYTTg"
      },
      "source": [
        "print(training_set.class_indicies)\n",
        "if results[0][0]==1:\n",
        "  prediction='dog'\n",
        "else:\n",
        "  prediction='cat'\n",
        "\n",
        "print(prediction)"
      ],
      "execution_count": null,
      "outputs": []
    },
    {
      "cell_type": "markdown",
      "metadata": {
        "id": "OR4vfV0ti4d8"
      },
      "source": [
        "# 3 - Recurrent Neural Network - (RNN)"
      ]
    },
    {
      "cell_type": "markdown",
      "metadata": {
        "id": "VIvY45Y2HODQ"
      },
      "source": [
        "3.1 - Preprocessing"
      ]
    },
    {
      "cell_type": "code",
      "metadata": {
        "id": "3Jf9d-uTi4nh"
      },
      "source": [
        "import pandas as pd\n",
        "import numpy as np\n",
        "import matplotlib.pyplot as plt\n"
      ],
      "execution_count": null,
      "outputs": []
    },
    {
      "cell_type": "code",
      "metadata": {
        "colab": {
          "base_uri": "https://localhost:8080/",
          "height": 204
        },
        "id": "uPcyclwfjMCT",
        "outputId": "4fc62b58-0ada-4740-db58-f7a8af098e7f"
      },
      "source": [
        "data=pd.read_csv('Google_Stock_Price_Train.csv')\n",
        "data.head()"
      ],
      "execution_count": null,
      "outputs": [
        {
          "output_type": "execute_result",
          "data": {
            "text/html": [
              "<div>\n",
              "<style scoped>\n",
              "    .dataframe tbody tr th:only-of-type {\n",
              "        vertical-align: middle;\n",
              "    }\n",
              "\n",
              "    .dataframe tbody tr th {\n",
              "        vertical-align: top;\n",
              "    }\n",
              "\n",
              "    .dataframe thead th {\n",
              "        text-align: right;\n",
              "    }\n",
              "</style>\n",
              "<table border=\"1\" class=\"dataframe\">\n",
              "  <thead>\n",
              "    <tr style=\"text-align: right;\">\n",
              "      <th></th>\n",
              "      <th>Date</th>\n",
              "      <th>Open</th>\n",
              "      <th>High</th>\n",
              "      <th>Low</th>\n",
              "      <th>Close</th>\n",
              "      <th>Volume</th>\n",
              "    </tr>\n",
              "  </thead>\n",
              "  <tbody>\n",
              "    <tr>\n",
              "      <th>0</th>\n",
              "      <td>1/3/2012</td>\n",
              "      <td>325.25</td>\n",
              "      <td>332.83</td>\n",
              "      <td>324.97</td>\n",
              "      <td>663.59</td>\n",
              "      <td>7,380,500</td>\n",
              "    </tr>\n",
              "    <tr>\n",
              "      <th>1</th>\n",
              "      <td>1/4/2012</td>\n",
              "      <td>331.27</td>\n",
              "      <td>333.87</td>\n",
              "      <td>329.08</td>\n",
              "      <td>666.45</td>\n",
              "      <td>5,749,400</td>\n",
              "    </tr>\n",
              "    <tr>\n",
              "      <th>2</th>\n",
              "      <td>1/5/2012</td>\n",
              "      <td>329.83</td>\n",
              "      <td>330.75</td>\n",
              "      <td>326.89</td>\n",
              "      <td>657.21</td>\n",
              "      <td>6,590,300</td>\n",
              "    </tr>\n",
              "    <tr>\n",
              "      <th>3</th>\n",
              "      <td>1/6/2012</td>\n",
              "      <td>328.34</td>\n",
              "      <td>328.77</td>\n",
              "      <td>323.68</td>\n",
              "      <td>648.24</td>\n",
              "      <td>5,405,900</td>\n",
              "    </tr>\n",
              "    <tr>\n",
              "      <th>4</th>\n",
              "      <td>1/9/2012</td>\n",
              "      <td>322.04</td>\n",
              "      <td>322.29</td>\n",
              "      <td>309.46</td>\n",
              "      <td>620.76</td>\n",
              "      <td>11,688,800</td>\n",
              "    </tr>\n",
              "  </tbody>\n",
              "</table>\n",
              "</div>"
            ],
            "text/plain": [
              "       Date    Open    High     Low   Close      Volume\n",
              "0  1/3/2012  325.25  332.83  324.97  663.59   7,380,500\n",
              "1  1/4/2012  331.27  333.87  329.08  666.45   5,749,400\n",
              "2  1/5/2012  329.83  330.75  326.89  657.21   6,590,300\n",
              "3  1/6/2012  328.34  328.77  323.68  648.24   5,405,900\n",
              "4  1/9/2012  322.04  322.29  309.46  620.76  11,688,800"
            ]
          },
          "metadata": {
            "tags": []
          },
          "execution_count": 4
        }
      ]
    },
    {
      "cell_type": "code",
      "metadata": {
        "colab": {
          "base_uri": "https://localhost:8080/"
        },
        "id": "lyyR1mGDjMFB",
        "outputId": "ad2f03f1-8327-4832-ec17-50a9d522d6a6"
      },
      "source": [
        "train=data.iloc[:,1:2].values\n",
        "train"
      ],
      "execution_count": null,
      "outputs": [
        {
          "output_type": "execute_result",
          "data": {
            "text/plain": [
              "array([[325.25],\n",
              "       [331.27],\n",
              "       [329.83],\n",
              "       ...,\n",
              "       [793.7 ],\n",
              "       [783.33],\n",
              "       [782.75]])"
            ]
          },
          "metadata": {
            "tags": []
          },
          "execution_count": 5
        }
      ]
    },
    {
      "cell_type": "code",
      "metadata": {
        "colab": {
          "base_uri": "https://localhost:8080/"
        },
        "id": "WrQII-uhjMIX",
        "outputId": "b94449bd-c037-4836-be2b-d2c9b752ec35"
      },
      "source": [
        "from sklearn.preprocessing import MinMaxScaler\n",
        "sc=MinMaxScaler(feature_range=(0,1))\n",
        "train_sc=sc.fit_transform(train)\n",
        "len(train_sc)"
      ],
      "execution_count": null,
      "outputs": [
        {
          "output_type": "execute_result",
          "data": {
            "text/plain": [
              "1258"
            ]
          },
          "metadata": {
            "tags": []
          },
          "execution_count": 6
        }
      ]
    },
    {
      "cell_type": "markdown",
      "metadata": {
        "id": "iNtG9Y0gJUXP"
      },
      "source": [
        "3.1.1 - Creating a data structure with 60 timesteps and 1output"
      ]
    },
    {
      "cell_type": "code",
      "metadata": {
        "colab": {
          "base_uri": "https://localhost:8080/"
        },
        "id": "iJN6-EdVi4qg",
        "outputId": "039caf27-119c-412b-97ef-9a47efbf29df"
      },
      "source": [
        "xtrain=[]\n",
        "ytrain=[]\n",
        "for i in range(60,len(train)):\n",
        "  xtrain.append(train_sc[i-60:i,0])\n",
        "  ytrain.append(train_sc[i,0])\n",
        "\n",
        "xtrain=np.array(xtrain)\n",
        "ytrain=np.array(ytrain)\n",
        "xtrain.shape"
      ],
      "execution_count": null,
      "outputs": [
        {
          "output_type": "execute_result",
          "data": {
            "text/plain": [
              "(1198, 60)"
            ]
          },
          "metadata": {
            "tags": []
          },
          "execution_count": 7
        }
      ]
    },
    {
      "cell_type": "markdown",
      "metadata": {
        "id": "BNVzt3K_Na3K"
      },
      "source": [
        "3.1.2 Reshaping"
      ]
    },
    {
      "cell_type": "code",
      "metadata": {
        "colab": {
          "base_uri": "https://localhost:8080/"
        },
        "id": "MwTbZpk7i4ve",
        "outputId": "a38280e7-2f9b-4601-e72d-55f7d6c02f5e"
      },
      "source": [
        "xtrain=np.reshape(xtrain,(xtrain.shape[0],xtrain.shape[1],1))\n",
        "xtrain.shape"
      ],
      "execution_count": null,
      "outputs": [
        {
          "output_type": "execute_result",
          "data": {
            "text/plain": [
              "(1198, 60, 1)"
            ]
          },
          "metadata": {
            "tags": []
          },
          "execution_count": 8
        }
      ]
    },
    {
      "cell_type": "markdown",
      "metadata": {
        "id": "DgNLL9zQt3Iy"
      },
      "source": [
        "3.2 - Builing RNN"
      ]
    },
    {
      "cell_type": "code",
      "metadata": {
        "id": "OTnGM0U7Nie8"
      },
      "source": [
        "from keras.models import Sequential\n",
        "from keras.layers import Dense,LSTM,Dropout"
      ],
      "execution_count": null,
      "outputs": []
    },
    {
      "cell_type": "code",
      "metadata": {
        "id": "ykTcrfyRNihl"
      },
      "source": [
        "# Initialize RNN\n",
        "regressor=Sequential()\n",
        "\n",
        "# Add first LSTM layer and some droupout regularization\n",
        "regressor.add(LSTM(units=50,return_sequences=True,input_shape=(xtrain.shape[1],1)))\n",
        "regressor.add(Dropout(0.2))\n",
        "\n",
        "# Add second LSTM layer and some droupout regularization\n",
        "regressor.add(LSTM(units=50,return_sequences=True))\n",
        "regressor.add(Dropout(0.2))\n",
        "\n",
        "# Add third LSTM layer and some droupout regularization\n",
        "regressor.add(LSTM(units=50,return_sequences=True))\n",
        "regressor.add(Dropout(0.2))\n",
        "\n",
        "# Add Fourth LSTM layer and some droupout regularization\n",
        "regressor.add(LSTM(units=50))\n",
        "regressor.add(Dropout(0.2))\n",
        "\n",
        "# Add output layer\n",
        "regressor.add(Dense(units=1))"
      ],
      "execution_count": null,
      "outputs": []
    },
    {
      "cell_type": "code",
      "metadata": {
        "id": "xvFMQcXmNika"
      },
      "source": [
        "# Compiling RNN\n",
        "regressor.compile(optimizer='adam',loss='mean_squared_error')\n",
        "# regressor.compile(optimizer='rmsprop',loss='mean_squared_error')"
      ],
      "execution_count": null,
      "outputs": []
    },
    {
      "cell_type": "code",
      "metadata": {
        "colab": {
          "base_uri": "https://localhost:8080/"
        },
        "id": "JF5AM5XONim9",
        "outputId": "6fa7a5a4-d15b-46e8-eb18-c561e2e23d3a"
      },
      "source": [
        "regressor.fit(xtrain,ytrain,epochs=100,batch_size=32)"
      ],
      "execution_count": null,
      "outputs": [
        {
          "output_type": "stream",
          "text": [
            "Epoch 1/100\n",
            "38/38 [==============================] - 29s 113ms/step - loss: 0.0824\n",
            "Epoch 2/100\n",
            "38/38 [==============================] - 4s 112ms/step - loss: 0.0065\n",
            "Epoch 3/100\n",
            "38/38 [==============================] - 4s 113ms/step - loss: 0.0061\n",
            "Epoch 4/100\n",
            "38/38 [==============================] - 4s 114ms/step - loss: 0.0045\n",
            "Epoch 5/100\n",
            "38/38 [==============================] - 4s 112ms/step - loss: 0.0057\n",
            "Epoch 6/100\n",
            "38/38 [==============================] - 4s 112ms/step - loss: 0.0046\n",
            "Epoch 7/100\n",
            "38/38 [==============================] - 4s 114ms/step - loss: 0.0044\n",
            "Epoch 8/100\n",
            "38/38 [==============================] - 4s 116ms/step - loss: 0.0044\n",
            "Epoch 9/100\n",
            "38/38 [==============================] - 4s 111ms/step - loss: 0.0040\n",
            "Epoch 10/100\n",
            "38/38 [==============================] - 4s 111ms/step - loss: 0.0041\n",
            "Epoch 11/100\n",
            "38/38 [==============================] - 4s 114ms/step - loss: 0.0044\n",
            "Epoch 12/100\n",
            "38/38 [==============================] - 4s 111ms/step - loss: 0.0048\n",
            "Epoch 13/100\n",
            "38/38 [==============================] - 4s 110ms/step - loss: 0.0036\n",
            "Epoch 14/100\n",
            "38/38 [==============================] - 4s 113ms/step - loss: 0.0042\n",
            "Epoch 15/100\n",
            "38/38 [==============================] - 4s 110ms/step - loss: 0.0041\n",
            "Epoch 16/100\n",
            "38/38 [==============================] - 4s 111ms/step - loss: 0.0038\n",
            "Epoch 17/100\n",
            "38/38 [==============================] - 4s 110ms/step - loss: 0.0036\n",
            "Epoch 18/100\n",
            "38/38 [==============================] - 4s 112ms/step - loss: 0.0039\n",
            "Epoch 19/100\n",
            "38/38 [==============================] - 4s 112ms/step - loss: 0.0037\n",
            "Epoch 20/100\n",
            "38/38 [==============================] - 4s 112ms/step - loss: 0.0051\n",
            "Epoch 21/100\n",
            "38/38 [==============================] - 4s 113ms/step - loss: 0.0031\n",
            "Epoch 22/100\n",
            "38/38 [==============================] - 4s 112ms/step - loss: 0.0030\n",
            "Epoch 23/100\n",
            "38/38 [==============================] - 4s 110ms/step - loss: 0.0038\n",
            "Epoch 24/100\n",
            "38/38 [==============================] - 4s 112ms/step - loss: 0.0028\n",
            "Epoch 25/100\n",
            "38/38 [==============================] - 4s 112ms/step - loss: 0.0031\n",
            "Epoch 26/100\n",
            "38/38 [==============================] - 4s 114ms/step - loss: 0.0030\n",
            "Epoch 27/100\n",
            "38/38 [==============================] - 4s 115ms/step - loss: 0.0031\n",
            "Epoch 28/100\n",
            "38/38 [==============================] - 4s 114ms/step - loss: 0.0031\n",
            "Epoch 29/100\n",
            "38/38 [==============================] - 4s 111ms/step - loss: 0.0031\n",
            "Epoch 30/100\n",
            "38/38 [==============================] - 4s 111ms/step - loss: 0.0030\n",
            "Epoch 31/100\n",
            "38/38 [==============================] - 4s 113ms/step - loss: 0.0029\n",
            "Epoch 32/100\n",
            "38/38 [==============================] - 4s 115ms/step - loss: 0.0032\n",
            "Epoch 33/100\n",
            "38/38 [==============================] - 4s 114ms/step - loss: 0.0026\n",
            "Epoch 34/100\n",
            "38/38 [==============================] - 4s 112ms/step - loss: 0.0034\n",
            "Epoch 35/100\n",
            "38/38 [==============================] - 4s 113ms/step - loss: 0.0028\n",
            "Epoch 36/100\n",
            "38/38 [==============================] - 4s 115ms/step - loss: 0.0027\n",
            "Epoch 37/100\n",
            "38/38 [==============================] - 4s 116ms/step - loss: 0.0029\n",
            "Epoch 38/100\n",
            "38/38 [==============================] - 4s 115ms/step - loss: 0.0026\n",
            "Epoch 39/100\n",
            "38/38 [==============================] - 4s 115ms/step - loss: 0.0026\n",
            "Epoch 40/100\n",
            "38/38 [==============================] - 4s 113ms/step - loss: 0.0031\n",
            "Epoch 41/100\n",
            "38/38 [==============================] - 4s 114ms/step - loss: 0.0023\n",
            "Epoch 42/100\n",
            "38/38 [==============================] - 4s 112ms/step - loss: 0.0024\n",
            "Epoch 43/100\n",
            "38/38 [==============================] - 4s 113ms/step - loss: 0.0026\n",
            "Epoch 44/100\n",
            "38/38 [==============================] - 4s 111ms/step - loss: 0.0024\n",
            "Epoch 45/100\n",
            "38/38 [==============================] - 4s 113ms/step - loss: 0.0025\n",
            "Epoch 46/100\n",
            "38/38 [==============================] - 4s 113ms/step - loss: 0.0025\n",
            "Epoch 47/100\n",
            "38/38 [==============================] - 4s 111ms/step - loss: 0.0025\n",
            "Epoch 48/100\n",
            "38/38 [==============================] - 4s 112ms/step - loss: 0.0021\n",
            "Epoch 49/100\n",
            "38/38 [==============================] - 4s 111ms/step - loss: 0.0024\n",
            "Epoch 50/100\n",
            "38/38 [==============================] - 4s 113ms/step - loss: 0.0021\n",
            "Epoch 51/100\n",
            "38/38 [==============================] - 4s 112ms/step - loss: 0.0024\n",
            "Epoch 52/100\n",
            "38/38 [==============================] - 4s 113ms/step - loss: 0.0021\n",
            "Epoch 53/100\n",
            "38/38 [==============================] - 4s 116ms/step - loss: 0.0023\n",
            "Epoch 54/100\n",
            "38/38 [==============================] - 4s 114ms/step - loss: 0.0023\n",
            "Epoch 55/100\n",
            "38/38 [==============================] - 4s 113ms/step - loss: 0.0021\n",
            "Epoch 56/100\n",
            "38/38 [==============================] - 4s 113ms/step - loss: 0.0021\n",
            "Epoch 57/100\n",
            "38/38 [==============================] - 5s 119ms/step - loss: 0.0019\n",
            "Epoch 58/100\n",
            "38/38 [==============================] - 4s 114ms/step - loss: 0.0018\n",
            "Epoch 59/100\n",
            "38/38 [==============================] - 4s 113ms/step - loss: 0.0023\n",
            "Epoch 60/100\n",
            "38/38 [==============================] - 4s 113ms/step - loss: 0.0023\n",
            "Epoch 61/100\n",
            "38/38 [==============================] - 4s 114ms/step - loss: 0.0019\n",
            "Epoch 62/100\n",
            "38/38 [==============================] - 4s 112ms/step - loss: 0.0016\n",
            "Epoch 63/100\n",
            "38/38 [==============================] - 4s 117ms/step - loss: 0.0022\n",
            "Epoch 64/100\n",
            "38/38 [==============================] - 4s 112ms/step - loss: 0.0018\n",
            "Epoch 65/100\n",
            "38/38 [==============================] - 4s 113ms/step - loss: 0.0016\n",
            "Epoch 66/100\n",
            "38/38 [==============================] - 4s 113ms/step - loss: 0.0019\n",
            "Epoch 67/100\n",
            "38/38 [==============================] - 4s 115ms/step - loss: 0.0016\n",
            "Epoch 68/100\n",
            "38/38 [==============================] - 4s 113ms/step - loss: 0.0021\n",
            "Epoch 69/100\n",
            "38/38 [==============================] - 4s 113ms/step - loss: 0.0023\n",
            "Epoch 70/100\n",
            "38/38 [==============================] - 4s 114ms/step - loss: 0.0018\n",
            "Epoch 71/100\n",
            "38/38 [==============================] - 4s 114ms/step - loss: 0.0019\n",
            "Epoch 72/100\n",
            "38/38 [==============================] - 4s 113ms/step - loss: 0.0019\n",
            "Epoch 73/100\n",
            "38/38 [==============================] - 4s 116ms/step - loss: 0.0017\n",
            "Epoch 74/100\n",
            "38/38 [==============================] - 4s 113ms/step - loss: 0.0019\n",
            "Epoch 75/100\n",
            "38/38 [==============================] - 4s 113ms/step - loss: 0.0022\n",
            "Epoch 76/100\n",
            "38/38 [==============================] - 4s 111ms/step - loss: 0.0018\n",
            "Epoch 77/100\n",
            "38/38 [==============================] - 4s 114ms/step - loss: 0.0015\n",
            "Epoch 78/100\n",
            "38/38 [==============================] - 4s 115ms/step - loss: 0.0020\n",
            "Epoch 79/100\n",
            "38/38 [==============================] - 4s 113ms/step - loss: 0.0018\n",
            "Epoch 80/100\n",
            "38/38 [==============================] - 4s 113ms/step - loss: 0.0017\n",
            "Epoch 81/100\n",
            "38/38 [==============================] - 4s 113ms/step - loss: 0.0016\n",
            "Epoch 82/100\n",
            "38/38 [==============================] - 4s 113ms/step - loss: 0.0019\n",
            "Epoch 83/100\n",
            "38/38 [==============================] - 4s 112ms/step - loss: 0.0017\n",
            "Epoch 84/100\n",
            "38/38 [==============================] - 4s 112ms/step - loss: 0.0015\n",
            "Epoch 85/100\n",
            "38/38 [==============================] - 4s 112ms/step - loss: 0.0019\n",
            "Epoch 86/100\n",
            "38/38 [==============================] - 4s 111ms/step - loss: 0.0014\n",
            "Epoch 87/100\n",
            "38/38 [==============================] - 4s 111ms/step - loss: 0.0016\n",
            "Epoch 88/100\n",
            "38/38 [==============================] - 4s 114ms/step - loss: 0.0018\n",
            "Epoch 89/100\n",
            "38/38 [==============================] - 4s 112ms/step - loss: 0.0016\n",
            "Epoch 90/100\n",
            "38/38 [==============================] - 4s 111ms/step - loss: 0.0013\n",
            "Epoch 91/100\n",
            "38/38 [==============================] - 4s 112ms/step - loss: 0.0016\n",
            "Epoch 92/100\n",
            "38/38 [==============================] - 4s 110ms/step - loss: 0.0018\n",
            "Epoch 93/100\n",
            "38/38 [==============================] - 4s 110ms/step - loss: 0.0014\n",
            "Epoch 94/100\n",
            "38/38 [==============================] - 4s 109ms/step - loss: 0.0016\n",
            "Epoch 95/100\n",
            "38/38 [==============================] - 4s 114ms/step - loss: 0.0015\n",
            "Epoch 96/100\n",
            "38/38 [==============================] - 4s 113ms/step - loss: 0.0015\n",
            "Epoch 97/100\n",
            "38/38 [==============================] - 4s 111ms/step - loss: 0.0014\n",
            "Epoch 98/100\n",
            "38/38 [==============================] - 4s 113ms/step - loss: 0.0017\n",
            "Epoch 99/100\n",
            "38/38 [==============================] - 4s 114ms/step - loss: 0.0013\n",
            "Epoch 100/100\n",
            "38/38 [==============================] - 4s 114ms/step - loss: 0.0015\n"
          ],
          "name": "stdout"
        },
        {
          "output_type": "execute_result",
          "data": {
            "text/plain": [
              "<keras.callbacks.History at 0x7f75396ef110>"
            ]
          },
          "metadata": {
            "tags": []
          },
          "execution_count": 12
        }
      ]
    },
    {
      "cell_type": "markdown",
      "metadata": {
        "id": "jxpTlO9atUtP"
      },
      "source": [
        "3.3 - Prediction & Visualization"
      ]
    },
    {
      "cell_type": "code",
      "metadata": {
        "id": "TWWBq2LyNips",
        "colab": {
          "base_uri": "https://localhost:8080/"
        },
        "outputId": "9769aa0f-52a8-4c38-d0b1-401ee9142245"
      },
      "source": [
        "data_test=pd.read_csv('Google_Stock_Price_Test.csv')\n",
        "data_test.shape"
      ],
      "execution_count": null,
      "outputs": [
        {
          "output_type": "execute_result",
          "data": {
            "text/plain": [
              "(20, 6)"
            ]
          },
          "metadata": {
            "tags": []
          },
          "execution_count": 16
        }
      ]
    },
    {
      "cell_type": "code",
      "metadata": {
        "id": "0TfD2PAkNir5",
        "colab": {
          "base_uri": "https://localhost:8080/"
        },
        "outputId": "2fc08eac-0d6c-492a-bbf9-f097ee2bdbf1"
      },
      "source": [
        "test=data_test.iloc[:,1:2].values\n",
        "test.shape"
      ],
      "execution_count": null,
      "outputs": [
        {
          "output_type": "execute_result",
          "data": {
            "text/plain": [
              "(20, 1)"
            ]
          },
          "metadata": {
            "tags": []
          },
          "execution_count": 17
        }
      ]
    },
    {
      "cell_type": "code",
      "metadata": {
        "id": "egTvqFD6Niu4"
      },
      "source": [
        "total=pd.concat((data['Open'][-60:],data_test['Open']),axis=0).values\n",
        "total=total.reshape(-1,1)\n"
      ],
      "execution_count": null,
      "outputs": []
    },
    {
      "cell_type": "code",
      "metadata": {
        "id": "cXAKw3ikNixE"
      },
      "source": [
        "total=sc.transform(total)\n"
      ],
      "execution_count": null,
      "outputs": []
    },
    {
      "cell_type": "code",
      "metadata": {
        "id": "wJ4ZUZQf10HA"
      },
      "source": [
        "xtest=[]\n",
        "for i in range(60,len(total)):\n",
        "  xtest.append(total[i-60:i,0])\n",
        "xtest=np.array(xtest)\n"
      ],
      "execution_count": null,
      "outputs": []
    },
    {
      "cell_type": "code",
      "metadata": {
        "colab": {
          "base_uri": "https://localhost:8080/"
        },
        "id": "qxjszisf10J-",
        "outputId": "efb0173b-3ce9-42e7-c679-766c89c945a8"
      },
      "source": [
        "xtest=np.reshape(xtest,(xtest.shape[0],xtest.shape[1],1))\n",
        "xtest.shape"
      ],
      "execution_count": null,
      "outputs": [
        {
          "output_type": "execute_result",
          "data": {
            "text/plain": [
              "(20, 60, 1)"
            ]
          },
          "metadata": {
            "tags": []
          },
          "execution_count": 61
        }
      ]
    },
    {
      "cell_type": "code",
      "metadata": {
        "id": "1hLZ2be310My"
      },
      "source": [
        "ypred=regressor.predict(xtest)\n",
        "ypred=sc.inverse_transform(ypred)"
      ],
      "execution_count": null,
      "outputs": []
    },
    {
      "cell_type": "code",
      "metadata": {
        "colab": {
          "base_uri": "https://localhost:8080/",
          "height": 298
        },
        "id": "BwFTdGkB8bbC",
        "outputId": "a02c6173-502f-40d8-db06-309de6579dd6"
      },
      "source": [
        "plt.plot(test,color='blue',label='Real')\n",
        "plt.plot(ypred,color='red',label='Predicted')\n",
        "plt.xlabel('Time')\n",
        "plt.ylabel('Stock Price')"
      ],
      "execution_count": null,
      "outputs": [
        {
          "output_type": "execute_result",
          "data": {
            "text/plain": [
              "Text(0, 0.5, 'Stock Price')"
            ]
          },
          "metadata": {
            "tags": []
          },
          "execution_count": 68
        },
        {
          "output_type": "display_data",
          "data": {
            "image/png": "[encoded data removed]",
            "text/plain": [
              "<Figure size 432x288 with 1 Axes>"
            ]
          },
          "metadata": {
            "tags": [],
            "needs_background": "light"
          }
        }
      ]
    },
    {
      "cell_type": "code",
      "metadata": {
        "colab": {
          "base_uri": "https://localhost:8080/"
        },
        "id": "d-EjL2iB8bmZ",
        "outputId": "18ea1cb2-53ab-402d-e4a1-d6a9c94bed91"
      },
      "source": [
        "import math\n",
        "from sklearn.metrics import mean_squared_error\n",
        "rmse = math.sqrt(mean_squared_error(test, ypred))\n",
        "rmse"
      ],
      "execution_count": null,
      "outputs": [
        {
          "output_type": "execute_result",
          "data": {
            "text/plain": [
              "12.776213453004063"
            ]
          },
          "metadata": {
            "tags": []
          },
          "execution_count": 69
        }
      ]
    },
    {
      "cell_type": "markdown",
      "metadata": {
        "id": "IyaeFUO7-C2d"
      },
      "source": [
        "**here are different ways to improve the RNN model:**\n",
        "\n",
        "1- Getting more training data: we trained our model on the past 5 years of the Google Stock Price but it would be even better to train it on the past 10 years.\n",
        "\n",
        "\n",
        "2- Increasing the number of timesteps: the model remembered the stock prices from the 60 previous financial days to predict the stock price of the next day. That’s because we chose a number of 60 timesteps (3 months). You could try to increase the number of timesteps, by choosing for example 120 timesteps (6 months).\n",
        "\n",
        "3- Adding some other indicators: if you have the financial instinct that the stock price of some other companies might be correlated to the one of Google, you could add this other stock price as a new indicator in the training data.\n",
        "\n",
        "4- Adding more LSTM layers: we built a RNN with four LSTM layers but you could try with even more.\n",
        "\n",
        "5- Adding more neurones in the LSTM layers: we highlighted the fact that we needed a high number of neurones in the LSTM layers to respond better to the complexity of the problem and we chose to include 50 neurones in each of our 4 LSTM layers. You could try an architecture with even more neurones in each of the 4 (or more) LSTM layers."
      ]
    },
    {
      "cell_type": "code",
      "metadata": {
        "id": "RISZFaU5-XM0"
      },
      "source": [
        ""
      ],
      "execution_count": null,
      "outputs": []
    },
    {
      "cell_type": "code",
      "metadata": {
        "id": "54zjcvmY-XWJ"
      },
      "source": [
        ""
      ],
      "execution_count": null,
      "outputs": []
    },
    {
      "cell_type": "markdown",
      "metadata": {
        "id": "mm4DfOw_IkXT"
      },
      "source": [
        "# 4 - Self Organized Maps (SOM)"
      ]
    },
    {
      "cell_type": "markdown",
      "metadata": {
        "id": "ZkXW3GiHM9lU"
      },
      "source": [
        "4.1 - SOM"
      ]
    },
    {
      "cell_type": "code",
      "metadata": {
        "id": "8l5uRjojIsU6"
      },
      "source": [
        "import numpy as np\n",
        "import pandas as pd\n",
        "import matplotlib.pyplot as plt"
      ],
      "execution_count": null,
      "outputs": []
    },
    {
      "cell_type": "code",
      "metadata": {
        "colab": {
          "base_uri": "https://localhost:8080/",
          "height": 250
        },
        "id": "PNDAfDsQIsXv",
        "outputId": "367f2b1b-45e0-4288-e717-8b59ab62ea0a"
      },
      "source": [
        "data1=pd.read_csv('Credit_Card_Applications1.csv')\n",
        "data1.head()"
      ],
      "execution_count": null,
      "outputs": [
        {
          "output_type": "execute_result",
          "data": {
            "text/html": [
              "\n",
              "  <div id=\"df-7342d24b-5978-467a-9893-b51a541df123\">\n",
              "    <div class=\"colab-df-container\">\n",
              "      <div>\n",
              "<style scoped>\n",
              "    .dataframe tbody tr th:only-of-type {\n",
              "        vertical-align: middle;\n",
              "    }\n",
              "\n",
              "    .dataframe tbody tr th {\n",
              "        vertical-align: top;\n",
              "    }\n",
              "\n",
              "    .dataframe thead th {\n",
              "        text-align: right;\n",
              "    }\n",
              "</style>\n",
              "<table border=\"1\" class=\"dataframe\">\n",
              "  <thead>\n",
              "    <tr style=\"text-align: right;\">\n",
              "      <th></th>\n",
              "      <th>CustomerID</th>\n",
              "      <th>A1</th>\n",
              "      <th>A2</th>\n",
              "      <th>A3</th>\n",
              "      <th>A4</th>\n",
              "      <th>A5</th>\n",
              "      <th>A6</th>\n",
              "      <th>A7</th>\n",
              "      <th>A8</th>\n",
              "      <th>A9</th>\n",
              "      <th>A10</th>\n",
              "      <th>A11</th>\n",
              "      <th>A12</th>\n",
              "      <th>A13</th>\n",
              "      <th>A14</th>\n",
              "      <th>Class</th>\n",
              "    </tr>\n",
              "  </thead>\n",
              "  <tbody>\n",
              "    <tr>\n",
              "      <th>0</th>\n",
              "      <td>15776156</td>\n",
              "      <td>1</td>\n",
              "      <td>22.08</td>\n",
              "      <td>11.46</td>\n",
              "      <td>2</td>\n",
              "      <td>4</td>\n",
              "      <td>4</td>\n",
              "      <td>1.585</td>\n",
              "      <td>0</td>\n",
              "      <td>0</td>\n",
              "      <td>0</td>\n",
              "      <td>1</td>\n",
              "      <td>2</td>\n",
              "      <td>100</td>\n",
              "      <td>1213</td>\n",
              "      <td>0</td>\n",
              "    </tr>\n",
              "    <tr>\n",
              "      <th>1</th>\n",
              "      <td>15739548</td>\n",
              "      <td>0</td>\n",
              "      <td>22.67</td>\n",
              "      <td>7.00</td>\n",
              "      <td>2</td>\n",
              "      <td>8</td>\n",
              "      <td>4</td>\n",
              "      <td>0.165</td>\n",
              "      <td>0</td>\n",
              "      <td>0</td>\n",
              "      <td>0</td>\n",
              "      <td>0</td>\n",
              "      <td>2</td>\n",
              "      <td>160</td>\n",
              "      <td>1</td>\n",
              "      <td>0</td>\n",
              "    </tr>\n",
              "    <tr>\n",
              "      <th>2</th>\n",
              "      <td>15662854</td>\n",
              "      <td>0</td>\n",
              "      <td>29.58</td>\n",
              "      <td>1.75</td>\n",
              "      <td>1</td>\n",
              "      <td>4</td>\n",
              "      <td>4</td>\n",
              "      <td>1.250</td>\n",
              "      <td>0</td>\n",
              "      <td>0</td>\n",
              "      <td>0</td>\n",
              "      <td>1</td>\n",
              "      <td>2</td>\n",
              "      <td>280</td>\n",
              "      <td>1</td>\n",
              "      <td>0</td>\n",
              "    </tr>\n",
              "    <tr>\n",
              "      <th>3</th>\n",
              "      <td>15687688</td>\n",
              "      <td>0</td>\n",
              "      <td>21.67</td>\n",
              "      <td>11.50</td>\n",
              "      <td>1</td>\n",
              "      <td>5</td>\n",
              "      <td>3</td>\n",
              "      <td>0.000</td>\n",
              "      <td>1</td>\n",
              "      <td>1</td>\n",
              "      <td>11</td>\n",
              "      <td>1</td>\n",
              "      <td>2</td>\n",
              "      <td>0</td>\n",
              "      <td>1</td>\n",
              "      <td>1</td>\n",
              "    </tr>\n",
              "    <tr>\n",
              "      <th>4</th>\n",
              "      <td>15715750</td>\n",
              "      <td>1</td>\n",
              "      <td>20.17</td>\n",
              "      <td>8.17</td>\n",
              "      <td>2</td>\n",
              "      <td>6</td>\n",
              "      <td>4</td>\n",
              "      <td>1.960</td>\n",
              "      <td>1</td>\n",
              "      <td>1</td>\n",
              "      <td>14</td>\n",
              "      <td>0</td>\n",
              "      <td>2</td>\n",
              "      <td>60</td>\n",
              "      <td>159</td>\n",
              "      <td>1</td>\n",
              "    </tr>\n",
              "  </tbody>\n",
              "</table>\n",
              "</div>\n",
              "      <button class=\"colab-df-convert\" onclick=\"convertToInteractive('df-7342d24b-5978-467a-9893-b51a541df123')\"\n",
              "              title=\"Convert this dataframe to an interactive table.\"\n",
              "              style=\"display:none;\">\n",
              "        \n",
              "  <svg xmlns=\"http://www.w3.org/2000/svg\" height=\"24px\"viewBox=\"0 0 24 24\"\n",
              "       width=\"24px\">\n",
              "    <path d=\"M0 0h24v24H0V0z\" fill=\"none\"/>\n",
              "    <path d=\"M18.56 5.44l.94 2.06.94-2.06 2.06-.94-2.06-.94-.94-2.06-.94 2.06-2.06.94zm-11 1L8.5 8.5l.94-2.06 2.06-.94-2.06-.94L8.5 2.5l-.94 2.06-2.06.94zm10 10l.94 2.06.94-2.06 2.06-.94-2.06-.94-.94-2.06-.94 2.06-2.06.94z\"/><path d=\"M17.41 7.96l-1.37-1.37c-.4-.4-.92-.59-1.43-.59-.52 0-1.04.2-1.43.59L10.3 9.45l-7.72 7.72c-.78.78-.78 2.05 0 2.83L4 21.41c.39.39.9.59 1.41.59.51 0 1.02-.2 1.41-.59l7.78-7.78 2.81-2.81c.8-.78.8-2.07 0-2.86zM5.41 20L4 18.59l7.72-7.72 1.47 1.35L5.41 20z\"/>\n",
              "  </svg>\n",
              "      </button>\n",
              "      \n",
              "  <style>\n",
              "    .colab-df-container {\n",
              "      display:flex;\n",
              "      flex-wrap:wrap;\n",
              "      gap: 12px;\n",
              "    }\n",
              "\n",
              "    .colab-df-convert {\n",
              "      background-color: #E8F0FE;\n",
              "      border: none;\n",
              "      border-radius: 50%;\n",
              "      cursor: pointer;\n",
              "      display: none;\n",
              "      fill: #1967D2;\n",
              "      height: 32px;\n",
              "      padding: 0 0 0 0;\n",
              "      width: 32px;\n",
              "    }\n",
              "\n",
              "    .colab-df-convert:hover {\n",
              "      background-color: #E2EBFA;\n",
              "      box-shadow: 0px 1px 2px rgba(60, 64, 67, 0.3), 0px 1px 3px 1px rgba(60, 64, 67, 0.15);\n",
              "      fill: #174EA6;\n",
              "    }\n",
              "\n",
              "    [theme=dark] .colab-df-convert {\n",
              "      background-color: #3B4455;\n",
              "      fill: #D2E3FC;\n",
              "    }\n",
              "\n",
              "    [theme=dark] .colab-df-convert:hover {\n",
              "      background-color: #434B5C;\n",
              "      box-shadow: 0px 1px 3px 1px rgba(0, 0, 0, 0.15);\n",
              "      filter: drop-shadow(0px 1px 2px rgba(0, 0, 0, 0.3));\n",
              "      fill: #FFFFFF;\n",
              "    }\n",
              "  </style>\n",
              "\n",
              "      <script>\n",
              "        const buttonEl =\n",
              "          document.querySelector('#df-7342d24b-5978-467a-9893-b51a541df123 button.colab-df-convert');\n",
              "        buttonEl.style.display =\n",
              "          google.colab.kernel.accessAllowed ? 'block' : 'none';\n",
              "\n",
              "        async function convertToInteractive(key) {\n",
              "          const element = document.querySelector('#df-7342d24b-5978-467a-9893-b51a541df123');\n",
              "          const dataTable =\n",
              "            await google.colab.kernel.invokeFunction('convertToInteractive',\n",
              "                                                     [key], {});\n",
              "          if (!dataTable) return;\n",
              "\n",
              "          const docLinkHtml = 'Like what you see? Visit the ' +\n",
              "            '<a target=\"_blank\" href=https://colab.research.google.com/notebooks/data_table.ipynb>data table notebook</a>'\n",
              "            + ' to learn more about interactive tables.';\n",
              "          element.innerHTML = '';\n",
              "          dataTable['output_type'] = 'display_data';\n",
              "          await google.colab.output.renderOutput(dataTable, element);\n",
              "          const docLink = document.createElement('div');\n",
              "          docLink.innerHTML = docLinkHtml;\n",
              "          element.appendChild(docLink);\n",
              "        }\n",
              "      </script>\n",
              "    </div>\n",
              "  </div>\n",
              "  "
            ],
            "text/plain": [
              "   CustomerID  A1     A2     A3  A4  A5  ...  A10  A11  A12  A13   A14  Class\n",
              "0    15776156   1  22.08  11.46   2   4  ...    0    1    2  100  1213      0\n",
              "1    15739548   0  22.67   7.00   2   8  ...    0    0    2  160     1      0\n",
              "2    15662854   0  29.58   1.75   1   4  ...    0    1    2  280     1      0\n",
              "3    15687688   0  21.67  11.50   1   5  ...   11    1    2    0     1      1\n",
              "4    15715750   1  20.17   8.17   2   6  ...   14    0    2   60   159      1\n",
              "\n",
              "[5 rows x 16 columns]"
            ]
          },
          "metadata": {},
          "execution_count": 2
        }
      ]
    },
    {
      "cell_type": "code",
      "metadata": {
        "id": "Aik_VJYOIsaj"
      },
      "source": [
        "data2=pd.read_csv('Credit_Card_Applications2.csv')\n"
      ],
      "execution_count": null,
      "outputs": []
    },
    {
      "cell_type": "code",
      "metadata": {
        "colab": {
          "base_uri": "https://localhost:8080/"
        },
        "id": "BRfK7VTPIsc9",
        "outputId": "59eeea8c-9707-4885-f299-359f40ee12eb"
      },
      "source": [
        "X=data1.iloc[:,:-1].values\n",
        "X.shape"
      ],
      "execution_count": null,
      "outputs": [
        {
          "output_type": "execute_result",
          "data": {
            "text/plain": [
              "(690, 15)"
            ]
          },
          "metadata": {},
          "execution_count": 5
        }
      ]
    },
    {
      "cell_type": "code",
      "metadata": {
        "colab": {
          "base_uri": "https://localhost:8080/"
        },
        "id": "OzzOmN87UPHr",
        "outputId": "949b55d0-d205-48c8-d241-72608d9ccb58"
      },
      "source": [
        "Y=data1.iloc[:,-1].values\n",
        "Y"
      ],
      "execution_count": null,
      "outputs": [
        {
          "output_type": "execute_result",
          "data": {
            "text/plain": [
              "array([0, 0, 0, 1, 1, 1, 0, 1, 0, 0, 1, 1, 0, 1, 0, 1, 1, 1, 0, 1, 0, 0,\n",
              "       0, 0, 0, 1, 0, 1, 1, 1, 1, 0, 0, 1, 0, 0, 1, 1, 1, 1, 1, 0, 1, 0,\n",
              "       0, 1, 0, 1, 0, 1, 0, 0, 0, 0, 0, 1, 1, 0, 1, 1, 0, 0, 1, 0, 1, 1,\n",
              "       0, 0, 0, 1, 0, 0, 0, 1, 1, 0, 0, 0, 0, 1, 1, 0, 0, 0, 0, 1, 0, 1,\n",
              "       1, 0, 0, 0, 0, 1, 0, 1, 0, 0, 0, 1, 0, 1, 1, 1, 0, 1, 1, 0, 1, 0,\n",
              "       0, 0, 0, 1, 0, 1, 1, 1, 1, 1, 1, 0, 0, 1, 1, 0, 1, 0, 1, 1, 1, 0,\n",
              "       0, 0, 0, 0, 0, 1, 1, 1, 0, 0, 0, 1, 0, 1, 1, 0, 0, 1, 1, 0, 0, 0,\n",
              "       1, 1, 1, 0, 1, 0, 0, 0, 1, 1, 0, 0, 0, 1, 0, 0, 0, 1, 0, 0, 1, 0,\n",
              "       0, 0, 1, 1, 0, 0, 1, 1, 1, 0, 0, 0, 0, 0, 0, 1, 0, 0, 0, 1, 1, 0,\n",
              "       0, 0, 1, 0, 1, 0, 1, 1, 0, 0, 0, 0, 1, 1, 0, 0, 0, 1, 0, 0, 0, 1,\n",
              "       1, 0, 1, 0, 0, 0, 0, 1, 1, 1, 1, 0, 0, 1, 1, 1, 0, 0, 0, 1, 1, 1,\n",
              "       1, 0, 0, 0, 0, 1, 1, 1, 0, 0, 1, 0, 1, 1, 1, 1, 0, 0, 0, 1, 0, 1,\n",
              "       1, 0, 0, 1, 0, 0, 0, 1, 0, 1, 1, 0, 0, 0, 1, 1, 0, 0, 0, 0, 0, 1,\n",
              "       1, 1, 0, 0, 0, 0, 1, 1, 1, 0, 0, 0, 1, 0, 1, 0, 0, 0, 0, 1, 0, 1,\n",
              "       0, 0, 0, 0, 0, 1, 1, 0, 0, 1, 0, 1, 1, 1, 1, 1, 1, 1, 0, 0, 0, 0,\n",
              "       1, 1, 1, 0, 0, 0, 1, 0, 1, 0, 0, 0, 1, 1, 1, 1, 1, 1, 1, 0, 1, 0,\n",
              "       1, 0, 0, 0, 0, 0, 1, 0, 1, 1, 0, 0, 0, 0, 0, 1, 0, 1, 1, 0, 0, 0,\n",
              "       1, 1, 1, 0, 0, 1, 1, 0, 0, 0, 1, 1, 0, 1, 1, 1, 1, 0, 0, 1, 1, 0,\n",
              "       0, 0, 0, 0, 0, 1, 0, 0, 0, 1, 1, 0, 1, 0, 0, 0, 1, 1, 1, 0, 0, 1,\n",
              "       0, 1, 1, 1, 0, 1, 0, 0, 1, 0, 0, 0, 1, 0, 0, 1, 0, 1, 0, 1, 1, 0,\n",
              "       1, 0, 0, 1, 0, 1, 1, 0, 0, 0, 0, 0, 1, 1, 0, 0, 1, 1, 0, 1, 0, 1,\n",
              "       0, 1, 0, 1, 1, 0, 1, 0, 1, 1, 1, 0, 0, 0, 0, 0, 1, 0, 1, 0, 0, 0,\n",
              "       1, 1, 1, 1, 1, 0, 1, 1, 0, 0, 0, 1, 1, 1, 1, 1, 1, 0, 1, 1, 1, 1,\n",
              "       0, 0, 0, 0, 0, 0, 0, 1, 0, 0, 1, 1, 1, 0, 1, 0, 0, 1, 1, 0, 1, 0,\n",
              "       0, 0, 0, 0, 0, 1, 0, 1, 0, 1, 1, 1, 0, 0, 1, 0, 0, 0, 0, 0, 0, 0,\n",
              "       1, 1, 0, 0, 0, 0, 0, 1, 0, 1, 0, 1, 0, 0, 1, 1, 1, 0, 0, 0, 0, 0,\n",
              "       1, 0, 1, 1, 0, 0, 0, 0, 0, 1, 1, 1, 0, 1, 0, 1, 1, 0, 0, 1, 0, 1,\n",
              "       0, 0, 1, 1, 0, 1, 0, 1, 1, 1, 1, 0, 0, 1, 0, 1, 1, 0, 1, 0, 1, 1,\n",
              "       0, 0, 0, 1, 0, 1, 1, 0, 1, 0, 0, 0, 0, 0, 1, 0, 1, 0, 0, 0, 0, 0,\n",
              "       0, 1, 0, 1, 1, 0, 0, 0, 0, 0, 0, 1, 1, 0, 0, 1, 0, 0, 1, 0, 0, 1,\n",
              "       1, 0, 1, 1, 0, 0, 0, 0, 0, 0, 1, 1, 0, 1, 1, 0, 0, 0, 0, 1, 0, 0,\n",
              "       1, 0, 1, 1, 0, 1, 1, 1])"
            ]
          },
          "metadata": {},
          "execution_count": 6
        }
      ]
    },
    {
      "cell_type": "code",
      "metadata": {
        "colab": {
          "base_uri": "https://localhost:8080/"
        },
        "id": "ZiMUM7OBUPNH",
        "outputId": "5b1add47-6bc3-4668-85f6-fff53a1f15cd"
      },
      "source": [
        "from sklearn.preprocessing import MinMaxScaler\n",
        "sc=MinMaxScaler()\n",
        "X=sc.fit_transform(X)\n",
        "X.shape"
      ],
      "execution_count": null,
      "outputs": [
        {
          "output_type": "execute_result",
          "data": {
            "text/plain": [
              "(690, 15)"
            ]
          },
          "metadata": {},
          "execution_count": 7
        }
      ]
    },
    {
      "cell_type": "markdown",
      "metadata": {
        "id": "IXZnh7JzVC_7"
      },
      "source": [
        "4.2 Training SOM"
      ]
    },
    {
      "cell_type": "code",
      "metadata": {
        "colab": {
          "base_uri": "https://localhost:8080/"
        },
        "id": "HAJYg-lZUPS8",
        "outputId": "c613ef17-f8c6-4b7c-c73c-9ddf4b6c49c1"
      },
      "source": [
        "!pip install MiniSom"
      ],
      "execution_count": null,
      "outputs": [
        {
          "output_type": "stream",
          "name": "stdout",
          "text": [
            "Collecting MiniSom\n",
            "  Downloading MiniSom-2.2.9.tar.gz (8.1 kB)\n",
            "Building wheels for collected packages: MiniSom\n",
            "  Building wheel for MiniSom (setup.py) ... \u001b[?25l\u001b[?25hdone\n",
            "  Created wheel for MiniSom: filename=MiniSom-2.2.9-py3-none-any.whl size=8594 sha256=8871974973096631f411b307e8c0114cc135b9af41b43047dd7132ea184e9916\n",
            "  Stored in directory: /root/.cache/pip/wheels/3d/a1/10/f50b6f4865652eac239a2700de411c3078c27e1318320e494c\n",
            "Successfully built MiniSom\n",
            "Installing collected packages: MiniSom\n",
            "Successfully installed MiniSom-2.2.9\n"
          ]
        }
      ]
    },
    {
      "cell_type": "code",
      "metadata": {
        "id": "-aHeK9JNUPVj"
      },
      "source": [
        "from minisom import MiniSom"
      ],
      "execution_count": null,
      "outputs": []
    },
    {
      "cell_type": "code",
      "metadata": {
        "id": "mCsIYxWyUPYJ"
      },
      "source": [
        "som=MiniSom(x=10,y=10,input_len=15,sigma=1,learning_rate=0.5)"
      ],
      "execution_count": null,
      "outputs": []
    },
    {
      "cell_type": "code",
      "metadata": {
        "id": "pHjN3gaaUPab"
      },
      "source": [
        "som.random_weights_init(X)\n",
        "som.train_random(X,num_iteration=100)"
      ],
      "execution_count": null,
      "outputs": []
    },
    {
      "cell_type": "code",
      "metadata": {
        "id": "t74qYizEUPd5",
        "colab": {
          "base_uri": "https://localhost:8080/",
          "height": 269
        },
        "outputId": "ed7a57f1-e084-44c9-f1d1-984bab8e6253"
      },
      "source": [
        "# Visualizing esults\n",
        "from pylab import bone,pcolor,colorbar,plot,show\n",
        "bone()\n",
        "pcolor(som.distance_map().T,cmap='cividis')\n",
        "colorbar()\n",
        "markers=['s','^']\n",
        "colors=['lime','magenta']\n",
        "\n",
        "for i,x in enumerate(X):\n",
        "  w=som.winner(x)\n",
        "  plot(w[0]+0.5,w[1]+0.5,markers[Y[i]],\n",
        "       markeredgecolor=colors[Y[i]],\n",
        "       markerfacecolor='None',\n",
        "       markersize=10,markeredgewidth=1.2)\n",
        "\n",
        "show()"
      ],
      "execution_count": null,
      "outputs": [
        {
          "output_type": "display_data",
          "data": {
            "image/png": "[encoded data removed]",
            "text/plain": [
              "<Figure size 432x288 with 2 Axes>"
            ]
          },
          "metadata": {
            "needs_background": "light"
          }
        }
      ]
    },
    {
      "cell_type": "code",
      "metadata": {
        "id": "b5vmsXBXUPge"
      },
      "source": [
        "# Finding the frauds/outliers\n",
        "mappings=som.win_map(X)\n"
      ],
      "execution_count": null,
      "outputs": []
    },
    {
      "cell_type": "code",
      "metadata": {
        "id": "E18TVA44A6EG"
      },
      "source": [
        "dist=som.distance_map()\n",
        "ind_90=[]\n",
        "for i in range(len(dist)):\n",
        "  for j in dist[i]:\n",
        "    if j>0.9:\n",
        "      ind_90.append((i,np.where(dist[i]==j)[0][0]))\n",
        "\n",
        "ind_95=[]\n",
        "for i in range(len(dist)):\n",
        "  for j in dist[i]:\n",
        "    if j>0.95:\n",
        "      ind_95.append((i,np.where(dist[i]==j)[0][0]))\n",
        "      \n",
        "ind_100=[]\n",
        "for i in range(len(dist)):\n",
        "  for j in dist[i]:\n",
        "    if j==1:\n",
        "      ind_100.append((i,np.where(dist[i]==j)[0][0]))"
      ],
      "execution_count": null,
      "outputs": []
    },
    {
      "cell_type": "code",
      "metadata": {
        "colab": {
          "base_uri": "https://localhost:8080/",
          "height": 1000
        },
        "id": "JkRhcgwuA6Hc",
        "outputId": "11a00ad5-32bc-4709-e6d0-ede1aabca14e"
      },
      "source": [
        "outliers_90=[]\n",
        "for i in ind_90:\n",
        "  for j in mappings[i]:\n",
        "    outliers_90.append(list(j))\n",
        "outliers_90=sc.inverse_transform(outliers_90)\n",
        "\n",
        "frauds_90=pd.DataFrame(outliers_90)\n",
        "frauds_90"
      ],
      "execution_count": null,
      "outputs": [
        {
          "output_type": "execute_result",
          "data": {
            "text/html": [
              "\n",
              "  <div id=\"df-b7addd8f-ef68-4b9b-8383-1230aab11abf\">\n",
              "    <div class=\"colab-df-container\">\n",
              "      <div>\n",
              "<style scoped>\n",
              "    .dataframe tbody tr th:only-of-type {\n",
              "        vertical-align: middle;\n",
              "    }\n",
              "\n",
              "    .dataframe tbody tr th {\n",
              "        vertical-align: top;\n",
              "    }\n",
              "\n",
              "    .dataframe thead th {\n",
              "        text-align: right;\n",
              "    }\n",
              "</style>\n",
              "<table border=\"1\" class=\"dataframe\">\n",
              "  <thead>\n",
              "    <tr style=\"text-align: right;\">\n",
              "      <th></th>\n",
              "      <th>0</th>\n",
              "      <th>1</th>\n",
              "      <th>2</th>\n",
              "      <th>3</th>\n",
              "      <th>4</th>\n",
              "      <th>5</th>\n",
              "      <th>6</th>\n",
              "      <th>7</th>\n",
              "      <th>8</th>\n",
              "      <th>9</th>\n",
              "      <th>10</th>\n",
              "      <th>11</th>\n",
              "      <th>12</th>\n",
              "      <th>13</th>\n",
              "      <th>14</th>\n",
              "    </tr>\n",
              "  </thead>\n",
              "  <tbody>\n",
              "    <tr>\n",
              "      <th>0</th>\n",
              "      <td>15570508.0</td>\n",
              "      <td>0.0</td>\n",
              "      <td>51.92</td>\n",
              "      <td>6.500</td>\n",
              "      <td>2.0</td>\n",
              "      <td>3.0</td>\n",
              "      <td>5.0</td>\n",
              "      <td>3.085</td>\n",
              "      <td>0.0</td>\n",
              "      <td>0.0</td>\n",
              "      <td>0.0</td>\n",
              "      <td>1.0</td>\n",
              "      <td>2.0</td>\n",
              "      <td>73.0</td>\n",
              "      <td>1.0</td>\n",
              "    </tr>\n",
              "    <tr>\n",
              "      <th>1</th>\n",
              "      <td>15641733.0</td>\n",
              "      <td>0.0</td>\n",
              "      <td>50.25</td>\n",
              "      <td>0.835</td>\n",
              "      <td>2.0</td>\n",
              "      <td>6.0</td>\n",
              "      <td>4.0</td>\n",
              "      <td>0.500</td>\n",
              "      <td>0.0</td>\n",
              "      <td>0.0</td>\n",
              "      <td>0.0</td>\n",
              "      <td>1.0</td>\n",
              "      <td>2.0</td>\n",
              "      <td>240.0</td>\n",
              "      <td>118.0</td>\n",
              "    </tr>\n",
              "    <tr>\n",
              "      <th>2</th>\n",
              "      <td>15641007.0</td>\n",
              "      <td>0.0</td>\n",
              "      <td>25.25</td>\n",
              "      <td>12.500</td>\n",
              "      <td>2.0</td>\n",
              "      <td>2.0</td>\n",
              "      <td>4.0</td>\n",
              "      <td>1.000</td>\n",
              "      <td>0.0</td>\n",
              "      <td>0.0</td>\n",
              "      <td>0.0</td>\n",
              "      <td>1.0</td>\n",
              "      <td>2.0</td>\n",
              "      <td>180.0</td>\n",
              "      <td>1063.0</td>\n",
              "    </tr>\n",
              "    <tr>\n",
              "      <th>3</th>\n",
              "      <td>15684512.0</td>\n",
              "      <td>1.0</td>\n",
              "      <td>42.50</td>\n",
              "      <td>4.915</td>\n",
              "      <td>1.0</td>\n",
              "      <td>9.0</td>\n",
              "      <td>4.0</td>\n",
              "      <td>3.165</td>\n",
              "      <td>1.0</td>\n",
              "      <td>0.0</td>\n",
              "      <td>0.0</td>\n",
              "      <td>1.0</td>\n",
              "      <td>2.0</td>\n",
              "      <td>52.0</td>\n",
              "      <td>1443.0</td>\n",
              "    </tr>\n",
              "    <tr>\n",
              "      <th>4</th>\n",
              "      <td>15740458.0</td>\n",
              "      <td>1.0</td>\n",
              "      <td>23.33</td>\n",
              "      <td>11.625</td>\n",
              "      <td>1.0</td>\n",
              "      <td>9.0</td>\n",
              "      <td>4.0</td>\n",
              "      <td>0.835</td>\n",
              "      <td>1.0</td>\n",
              "      <td>0.0</td>\n",
              "      <td>0.0</td>\n",
              "      <td>1.0</td>\n",
              "      <td>2.0</td>\n",
              "      <td>160.0</td>\n",
              "      <td>301.0</td>\n",
              "    </tr>\n",
              "    <tr>\n",
              "      <th>5</th>\n",
              "      <td>15790630.0</td>\n",
              "      <td>1.0</td>\n",
              "      <td>37.50</td>\n",
              "      <td>1.750</td>\n",
              "      <td>1.0</td>\n",
              "      <td>8.0</td>\n",
              "      <td>5.0</td>\n",
              "      <td>0.250</td>\n",
              "      <td>1.0</td>\n",
              "      <td>0.0</td>\n",
              "      <td>0.0</td>\n",
              "      <td>1.0</td>\n",
              "      <td>2.0</td>\n",
              "      <td>164.0</td>\n",
              "      <td>401.0</td>\n",
              "    </tr>\n",
              "    <tr>\n",
              "      <th>6</th>\n",
              "      <td>15674583.0</td>\n",
              "      <td>1.0</td>\n",
              "      <td>28.75</td>\n",
              "      <td>1.500</td>\n",
              "      <td>1.0</td>\n",
              "      <td>8.0</td>\n",
              "      <td>4.0</td>\n",
              "      <td>1.500</td>\n",
              "      <td>1.0</td>\n",
              "      <td>0.0</td>\n",
              "      <td>0.0</td>\n",
              "      <td>1.0</td>\n",
              "      <td>2.0</td>\n",
              "      <td>0.0</td>\n",
              "      <td>226.0</td>\n",
              "    </tr>\n",
              "    <tr>\n",
              "      <th>7</th>\n",
              "      <td>15757467.0</td>\n",
              "      <td>0.0</td>\n",
              "      <td>52.83</td>\n",
              "      <td>15.000</td>\n",
              "      <td>2.0</td>\n",
              "      <td>8.0</td>\n",
              "      <td>4.0</td>\n",
              "      <td>5.500</td>\n",
              "      <td>1.0</td>\n",
              "      <td>1.0</td>\n",
              "      <td>14.0</td>\n",
              "      <td>0.0</td>\n",
              "      <td>2.0</td>\n",
              "      <td>0.0</td>\n",
              "      <td>2201.0</td>\n",
              "    </tr>\n",
              "    <tr>\n",
              "      <th>8</th>\n",
              "      <td>15815443.0</td>\n",
              "      <td>0.0</td>\n",
              "      <td>57.08</td>\n",
              "      <td>19.500</td>\n",
              "      <td>2.0</td>\n",
              "      <td>8.0</td>\n",
              "      <td>4.0</td>\n",
              "      <td>5.500</td>\n",
              "      <td>1.0</td>\n",
              "      <td>1.0</td>\n",
              "      <td>7.0</td>\n",
              "      <td>0.0</td>\n",
              "      <td>2.0</td>\n",
              "      <td>0.0</td>\n",
              "      <td>3001.0</td>\n",
              "    </tr>\n",
              "    <tr>\n",
              "      <th>9</th>\n",
              "      <td>15748432.0</td>\n",
              "      <td>0.0</td>\n",
              "      <td>58.33</td>\n",
              "      <td>10.000</td>\n",
              "      <td>2.0</td>\n",
              "      <td>11.0</td>\n",
              "      <td>4.0</td>\n",
              "      <td>4.000</td>\n",
              "      <td>1.0</td>\n",
              "      <td>1.0</td>\n",
              "      <td>14.0</td>\n",
              "      <td>0.0</td>\n",
              "      <td>2.0</td>\n",
              "      <td>0.0</td>\n",
              "      <td>1603.0</td>\n",
              "    </tr>\n",
              "    <tr>\n",
              "      <th>10</th>\n",
              "      <td>15696287.0</td>\n",
              "      <td>0.0</td>\n",
              "      <td>58.42</td>\n",
              "      <td>21.000</td>\n",
              "      <td>2.0</td>\n",
              "      <td>3.0</td>\n",
              "      <td>5.0</td>\n",
              "      <td>10.000</td>\n",
              "      <td>1.0</td>\n",
              "      <td>1.0</td>\n",
              "      <td>13.0</td>\n",
              "      <td>0.0</td>\n",
              "      <td>2.0</td>\n",
              "      <td>0.0</td>\n",
              "      <td>6701.0</td>\n",
              "    </tr>\n",
              "    <tr>\n",
              "      <th>11</th>\n",
              "      <td>15698749.0</td>\n",
              "      <td>0.0</td>\n",
              "      <td>56.50</td>\n",
              "      <td>16.000</td>\n",
              "      <td>2.0</td>\n",
              "      <td>5.0</td>\n",
              "      <td>1.0</td>\n",
              "      <td>0.000</td>\n",
              "      <td>1.0</td>\n",
              "      <td>1.0</td>\n",
              "      <td>15.0</td>\n",
              "      <td>0.0</td>\n",
              "      <td>2.0</td>\n",
              "      <td>0.0</td>\n",
              "      <td>248.0</td>\n",
              "    </tr>\n",
              "    <tr>\n",
              "      <th>12</th>\n",
              "      <td>15773776.0</td>\n",
              "      <td>0.0</td>\n",
              "      <td>35.42</td>\n",
              "      <td>12.000</td>\n",
              "      <td>2.0</td>\n",
              "      <td>11.0</td>\n",
              "      <td>8.0</td>\n",
              "      <td>14.000</td>\n",
              "      <td>1.0</td>\n",
              "      <td>1.0</td>\n",
              "      <td>8.0</td>\n",
              "      <td>0.0</td>\n",
              "      <td>2.0</td>\n",
              "      <td>0.0</td>\n",
              "      <td>6591.0</td>\n",
              "    </tr>\n",
              "    <tr>\n",
              "      <th>13</th>\n",
              "      <td>15800049.0</td>\n",
              "      <td>1.0</td>\n",
              "      <td>23.08</td>\n",
              "      <td>11.500</td>\n",
              "      <td>2.0</td>\n",
              "      <td>3.0</td>\n",
              "      <td>4.0</td>\n",
              "      <td>3.500</td>\n",
              "      <td>1.0</td>\n",
              "      <td>1.0</td>\n",
              "      <td>9.0</td>\n",
              "      <td>0.0</td>\n",
              "      <td>2.0</td>\n",
              "      <td>56.0</td>\n",
              "      <td>743.0</td>\n",
              "    </tr>\n",
              "    <tr>\n",
              "      <th>14</th>\n",
              "      <td>15593694.0</td>\n",
              "      <td>1.0</td>\n",
              "      <td>55.92</td>\n",
              "      <td>11.500</td>\n",
              "      <td>2.0</td>\n",
              "      <td>1.0</td>\n",
              "      <td>1.0</td>\n",
              "      <td>5.000</td>\n",
              "      <td>1.0</td>\n",
              "      <td>1.0</td>\n",
              "      <td>5.0</td>\n",
              "      <td>0.0</td>\n",
              "      <td>2.0</td>\n",
              "      <td>0.0</td>\n",
              "      <td>8852.0</td>\n",
              "    </tr>\n",
              "    <tr>\n",
              "      <th>15</th>\n",
              "      <td>15785367.0</td>\n",
              "      <td>1.0</td>\n",
              "      <td>51.33</td>\n",
              "      <td>10.000</td>\n",
              "      <td>2.0</td>\n",
              "      <td>3.0</td>\n",
              "      <td>5.0</td>\n",
              "      <td>0.000</td>\n",
              "      <td>1.0</td>\n",
              "      <td>1.0</td>\n",
              "      <td>11.0</td>\n",
              "      <td>0.0</td>\n",
              "      <td>2.0</td>\n",
              "      <td>0.0</td>\n",
              "      <td>1250.0</td>\n",
              "    </tr>\n",
              "    <tr>\n",
              "      <th>16</th>\n",
              "      <td>15781574.0</td>\n",
              "      <td>1.0</td>\n",
              "      <td>49.58</td>\n",
              "      <td>19.000</td>\n",
              "      <td>2.0</td>\n",
              "      <td>1.0</td>\n",
              "      <td>1.0</td>\n",
              "      <td>0.000</td>\n",
              "      <td>1.0</td>\n",
              "      <td>1.0</td>\n",
              "      <td>1.0</td>\n",
              "      <td>0.0</td>\n",
              "      <td>2.0</td>\n",
              "      <td>94.0</td>\n",
              "      <td>1.0</td>\n",
              "    </tr>\n",
              "    <tr>\n",
              "      <th>17</th>\n",
              "      <td>15594305.0</td>\n",
              "      <td>0.0</td>\n",
              "      <td>23.75</td>\n",
              "      <td>0.710</td>\n",
              "      <td>2.0</td>\n",
              "      <td>9.0</td>\n",
              "      <td>4.0</td>\n",
              "      <td>0.250</td>\n",
              "      <td>0.0</td>\n",
              "      <td>1.0</td>\n",
              "      <td>1.0</td>\n",
              "      <td>1.0</td>\n",
              "      <td>2.0</td>\n",
              "      <td>240.0</td>\n",
              "      <td>5.0</td>\n",
              "    </tr>\n",
              "    <tr>\n",
              "      <th>18</th>\n",
              "      <td>15664793.0</td>\n",
              "      <td>0.0</td>\n",
              "      <td>17.33</td>\n",
              "      <td>9.500</td>\n",
              "      <td>2.0</td>\n",
              "      <td>6.0</td>\n",
              "      <td>4.0</td>\n",
              "      <td>1.750</td>\n",
              "      <td>0.0</td>\n",
              "      <td>1.0</td>\n",
              "      <td>10.0</td>\n",
              "      <td>1.0</td>\n",
              "      <td>2.0</td>\n",
              "      <td>0.0</td>\n",
              "      <td>11.0</td>\n",
              "    </tr>\n",
              "    <tr>\n",
              "      <th>19</th>\n",
              "      <td>15670029.0</td>\n",
              "      <td>0.0</td>\n",
              "      <td>16.92</td>\n",
              "      <td>0.500</td>\n",
              "      <td>2.0</td>\n",
              "      <td>3.0</td>\n",
              "      <td>4.0</td>\n",
              "      <td>0.165</td>\n",
              "      <td>0.0</td>\n",
              "      <td>1.0</td>\n",
              "      <td>6.0</td>\n",
              "      <td>1.0</td>\n",
              "      <td>2.0</td>\n",
              "      <td>240.0</td>\n",
              "      <td>36.0</td>\n",
              "    </tr>\n",
              "    <tr>\n",
              "      <th>20</th>\n",
              "      <td>15763579.0</td>\n",
              "      <td>0.0</td>\n",
              "      <td>16.00</td>\n",
              "      <td>0.165</td>\n",
              "      <td>2.0</td>\n",
              "      <td>6.0</td>\n",
              "      <td>4.0</td>\n",
              "      <td>1.000</td>\n",
              "      <td>0.0</td>\n",
              "      <td>1.0</td>\n",
              "      <td>2.0</td>\n",
              "      <td>1.0</td>\n",
              "      <td>2.0</td>\n",
              "      <td>320.0</td>\n",
              "      <td>2.0</td>\n",
              "    </tr>\n",
              "    <tr>\n",
              "      <th>21</th>\n",
              "      <td>15662189.0</td>\n",
              "      <td>0.0</td>\n",
              "      <td>28.58</td>\n",
              "      <td>3.750</td>\n",
              "      <td>2.0</td>\n",
              "      <td>8.0</td>\n",
              "      <td>4.0</td>\n",
              "      <td>0.250</td>\n",
              "      <td>0.0</td>\n",
              "      <td>1.0</td>\n",
              "      <td>1.0</td>\n",
              "      <td>1.0</td>\n",
              "      <td>2.0</td>\n",
              "      <td>40.0</td>\n",
              "      <td>155.0</td>\n",
              "    </tr>\n",
              "    <tr>\n",
              "      <th>22</th>\n",
              "      <td>15568469.0</td>\n",
              "      <td>0.0</td>\n",
              "      <td>15.83</td>\n",
              "      <td>7.625</td>\n",
              "      <td>2.0</td>\n",
              "      <td>11.0</td>\n",
              "      <td>4.0</td>\n",
              "      <td>0.125</td>\n",
              "      <td>0.0</td>\n",
              "      <td>1.0</td>\n",
              "      <td>1.0</td>\n",
              "      <td>1.0</td>\n",
              "      <td>2.0</td>\n",
              "      <td>0.0</td>\n",
              "      <td>161.0</td>\n",
              "    </tr>\n",
              "    <tr>\n",
              "      <th>23</th>\n",
              "      <td>15782159.0</td>\n",
              "      <td>0.0</td>\n",
              "      <td>22.67</td>\n",
              "      <td>0.750</td>\n",
              "      <td>2.0</td>\n",
              "      <td>8.0</td>\n",
              "      <td>4.0</td>\n",
              "      <td>2.000</td>\n",
              "      <td>0.0</td>\n",
              "      <td>1.0</td>\n",
              "      <td>2.0</td>\n",
              "      <td>1.0</td>\n",
              "      <td>2.0</td>\n",
              "      <td>200.0</td>\n",
              "      <td>395.0</td>\n",
              "    </tr>\n",
              "    <tr>\n",
              "      <th>24</th>\n",
              "      <td>15586479.0</td>\n",
              "      <td>0.0</td>\n",
              "      <td>27.25</td>\n",
              "      <td>0.290</td>\n",
              "      <td>2.0</td>\n",
              "      <td>7.0</td>\n",
              "      <td>8.0</td>\n",
              "      <td>0.125</td>\n",
              "      <td>0.0</td>\n",
              "      <td>1.0</td>\n",
              "      <td>1.0</td>\n",
              "      <td>1.0</td>\n",
              "      <td>2.0</td>\n",
              "      <td>272.0</td>\n",
              "      <td>109.0</td>\n",
              "    </tr>\n",
              "    <tr>\n",
              "      <th>25</th>\n",
              "      <td>15717700.0</td>\n",
              "      <td>0.0</td>\n",
              "      <td>23.58</td>\n",
              "      <td>0.830</td>\n",
              "      <td>2.0</td>\n",
              "      <td>11.0</td>\n",
              "      <td>4.0</td>\n",
              "      <td>0.415</td>\n",
              "      <td>0.0</td>\n",
              "      <td>1.0</td>\n",
              "      <td>1.0</td>\n",
              "      <td>1.0</td>\n",
              "      <td>2.0</td>\n",
              "      <td>200.0</td>\n",
              "      <td>12.0</td>\n",
              "    </tr>\n",
              "    <tr>\n",
              "      <th>26</th>\n",
              "      <td>15705379.0</td>\n",
              "      <td>0.0</td>\n",
              "      <td>30.58</td>\n",
              "      <td>10.665</td>\n",
              "      <td>2.0</td>\n",
              "      <td>11.0</td>\n",
              "      <td>8.0</td>\n",
              "      <td>0.085</td>\n",
              "      <td>0.0</td>\n",
              "      <td>1.0</td>\n",
              "      <td>12.0</td>\n",
              "      <td>1.0</td>\n",
              "      <td>2.0</td>\n",
              "      <td>129.0</td>\n",
              "      <td>4.0</td>\n",
              "    </tr>\n",
              "    <tr>\n",
              "      <th>27</th>\n",
              "      <td>15646535.0</td>\n",
              "      <td>0.0</td>\n",
              "      <td>17.92</td>\n",
              "      <td>0.540</td>\n",
              "      <td>2.0</td>\n",
              "      <td>8.0</td>\n",
              "      <td>4.0</td>\n",
              "      <td>1.750</td>\n",
              "      <td>0.0</td>\n",
              "      <td>1.0</td>\n",
              "      <td>1.0</td>\n",
              "      <td>1.0</td>\n",
              "      <td>2.0</td>\n",
              "      <td>80.0</td>\n",
              "      <td>6.0</td>\n",
              "    </tr>\n",
              "    <tr>\n",
              "      <th>28</th>\n",
              "      <td>15749964.0</td>\n",
              "      <td>0.0</td>\n",
              "      <td>27.58</td>\n",
              "      <td>3.000</td>\n",
              "      <td>2.0</td>\n",
              "      <td>7.0</td>\n",
              "      <td>4.0</td>\n",
              "      <td>2.790</td>\n",
              "      <td>0.0</td>\n",
              "      <td>1.0</td>\n",
              "      <td>1.0</td>\n",
              "      <td>1.0</td>\n",
              "      <td>2.0</td>\n",
              "      <td>280.0</td>\n",
              "      <td>11.0</td>\n",
              "    </tr>\n",
              "    <tr>\n",
              "      <th>29</th>\n",
              "      <td>15672894.0</td>\n",
              "      <td>0.0</td>\n",
              "      <td>18.58</td>\n",
              "      <td>10.000</td>\n",
              "      <td>2.0</td>\n",
              "      <td>2.0</td>\n",
              "      <td>4.0</td>\n",
              "      <td>0.415</td>\n",
              "      <td>0.0</td>\n",
              "      <td>0.0</td>\n",
              "      <td>0.0</td>\n",
              "      <td>0.0</td>\n",
              "      <td>2.0</td>\n",
              "      <td>80.0</td>\n",
              "      <td>43.0</td>\n",
              "    </tr>\n",
              "    <tr>\n",
              "      <th>30</th>\n",
              "      <td>15651868.0</td>\n",
              "      <td>0.0</td>\n",
              "      <td>38.75</td>\n",
              "      <td>1.500</td>\n",
              "      <td>2.0</td>\n",
              "      <td>1.0</td>\n",
              "      <td>1.0</td>\n",
              "      <td>0.000</td>\n",
              "      <td>0.0</td>\n",
              "      <td>0.0</td>\n",
              "      <td>0.0</td>\n",
              "      <td>0.0</td>\n",
              "      <td>2.0</td>\n",
              "      <td>76.0</td>\n",
              "      <td>1.0</td>\n",
              "    </tr>\n",
              "    <tr>\n",
              "      <th>31</th>\n",
              "      <td>15593959.0</td>\n",
              "      <td>0.0</td>\n",
              "      <td>21.75</td>\n",
              "      <td>1.750</td>\n",
              "      <td>1.0</td>\n",
              "      <td>5.0</td>\n",
              "      <td>3.0</td>\n",
              "      <td>0.000</td>\n",
              "      <td>0.0</td>\n",
              "      <td>0.0</td>\n",
              "      <td>0.0</td>\n",
              "      <td>0.0</td>\n",
              "      <td>2.0</td>\n",
              "      <td>160.0</td>\n",
              "      <td>1.0</td>\n",
              "    </tr>\n",
              "    <tr>\n",
              "      <th>32</th>\n",
              "      <td>15672637.0</td>\n",
              "      <td>0.0</td>\n",
              "      <td>36.75</td>\n",
              "      <td>4.710</td>\n",
              "      <td>2.0</td>\n",
              "      <td>1.0</td>\n",
              "      <td>1.0</td>\n",
              "      <td>0.000</td>\n",
              "      <td>0.0</td>\n",
              "      <td>0.0</td>\n",
              "      <td>0.0</td>\n",
              "      <td>0.0</td>\n",
              "      <td>2.0</td>\n",
              "      <td>160.0</td>\n",
              "      <td>1.0</td>\n",
              "    </tr>\n",
              "    <tr>\n",
              "      <th>33</th>\n",
              "      <td>15736533.0</td>\n",
              "      <td>0.0</td>\n",
              "      <td>31.57</td>\n",
              "      <td>11.250</td>\n",
              "      <td>2.0</td>\n",
              "      <td>1.0</td>\n",
              "      <td>1.0</td>\n",
              "      <td>0.000</td>\n",
              "      <td>0.0</td>\n",
              "      <td>0.0</td>\n",
              "      <td>0.0</td>\n",
              "      <td>0.0</td>\n",
              "      <td>2.0</td>\n",
              "      <td>184.0</td>\n",
              "      <td>5201.0</td>\n",
              "    </tr>\n",
              "    <tr>\n",
              "      <th>34</th>\n",
              "      <td>15593834.0</td>\n",
              "      <td>0.0</td>\n",
              "      <td>16.33</td>\n",
              "      <td>0.210</td>\n",
              "      <td>2.0</td>\n",
              "      <td>6.0</td>\n",
              "      <td>4.0</td>\n",
              "      <td>0.125</td>\n",
              "      <td>0.0</td>\n",
              "      <td>0.0</td>\n",
              "      <td>0.0</td>\n",
              "      <td>0.0</td>\n",
              "      <td>2.0</td>\n",
              "      <td>200.0</td>\n",
              "      <td>2.0</td>\n",
              "    </tr>\n",
              "    <tr>\n",
              "      <th>35</th>\n",
              "      <td>15779207.0</td>\n",
              "      <td>0.0</td>\n",
              "      <td>27.33</td>\n",
              "      <td>1.665</td>\n",
              "      <td>2.0</td>\n",
              "      <td>1.0</td>\n",
              "      <td>1.0</td>\n",
              "      <td>0.000</td>\n",
              "      <td>0.0</td>\n",
              "      <td>0.0</td>\n",
              "      <td>0.0</td>\n",
              "      <td>0.0</td>\n",
              "      <td>2.0</td>\n",
              "      <td>340.0</td>\n",
              "      <td>2.0</td>\n",
              "    </tr>\n",
              "    <tr>\n",
              "      <th>36</th>\n",
              "      <td>15609987.0</td>\n",
              "      <td>0.0</td>\n",
              "      <td>22.67</td>\n",
              "      <td>0.790</td>\n",
              "      <td>2.0</td>\n",
              "      <td>3.0</td>\n",
              "      <td>4.0</td>\n",
              "      <td>0.085</td>\n",
              "      <td>0.0</td>\n",
              "      <td>0.0</td>\n",
              "      <td>0.0</td>\n",
              "      <td>0.0</td>\n",
              "      <td>2.0</td>\n",
              "      <td>144.0</td>\n",
              "      <td>1.0</td>\n",
              "    </tr>\n",
              "    <tr>\n",
              "      <th>37</th>\n",
              "      <td>15609758.0</td>\n",
              "      <td>0.0</td>\n",
              "      <td>20.75</td>\n",
              "      <td>9.540</td>\n",
              "      <td>2.0</td>\n",
              "      <td>3.0</td>\n",
              "      <td>4.0</td>\n",
              "      <td>0.040</td>\n",
              "      <td>0.0</td>\n",
              "      <td>0.0</td>\n",
              "      <td>0.0</td>\n",
              "      <td>0.0</td>\n",
              "      <td>2.0</td>\n",
              "      <td>200.0</td>\n",
              "      <td>1001.0</td>\n",
              "    </tr>\n",
              "    <tr>\n",
              "      <th>38</th>\n",
              "      <td>15615296.0</td>\n",
              "      <td>0.0</td>\n",
              "      <td>17.92</td>\n",
              "      <td>10.210</td>\n",
              "      <td>2.0</td>\n",
              "      <td>1.0</td>\n",
              "      <td>1.0</td>\n",
              "      <td>0.000</td>\n",
              "      <td>0.0</td>\n",
              "      <td>0.0</td>\n",
              "      <td>0.0</td>\n",
              "      <td>0.0</td>\n",
              "      <td>2.0</td>\n",
              "      <td>0.0</td>\n",
              "      <td>51.0</td>\n",
              "    </tr>\n",
              "    <tr>\n",
              "      <th>39</th>\n",
              "      <td>15618258.0</td>\n",
              "      <td>0.0</td>\n",
              "      <td>22.75</td>\n",
              "      <td>6.165</td>\n",
              "      <td>2.0</td>\n",
              "      <td>6.0</td>\n",
              "      <td>4.0</td>\n",
              "      <td>0.165</td>\n",
              "      <td>0.0</td>\n",
              "      <td>0.0</td>\n",
              "      <td>0.0</td>\n",
              "      <td>0.0</td>\n",
              "      <td>2.0</td>\n",
              "      <td>220.0</td>\n",
              "      <td>1001.0</td>\n",
              "    </tr>\n",
              "    <tr>\n",
              "      <th>40</th>\n",
              "      <td>15775750.0</td>\n",
              "      <td>1.0</td>\n",
              "      <td>28.25</td>\n",
              "      <td>5.040</td>\n",
              "      <td>1.0</td>\n",
              "      <td>8.0</td>\n",
              "      <td>5.0</td>\n",
              "      <td>1.500</td>\n",
              "      <td>1.0</td>\n",
              "      <td>1.0</td>\n",
              "      <td>8.0</td>\n",
              "      <td>1.0</td>\n",
              "      <td>2.0</td>\n",
              "      <td>144.0</td>\n",
              "      <td>8.0</td>\n",
              "    </tr>\n",
              "    <tr>\n",
              "      <th>41</th>\n",
              "      <td>15575243.0</td>\n",
              "      <td>1.0</td>\n",
              "      <td>34.08</td>\n",
              "      <td>0.080</td>\n",
              "      <td>1.0</td>\n",
              "      <td>7.0</td>\n",
              "      <td>5.0</td>\n",
              "      <td>0.040</td>\n",
              "      <td>1.0</td>\n",
              "      <td>1.0</td>\n",
              "      <td>1.0</td>\n",
              "      <td>1.0</td>\n",
              "      <td>2.0</td>\n",
              "      <td>280.0</td>\n",
              "      <td>2001.0</td>\n",
              "    </tr>\n",
              "    <tr>\n",
              "      <th>42</th>\n",
              "      <td>15690372.0</td>\n",
              "      <td>1.0</td>\n",
              "      <td>21.00</td>\n",
              "      <td>3.000</td>\n",
              "      <td>1.0</td>\n",
              "      <td>2.0</td>\n",
              "      <td>4.0</td>\n",
              "      <td>1.085</td>\n",
              "      <td>1.0</td>\n",
              "      <td>1.0</td>\n",
              "      <td>8.0</td>\n",
              "      <td>1.0</td>\n",
              "      <td>2.0</td>\n",
              "      <td>160.0</td>\n",
              "      <td>2.0</td>\n",
              "    </tr>\n",
              "    <tr>\n",
              "      <th>43</th>\n",
              "      <td>15775235.0</td>\n",
              "      <td>1.0</td>\n",
              "      <td>43.08</td>\n",
              "      <td>0.375</td>\n",
              "      <td>1.0</td>\n",
              "      <td>8.0</td>\n",
              "      <td>4.0</td>\n",
              "      <td>0.375</td>\n",
              "      <td>1.0</td>\n",
              "      <td>1.0</td>\n",
              "      <td>8.0</td>\n",
              "      <td>1.0</td>\n",
              "      <td>2.0</td>\n",
              "      <td>300.0</td>\n",
              "      <td>163.0</td>\n",
              "    </tr>\n",
              "    <tr>\n",
              "      <th>44</th>\n",
              "      <td>15780088.0</td>\n",
              "      <td>1.0</td>\n",
              "      <td>34.50</td>\n",
              "      <td>4.040</td>\n",
              "      <td>1.0</td>\n",
              "      <td>3.0</td>\n",
              "      <td>5.0</td>\n",
              "      <td>8.500</td>\n",
              "      <td>1.0</td>\n",
              "      <td>1.0</td>\n",
              "      <td>7.0</td>\n",
              "      <td>1.0</td>\n",
              "      <td>2.0</td>\n",
              "      <td>195.0</td>\n",
              "      <td>1.0</td>\n",
              "    </tr>\n",
              "    <tr>\n",
              "      <th>45</th>\n",
              "      <td>15762045.0</td>\n",
              "      <td>1.0</td>\n",
              "      <td>21.00</td>\n",
              "      <td>4.790</td>\n",
              "      <td>1.0</td>\n",
              "      <td>9.0</td>\n",
              "      <td>4.0</td>\n",
              "      <td>2.250</td>\n",
              "      <td>1.0</td>\n",
              "      <td>1.0</td>\n",
              "      <td>1.0</td>\n",
              "      <td>1.0</td>\n",
              "      <td>2.0</td>\n",
              "      <td>80.0</td>\n",
              "      <td>301.0</td>\n",
              "    </tr>\n",
              "    <tr>\n",
              "      <th>46</th>\n",
              "      <td>15750476.0</td>\n",
              "      <td>1.0</td>\n",
              "      <td>36.67</td>\n",
              "      <td>4.415</td>\n",
              "      <td>1.0</td>\n",
              "      <td>4.0</td>\n",
              "      <td>4.0</td>\n",
              "      <td>0.250</td>\n",
              "      <td>1.0</td>\n",
              "      <td>1.0</td>\n",
              "      <td>10.0</td>\n",
              "      <td>1.0</td>\n",
              "      <td>2.0</td>\n",
              "      <td>320.0</td>\n",
              "      <td>1.0</td>\n",
              "    </tr>\n",
              "    <tr>\n",
              "      <th>47</th>\n",
              "      <td>15586174.0</td>\n",
              "      <td>1.0</td>\n",
              "      <td>30.08</td>\n",
              "      <td>1.040</td>\n",
              "      <td>1.0</td>\n",
              "      <td>3.0</td>\n",
              "      <td>5.0</td>\n",
              "      <td>0.500</td>\n",
              "      <td>1.0</td>\n",
              "      <td>1.0</td>\n",
              "      <td>10.0</td>\n",
              "      <td>1.0</td>\n",
              "      <td>2.0</td>\n",
              "      <td>132.0</td>\n",
              "      <td>29.0</td>\n",
              "    </tr>\n",
              "    <tr>\n",
              "      <th>48</th>\n",
              "      <td>15799859.0</td>\n",
              "      <td>1.0</td>\n",
              "      <td>23.58</td>\n",
              "      <td>0.460</td>\n",
              "      <td>1.0</td>\n",
              "      <td>9.0</td>\n",
              "      <td>4.0</td>\n",
              "      <td>2.625</td>\n",
              "      <td>1.0</td>\n",
              "      <td>1.0</td>\n",
              "      <td>6.0</td>\n",
              "      <td>1.0</td>\n",
              "      <td>2.0</td>\n",
              "      <td>208.0</td>\n",
              "      <td>348.0</td>\n",
              "    </tr>\n",
              "    <tr>\n",
              "      <th>49</th>\n",
              "      <td>15646563.0</td>\n",
              "      <td>1.0</td>\n",
              "      <td>26.67</td>\n",
              "      <td>1.750</td>\n",
              "      <td>1.0</td>\n",
              "      <td>8.0</td>\n",
              "      <td>4.0</td>\n",
              "      <td>1.000</td>\n",
              "      <td>1.0</td>\n",
              "      <td>1.0</td>\n",
              "      <td>5.0</td>\n",
              "      <td>1.0</td>\n",
              "      <td>2.0</td>\n",
              "      <td>160.0</td>\n",
              "      <td>5778.0</td>\n",
              "    </tr>\n",
              "    <tr>\n",
              "      <th>50</th>\n",
              "      <td>15789014.0</td>\n",
              "      <td>1.0</td>\n",
              "      <td>27.58</td>\n",
              "      <td>2.040</td>\n",
              "      <td>1.0</td>\n",
              "      <td>6.0</td>\n",
              "      <td>4.0</td>\n",
              "      <td>2.000</td>\n",
              "      <td>1.0</td>\n",
              "      <td>1.0</td>\n",
              "      <td>3.0</td>\n",
              "      <td>1.0</td>\n",
              "      <td>2.0</td>\n",
              "      <td>370.0</td>\n",
              "      <td>561.0</td>\n",
              "    </tr>\n",
              "    <tr>\n",
              "      <th>51</th>\n",
              "      <td>15652048.0</td>\n",
              "      <td>1.0</td>\n",
              "      <td>13.75</td>\n",
              "      <td>4.000</td>\n",
              "      <td>1.0</td>\n",
              "      <td>9.0</td>\n",
              "      <td>4.0</td>\n",
              "      <td>1.750</td>\n",
              "      <td>1.0</td>\n",
              "      <td>1.0</td>\n",
              "      <td>2.0</td>\n",
              "      <td>1.0</td>\n",
              "      <td>2.0</td>\n",
              "      <td>120.0</td>\n",
              "      <td>1001.0</td>\n",
              "    </tr>\n",
              "    <tr>\n",
              "      <th>52</th>\n",
              "      <td>15594651.0</td>\n",
              "      <td>1.0</td>\n",
              "      <td>33.17</td>\n",
              "      <td>3.165</td>\n",
              "      <td>1.0</td>\n",
              "      <td>14.0</td>\n",
              "      <td>4.0</td>\n",
              "      <td>3.165</td>\n",
              "      <td>1.0</td>\n",
              "      <td>1.0</td>\n",
              "      <td>3.0</td>\n",
              "      <td>1.0</td>\n",
              "      <td>2.0</td>\n",
              "      <td>380.0</td>\n",
              "      <td>1.0</td>\n",
              "    </tr>\n",
              "  </tbody>\n",
              "</table>\n",
              "</div>\n",
              "      <button class=\"colab-df-convert\" onclick=\"convertToInteractive('df-b7addd8f-ef68-4b9b-8383-1230aab11abf')\"\n",
              "              title=\"Convert this dataframe to an interactive table.\"\n",
              "              style=\"display:none;\">\n",
              "        \n",
              "  <svg xmlns=\"http://www.w3.org/2000/svg\" height=\"24px\"viewBox=\"0 0 24 24\"\n",
              "       width=\"24px\">\n",
              "    <path d=\"M0 0h24v24H0V0z\" fill=\"none\"/>\n",
              "    <path d=\"M18.56 5.44l.94 2.06.94-2.06 2.06-.94-2.06-.94-.94-2.06-.94 2.06-2.06.94zm-11 1L8.5 8.5l.94-2.06 2.06-.94-2.06-.94L8.5 2.5l-.94 2.06-2.06.94zm10 10l.94 2.06.94-2.06 2.06-.94-2.06-.94-.94-2.06-.94 2.06-2.06.94z\"/><path d=\"M17.41 7.96l-1.37-1.37c-.4-.4-.92-.59-1.43-.59-.52 0-1.04.2-1.43.59L10.3 9.45l-7.72 7.72c-.78.78-.78 2.05 0 2.83L4 21.41c.39.39.9.59 1.41.59.51 0 1.02-.2 1.41-.59l7.78-7.78 2.81-2.81c.8-.78.8-2.07 0-2.86zM5.41 20L4 18.59l7.72-7.72 1.47 1.35L5.41 20z\"/>\n",
              "  </svg>\n",
              "      </button>\n",
              "      \n",
              "  <style>\n",
              "    .colab-df-container {\n",
              "      display:flex;\n",
              "      flex-wrap:wrap;\n",
              "      gap: 12px;\n",
              "    }\n",
              "\n",
              "    .colab-df-convert {\n",
              "      background-color: #E8F0FE;\n",
              "      border: none;\n",
              "      border-radius: 50%;\n",
              "      cursor: pointer;\n",
              "      display: none;\n",
              "      fill: #1967D2;\n",
              "      height: 32px;\n",
              "      padding: 0 0 0 0;\n",
              "      width: 32px;\n",
              "    }\n",
              "\n",
              "    .colab-df-convert:hover {\n",
              "      background-color: #E2EBFA;\n",
              "      box-shadow: 0px 1px 2px rgba(60, 64, 67, 0.3), 0px 1px 3px 1px rgba(60, 64, 67, 0.15);\n",
              "      fill: #174EA6;\n",
              "    }\n",
              "\n",
              "    [theme=dark] .colab-df-convert {\n",
              "      background-color: #3B4455;\n",
              "      fill: #D2E3FC;\n",
              "    }\n",
              "\n",
              "    [theme=dark] .colab-df-convert:hover {\n",
              "      background-color: #434B5C;\n",
              "      box-shadow: 0px 1px 3px 1px rgba(0, 0, 0, 0.15);\n",
              "      filter: drop-shadow(0px 1px 2px rgba(0, 0, 0, 0.3));\n",
              "      fill: #FFFFFF;\n",
              "    }\n",
              "  </style>\n",
              "\n",
              "      <script>\n",
              "        const buttonEl =\n",
              "          document.querySelector('#df-b7addd8f-ef68-4b9b-8383-1230aab11abf button.colab-df-convert');\n",
              "        buttonEl.style.display =\n",
              "          google.colab.kernel.accessAllowed ? 'block' : 'none';\n",
              "\n",
              "        async function convertToInteractive(key) {\n",
              "          const element = document.querySelector('#df-b7addd8f-ef68-4b9b-8383-1230aab11abf');\n",
              "          const dataTable =\n",
              "            await google.colab.kernel.invokeFunction('convertToInteractive',\n",
              "                                                     [key], {});\n",
              "          if (!dataTable) return;\n",
              "\n",
              "          const docLinkHtml = 'Like what you see? Visit the ' +\n",
              "            '<a target=\"_blank\" href=https://colab.research.google.com/notebooks/data_table.ipynb>data table notebook</a>'\n",
              "            + ' to learn more about interactive tables.';\n",
              "          element.innerHTML = '';\n",
              "          dataTable['output_type'] = 'display_data';\n",
              "          await google.colab.output.renderOutput(dataTable, element);\n",
              "          const docLink = document.createElement('div');\n",
              "          docLink.innerHTML = docLinkHtml;\n",
              "          element.appendChild(docLink);\n",
              "        }\n",
              "      </script>\n",
              "    </div>\n",
              "  </div>\n",
              "  "
            ],
            "text/plain": [
              "            0    1      2       3    4   ...    10   11   12     13      14\n",
              "0   15570508.0  0.0  51.92   6.500  2.0  ...   0.0  1.0  2.0   73.0     1.0\n",
              "1   15641733.0  0.0  50.25   0.835  2.0  ...   0.0  1.0  2.0  240.0   118.0\n",
              "2   15641007.0  0.0  25.25  12.500  2.0  ...   0.0  1.0  2.0  180.0  1063.0\n",
              "3   15684512.0  1.0  42.50   4.915  1.0  ...   0.0  1.0  2.0   52.0  1443.0\n",
              "4   15740458.0  1.0  23.33  11.625  1.0  ...   0.0  1.0  2.0  160.0   301.0\n",
              "5   15790630.0  1.0  37.50   1.750  1.0  ...   0.0  1.0  2.0  164.0   401.0\n",
              "6   15674583.0  1.0  28.75   1.500  1.0  ...   0.0  1.0  2.0    0.0   226.0\n",
              "7   15757467.0  0.0  52.83  15.000  2.0  ...  14.0  0.0  2.0    0.0  2201.0\n",
              "8   15815443.0  0.0  57.08  19.500  2.0  ...   7.0  0.0  2.0    0.0  3001.0\n",
              "9   15748432.0  0.0  58.33  10.000  2.0  ...  14.0  0.0  2.0    0.0  1603.0\n",
              "10  15696287.0  0.0  58.42  21.000  2.0  ...  13.0  0.0  2.0    0.0  6701.0\n",
              "11  15698749.0  0.0  56.50  16.000  2.0  ...  15.0  0.0  2.0    0.0   248.0\n",
              "12  15773776.0  0.0  35.42  12.000  2.0  ...   8.0  0.0  2.0    0.0  6591.0\n",
              "13  15800049.0  1.0  23.08  11.500  2.0  ...   9.0  0.0  2.0   56.0   743.0\n",
              "14  15593694.0  1.0  55.92  11.500  2.0  ...   5.0  0.0  2.0    0.0  8852.0\n",
              "15  15785367.0  1.0  51.33  10.000  2.0  ...  11.0  0.0  2.0    0.0  1250.0\n",
              "16  15781574.0  1.0  49.58  19.000  2.0  ...   1.0  0.0  2.0   94.0     1.0\n",
              "17  15594305.0  0.0  23.75   0.710  2.0  ...   1.0  1.0  2.0  240.0     5.0\n",
              "18  15664793.0  0.0  17.33   9.500  2.0  ...  10.0  1.0  2.0    0.0    11.0\n",
              "19  15670029.0  0.0  16.92   0.500  2.0  ...   6.0  1.0  2.0  240.0    36.0\n",
              "20  15763579.0  0.0  16.00   0.165  2.0  ...   2.0  1.0  2.0  320.0     2.0\n",
              "21  15662189.0  0.0  28.58   3.750  2.0  ...   1.0  1.0  2.0   40.0   155.0\n",
              "22  15568469.0  0.0  15.83   7.625  2.0  ...   1.0  1.0  2.0    0.0   161.0\n",
              "23  15782159.0  0.0  22.67   0.750  2.0  ...   2.0  1.0  2.0  200.0   395.0\n",
              "24  15586479.0  0.0  27.25   0.290  2.0  ...   1.0  1.0  2.0  272.0   109.0\n",
              "25  15717700.0  0.0  23.58   0.830  2.0  ...   1.0  1.0  2.0  200.0    12.0\n",
              "26  15705379.0  0.0  30.58  10.665  2.0  ...  12.0  1.0  2.0  129.0     4.0\n",
              "27  15646535.0  0.0  17.92   0.540  2.0  ...   1.0  1.0  2.0   80.0     6.0\n",
              "28  15749964.0  0.0  27.58   3.000  2.0  ...   1.0  1.0  2.0  280.0    11.0\n",
              "29  15672894.0  0.0  18.58  10.000  2.0  ...   0.0  0.0  2.0   80.0    43.0\n",
              "30  15651868.0  0.0  38.75   1.500  2.0  ...   0.0  0.0  2.0   76.0     1.0\n",
              "31  15593959.0  0.0  21.75   1.750  1.0  ...   0.0  0.0  2.0  160.0     1.0\n",
              "32  15672637.0  0.0  36.75   4.710  2.0  ...   0.0  0.0  2.0  160.0     1.0\n",
              "33  15736533.0  0.0  31.57  11.250  2.0  ...   0.0  0.0  2.0  184.0  5201.0\n",
              "34  15593834.0  0.0  16.33   0.210  2.0  ...   0.0  0.0  2.0  200.0     2.0\n",
              "35  15779207.0  0.0  27.33   1.665  2.0  ...   0.0  0.0  2.0  340.0     2.0\n",
              "36  15609987.0  0.0  22.67   0.790  2.0  ...   0.0  0.0  2.0  144.0     1.0\n",
              "37  15609758.0  0.0  20.75   9.540  2.0  ...   0.0  0.0  2.0  200.0  1001.0\n",
              "38  15615296.0  0.0  17.92  10.210  2.0  ...   0.0  0.0  2.0    0.0    51.0\n",
              "39  15618258.0  0.0  22.75   6.165  2.0  ...   0.0  0.0  2.0  220.0  1001.0\n",
              "40  15775750.0  1.0  28.25   5.040  1.0  ...   8.0  1.0  2.0  144.0     8.0\n",
              "41  15575243.0  1.0  34.08   0.080  1.0  ...   1.0  1.0  2.0  280.0  2001.0\n",
              "42  15690372.0  1.0  21.00   3.000  1.0  ...   8.0  1.0  2.0  160.0     2.0\n",
              "43  15775235.0  1.0  43.08   0.375  1.0  ...   8.0  1.0  2.0  300.0   163.0\n",
              "44  15780088.0  1.0  34.50   4.040  1.0  ...   7.0  1.0  2.0  195.0     1.0\n",
              "45  15762045.0  1.0  21.00   4.790  1.0  ...   1.0  1.0  2.0   80.0   301.0\n",
              "46  15750476.0  1.0  36.67   4.415  1.0  ...  10.0  1.0  2.0  320.0     1.0\n",
              "47  15586174.0  1.0  30.08   1.040  1.0  ...  10.0  1.0  2.0  132.0    29.0\n",
              "48  15799859.0  1.0  23.58   0.460  1.0  ...   6.0  1.0  2.0  208.0   348.0\n",
              "49  15646563.0  1.0  26.67   1.750  1.0  ...   5.0  1.0  2.0  160.0  5778.0\n",
              "50  15789014.0  1.0  27.58   2.040  1.0  ...   3.0  1.0  2.0  370.0   561.0\n",
              "51  15652048.0  1.0  13.75   4.000  1.0  ...   2.0  1.0  2.0  120.0  1001.0\n",
              "52  15594651.0  1.0  33.17   3.165  1.0  ...   3.0  1.0  2.0  380.0     1.0\n",
              "\n",
              "[53 rows x 15 columns]"
            ]
          },
          "metadata": {},
          "execution_count": 16
        }
      ]
    },
    {
      "cell_type": "code",
      "metadata": {
        "colab": {
          "base_uri": "https://localhost:8080/",
          "height": 908
        },
        "id": "o7Kh0wDTA6J7",
        "outputId": "05120c35-7e18-47e3-83c4-a83a2fe917de"
      },
      "source": [
        "outliers_95=[]\n",
        "for i in ind_95:\n",
        "  for j in mappings[i]:\n",
        "    outliers_95.append(list(j))\n",
        "outliers_95=sc.inverse_transform(outliers_95)\n",
        "\n",
        "frauds_95=pd.DataFrame(outliers_95)\n",
        "frauds_95"
      ],
      "execution_count": null,
      "outputs": [
        {
          "output_type": "execute_result",
          "data": {
            "text/html": [
              "\n",
              "  <div id=\"df-74d331bc-d244-4bf5-b922-58c3aff351b9\">\n",
              "    <div class=\"colab-df-container\">\n",
              "      <div>\n",
              "<style scoped>\n",
              "    .dataframe tbody tr th:only-of-type {\n",
              "        vertical-align: middle;\n",
              "    }\n",
              "\n",
              "    .dataframe tbody tr th {\n",
              "        vertical-align: top;\n",
              "    }\n",
              "\n",
              "    .dataframe thead th {\n",
              "        text-align: right;\n",
              "    }\n",
              "</style>\n",
              "<table border=\"1\" class=\"dataframe\">\n",
              "  <thead>\n",
              "    <tr style=\"text-align: right;\">\n",
              "      <th></th>\n",
              "      <th>0</th>\n",
              "      <th>1</th>\n",
              "      <th>2</th>\n",
              "      <th>3</th>\n",
              "      <th>4</th>\n",
              "      <th>5</th>\n",
              "      <th>6</th>\n",
              "      <th>7</th>\n",
              "      <th>8</th>\n",
              "      <th>9</th>\n",
              "      <th>10</th>\n",
              "      <th>11</th>\n",
              "      <th>12</th>\n",
              "      <th>13</th>\n",
              "      <th>14</th>\n",
              "    </tr>\n",
              "  </thead>\n",
              "  <tbody>\n",
              "    <tr>\n",
              "      <th>0</th>\n",
              "      <td>15570508.0</td>\n",
              "      <td>0.0</td>\n",
              "      <td>51.92</td>\n",
              "      <td>6.500</td>\n",
              "      <td>2.0</td>\n",
              "      <td>3.0</td>\n",
              "      <td>5.0</td>\n",
              "      <td>3.085</td>\n",
              "      <td>0.0</td>\n",
              "      <td>0.0</td>\n",
              "      <td>0.0</td>\n",
              "      <td>1.0</td>\n",
              "      <td>2.0</td>\n",
              "      <td>73.0</td>\n",
              "      <td>1.0</td>\n",
              "    </tr>\n",
              "    <tr>\n",
              "      <th>1</th>\n",
              "      <td>15641733.0</td>\n",
              "      <td>0.0</td>\n",
              "      <td>50.25</td>\n",
              "      <td>0.835</td>\n",
              "      <td>2.0</td>\n",
              "      <td>6.0</td>\n",
              "      <td>4.0</td>\n",
              "      <td>0.500</td>\n",
              "      <td>0.0</td>\n",
              "      <td>0.0</td>\n",
              "      <td>0.0</td>\n",
              "      <td>1.0</td>\n",
              "      <td>2.0</td>\n",
              "      <td>240.0</td>\n",
              "      <td>118.0</td>\n",
              "    </tr>\n",
              "    <tr>\n",
              "      <th>2</th>\n",
              "      <td>15641007.0</td>\n",
              "      <td>0.0</td>\n",
              "      <td>25.25</td>\n",
              "      <td>12.500</td>\n",
              "      <td>2.0</td>\n",
              "      <td>2.0</td>\n",
              "      <td>4.0</td>\n",
              "      <td>1.000</td>\n",
              "      <td>0.0</td>\n",
              "      <td>0.0</td>\n",
              "      <td>0.0</td>\n",
              "      <td>1.0</td>\n",
              "      <td>2.0</td>\n",
              "      <td>180.0</td>\n",
              "      <td>1063.0</td>\n",
              "    </tr>\n",
              "    <tr>\n",
              "      <th>3</th>\n",
              "      <td>15757467.0</td>\n",
              "      <td>0.0</td>\n",
              "      <td>52.83</td>\n",
              "      <td>15.000</td>\n",
              "      <td>2.0</td>\n",
              "      <td>8.0</td>\n",
              "      <td>4.0</td>\n",
              "      <td>5.500</td>\n",
              "      <td>1.0</td>\n",
              "      <td>1.0</td>\n",
              "      <td>14.0</td>\n",
              "      <td>0.0</td>\n",
              "      <td>2.0</td>\n",
              "      <td>0.0</td>\n",
              "      <td>2201.0</td>\n",
              "    </tr>\n",
              "    <tr>\n",
              "      <th>4</th>\n",
              "      <td>15815443.0</td>\n",
              "      <td>0.0</td>\n",
              "      <td>57.08</td>\n",
              "      <td>19.500</td>\n",
              "      <td>2.0</td>\n",
              "      <td>8.0</td>\n",
              "      <td>4.0</td>\n",
              "      <td>5.500</td>\n",
              "      <td>1.0</td>\n",
              "      <td>1.0</td>\n",
              "      <td>7.0</td>\n",
              "      <td>0.0</td>\n",
              "      <td>2.0</td>\n",
              "      <td>0.0</td>\n",
              "      <td>3001.0</td>\n",
              "    </tr>\n",
              "    <tr>\n",
              "      <th>5</th>\n",
              "      <td>15748432.0</td>\n",
              "      <td>0.0</td>\n",
              "      <td>58.33</td>\n",
              "      <td>10.000</td>\n",
              "      <td>2.0</td>\n",
              "      <td>11.0</td>\n",
              "      <td>4.0</td>\n",
              "      <td>4.000</td>\n",
              "      <td>1.0</td>\n",
              "      <td>1.0</td>\n",
              "      <td>14.0</td>\n",
              "      <td>0.0</td>\n",
              "      <td>2.0</td>\n",
              "      <td>0.0</td>\n",
              "      <td>1603.0</td>\n",
              "    </tr>\n",
              "    <tr>\n",
              "      <th>6</th>\n",
              "      <td>15696287.0</td>\n",
              "      <td>0.0</td>\n",
              "      <td>58.42</td>\n",
              "      <td>21.000</td>\n",
              "      <td>2.0</td>\n",
              "      <td>3.0</td>\n",
              "      <td>5.0</td>\n",
              "      <td>10.000</td>\n",
              "      <td>1.0</td>\n",
              "      <td>1.0</td>\n",
              "      <td>13.0</td>\n",
              "      <td>0.0</td>\n",
              "      <td>2.0</td>\n",
              "      <td>0.0</td>\n",
              "      <td>6701.0</td>\n",
              "    </tr>\n",
              "    <tr>\n",
              "      <th>7</th>\n",
              "      <td>15698749.0</td>\n",
              "      <td>0.0</td>\n",
              "      <td>56.50</td>\n",
              "      <td>16.000</td>\n",
              "      <td>2.0</td>\n",
              "      <td>5.0</td>\n",
              "      <td>1.0</td>\n",
              "      <td>0.000</td>\n",
              "      <td>1.0</td>\n",
              "      <td>1.0</td>\n",
              "      <td>15.0</td>\n",
              "      <td>0.0</td>\n",
              "      <td>2.0</td>\n",
              "      <td>0.0</td>\n",
              "      <td>248.0</td>\n",
              "    </tr>\n",
              "    <tr>\n",
              "      <th>8</th>\n",
              "      <td>15773776.0</td>\n",
              "      <td>0.0</td>\n",
              "      <td>35.42</td>\n",
              "      <td>12.000</td>\n",
              "      <td>2.0</td>\n",
              "      <td>11.0</td>\n",
              "      <td>8.0</td>\n",
              "      <td>14.000</td>\n",
              "      <td>1.0</td>\n",
              "      <td>1.0</td>\n",
              "      <td>8.0</td>\n",
              "      <td>0.0</td>\n",
              "      <td>2.0</td>\n",
              "      <td>0.0</td>\n",
              "      <td>6591.0</td>\n",
              "    </tr>\n",
              "    <tr>\n",
              "      <th>9</th>\n",
              "      <td>15800049.0</td>\n",
              "      <td>1.0</td>\n",
              "      <td>23.08</td>\n",
              "      <td>11.500</td>\n",
              "      <td>2.0</td>\n",
              "      <td>3.0</td>\n",
              "      <td>4.0</td>\n",
              "      <td>3.500</td>\n",
              "      <td>1.0</td>\n",
              "      <td>1.0</td>\n",
              "      <td>9.0</td>\n",
              "      <td>0.0</td>\n",
              "      <td>2.0</td>\n",
              "      <td>56.0</td>\n",
              "      <td>743.0</td>\n",
              "    </tr>\n",
              "    <tr>\n",
              "      <th>10</th>\n",
              "      <td>15593694.0</td>\n",
              "      <td>1.0</td>\n",
              "      <td>55.92</td>\n",
              "      <td>11.500</td>\n",
              "      <td>2.0</td>\n",
              "      <td>1.0</td>\n",
              "      <td>1.0</td>\n",
              "      <td>5.000</td>\n",
              "      <td>1.0</td>\n",
              "      <td>1.0</td>\n",
              "      <td>5.0</td>\n",
              "      <td>0.0</td>\n",
              "      <td>2.0</td>\n",
              "      <td>0.0</td>\n",
              "      <td>8852.0</td>\n",
              "    </tr>\n",
              "    <tr>\n",
              "      <th>11</th>\n",
              "      <td>15785367.0</td>\n",
              "      <td>1.0</td>\n",
              "      <td>51.33</td>\n",
              "      <td>10.000</td>\n",
              "      <td>2.0</td>\n",
              "      <td>3.0</td>\n",
              "      <td>5.0</td>\n",
              "      <td>0.000</td>\n",
              "      <td>1.0</td>\n",
              "      <td>1.0</td>\n",
              "      <td>11.0</td>\n",
              "      <td>0.0</td>\n",
              "      <td>2.0</td>\n",
              "      <td>0.0</td>\n",
              "      <td>1250.0</td>\n",
              "    </tr>\n",
              "    <tr>\n",
              "      <th>12</th>\n",
              "      <td>15781574.0</td>\n",
              "      <td>1.0</td>\n",
              "      <td>49.58</td>\n",
              "      <td>19.000</td>\n",
              "      <td>2.0</td>\n",
              "      <td>1.0</td>\n",
              "      <td>1.0</td>\n",
              "      <td>0.000</td>\n",
              "      <td>1.0</td>\n",
              "      <td>1.0</td>\n",
              "      <td>1.0</td>\n",
              "      <td>0.0</td>\n",
              "      <td>2.0</td>\n",
              "      <td>94.0</td>\n",
              "      <td>1.0</td>\n",
              "    </tr>\n",
              "    <tr>\n",
              "      <th>13</th>\n",
              "      <td>15775750.0</td>\n",
              "      <td>1.0</td>\n",
              "      <td>28.25</td>\n",
              "      <td>5.040</td>\n",
              "      <td>1.0</td>\n",
              "      <td>8.0</td>\n",
              "      <td>5.0</td>\n",
              "      <td>1.500</td>\n",
              "      <td>1.0</td>\n",
              "      <td>1.0</td>\n",
              "      <td>8.0</td>\n",
              "      <td>1.0</td>\n",
              "      <td>2.0</td>\n",
              "      <td>144.0</td>\n",
              "      <td>8.0</td>\n",
              "    </tr>\n",
              "    <tr>\n",
              "      <th>14</th>\n",
              "      <td>15575243.0</td>\n",
              "      <td>1.0</td>\n",
              "      <td>34.08</td>\n",
              "      <td>0.080</td>\n",
              "      <td>1.0</td>\n",
              "      <td>7.0</td>\n",
              "      <td>5.0</td>\n",
              "      <td>0.040</td>\n",
              "      <td>1.0</td>\n",
              "      <td>1.0</td>\n",
              "      <td>1.0</td>\n",
              "      <td>1.0</td>\n",
              "      <td>2.0</td>\n",
              "      <td>280.0</td>\n",
              "      <td>2001.0</td>\n",
              "    </tr>\n",
              "    <tr>\n",
              "      <th>15</th>\n",
              "      <td>15690372.0</td>\n",
              "      <td>1.0</td>\n",
              "      <td>21.00</td>\n",
              "      <td>3.000</td>\n",
              "      <td>1.0</td>\n",
              "      <td>2.0</td>\n",
              "      <td>4.0</td>\n",
              "      <td>1.085</td>\n",
              "      <td>1.0</td>\n",
              "      <td>1.0</td>\n",
              "      <td>8.0</td>\n",
              "      <td>1.0</td>\n",
              "      <td>2.0</td>\n",
              "      <td>160.0</td>\n",
              "      <td>2.0</td>\n",
              "    </tr>\n",
              "    <tr>\n",
              "      <th>16</th>\n",
              "      <td>15775235.0</td>\n",
              "      <td>1.0</td>\n",
              "      <td>43.08</td>\n",
              "      <td>0.375</td>\n",
              "      <td>1.0</td>\n",
              "      <td>8.0</td>\n",
              "      <td>4.0</td>\n",
              "      <td>0.375</td>\n",
              "      <td>1.0</td>\n",
              "      <td>1.0</td>\n",
              "      <td>8.0</td>\n",
              "      <td>1.0</td>\n",
              "      <td>2.0</td>\n",
              "      <td>300.0</td>\n",
              "      <td>163.0</td>\n",
              "    </tr>\n",
              "    <tr>\n",
              "      <th>17</th>\n",
              "      <td>15780088.0</td>\n",
              "      <td>1.0</td>\n",
              "      <td>34.50</td>\n",
              "      <td>4.040</td>\n",
              "      <td>1.0</td>\n",
              "      <td>3.0</td>\n",
              "      <td>5.0</td>\n",
              "      <td>8.500</td>\n",
              "      <td>1.0</td>\n",
              "      <td>1.0</td>\n",
              "      <td>7.0</td>\n",
              "      <td>1.0</td>\n",
              "      <td>2.0</td>\n",
              "      <td>195.0</td>\n",
              "      <td>1.0</td>\n",
              "    </tr>\n",
              "    <tr>\n",
              "      <th>18</th>\n",
              "      <td>15762045.0</td>\n",
              "      <td>1.0</td>\n",
              "      <td>21.00</td>\n",
              "      <td>4.790</td>\n",
              "      <td>1.0</td>\n",
              "      <td>9.0</td>\n",
              "      <td>4.0</td>\n",
              "      <td>2.250</td>\n",
              "      <td>1.0</td>\n",
              "      <td>1.0</td>\n",
              "      <td>1.0</td>\n",
              "      <td>1.0</td>\n",
              "      <td>2.0</td>\n",
              "      <td>80.0</td>\n",
              "      <td>301.0</td>\n",
              "    </tr>\n",
              "    <tr>\n",
              "      <th>19</th>\n",
              "      <td>15750476.0</td>\n",
              "      <td>1.0</td>\n",
              "      <td>36.67</td>\n",
              "      <td>4.415</td>\n",
              "      <td>1.0</td>\n",
              "      <td>4.0</td>\n",
              "      <td>4.0</td>\n",
              "      <td>0.250</td>\n",
              "      <td>1.0</td>\n",
              "      <td>1.0</td>\n",
              "      <td>10.0</td>\n",
              "      <td>1.0</td>\n",
              "      <td>2.0</td>\n",
              "      <td>320.0</td>\n",
              "      <td>1.0</td>\n",
              "    </tr>\n",
              "    <tr>\n",
              "      <th>20</th>\n",
              "      <td>15586174.0</td>\n",
              "      <td>1.0</td>\n",
              "      <td>30.08</td>\n",
              "      <td>1.040</td>\n",
              "      <td>1.0</td>\n",
              "      <td>3.0</td>\n",
              "      <td>5.0</td>\n",
              "      <td>0.500</td>\n",
              "      <td>1.0</td>\n",
              "      <td>1.0</td>\n",
              "      <td>10.0</td>\n",
              "      <td>1.0</td>\n",
              "      <td>2.0</td>\n",
              "      <td>132.0</td>\n",
              "      <td>29.0</td>\n",
              "    </tr>\n",
              "    <tr>\n",
              "      <th>21</th>\n",
              "      <td>15799859.0</td>\n",
              "      <td>1.0</td>\n",
              "      <td>23.58</td>\n",
              "      <td>0.460</td>\n",
              "      <td>1.0</td>\n",
              "      <td>9.0</td>\n",
              "      <td>4.0</td>\n",
              "      <td>2.625</td>\n",
              "      <td>1.0</td>\n",
              "      <td>1.0</td>\n",
              "      <td>6.0</td>\n",
              "      <td>1.0</td>\n",
              "      <td>2.0</td>\n",
              "      <td>208.0</td>\n",
              "      <td>348.0</td>\n",
              "    </tr>\n",
              "    <tr>\n",
              "      <th>22</th>\n",
              "      <td>15646563.0</td>\n",
              "      <td>1.0</td>\n",
              "      <td>26.67</td>\n",
              "      <td>1.750</td>\n",
              "      <td>1.0</td>\n",
              "      <td>8.0</td>\n",
              "      <td>4.0</td>\n",
              "      <td>1.000</td>\n",
              "      <td>1.0</td>\n",
              "      <td>1.0</td>\n",
              "      <td>5.0</td>\n",
              "      <td>1.0</td>\n",
              "      <td>2.0</td>\n",
              "      <td>160.0</td>\n",
              "      <td>5778.0</td>\n",
              "    </tr>\n",
              "    <tr>\n",
              "      <th>23</th>\n",
              "      <td>15789014.0</td>\n",
              "      <td>1.0</td>\n",
              "      <td>27.58</td>\n",
              "      <td>2.040</td>\n",
              "      <td>1.0</td>\n",
              "      <td>6.0</td>\n",
              "      <td>4.0</td>\n",
              "      <td>2.000</td>\n",
              "      <td>1.0</td>\n",
              "      <td>1.0</td>\n",
              "      <td>3.0</td>\n",
              "      <td>1.0</td>\n",
              "      <td>2.0</td>\n",
              "      <td>370.0</td>\n",
              "      <td>561.0</td>\n",
              "    </tr>\n",
              "    <tr>\n",
              "      <th>24</th>\n",
              "      <td>15652048.0</td>\n",
              "      <td>1.0</td>\n",
              "      <td>13.75</td>\n",
              "      <td>4.000</td>\n",
              "      <td>1.0</td>\n",
              "      <td>9.0</td>\n",
              "      <td>4.0</td>\n",
              "      <td>1.750</td>\n",
              "      <td>1.0</td>\n",
              "      <td>1.0</td>\n",
              "      <td>2.0</td>\n",
              "      <td>1.0</td>\n",
              "      <td>2.0</td>\n",
              "      <td>120.0</td>\n",
              "      <td>1001.0</td>\n",
              "    </tr>\n",
              "    <tr>\n",
              "      <th>25</th>\n",
              "      <td>15594651.0</td>\n",
              "      <td>1.0</td>\n",
              "      <td>33.17</td>\n",
              "      <td>3.165</td>\n",
              "      <td>1.0</td>\n",
              "      <td>14.0</td>\n",
              "      <td>4.0</td>\n",
              "      <td>3.165</td>\n",
              "      <td>1.0</td>\n",
              "      <td>1.0</td>\n",
              "      <td>3.0</td>\n",
              "      <td>1.0</td>\n",
              "      <td>2.0</td>\n",
              "      <td>380.0</td>\n",
              "      <td>1.0</td>\n",
              "    </tr>\n",
              "  </tbody>\n",
              "</table>\n",
              "</div>\n",
              "      <button class=\"colab-df-convert\" onclick=\"convertToInteractive('df-74d331bc-d244-4bf5-b922-58c3aff351b9')\"\n",
              "              title=\"Convert this dataframe to an interactive table.\"\n",
              "              style=\"display:none;\">\n",
              "        \n",
              "  <svg xmlns=\"http://www.w3.org/2000/svg\" height=\"24px\"viewBox=\"0 0 24 24\"\n",
              "       width=\"24px\">\n",
              "    <path d=\"M0 0h24v24H0V0z\" fill=\"none\"/>\n",
              "    <path d=\"M18.56 5.44l.94 2.06.94-2.06 2.06-.94-2.06-.94-.94-2.06-.94 2.06-2.06.94zm-11 1L8.5 8.5l.94-2.06 2.06-.94-2.06-.94L8.5 2.5l-.94 2.06-2.06.94zm10 10l.94 2.06.94-2.06 2.06-.94-2.06-.94-.94-2.06-.94 2.06-2.06.94z\"/><path d=\"M17.41 7.96l-1.37-1.37c-.4-.4-.92-.59-1.43-.59-.52 0-1.04.2-1.43.59L10.3 9.45l-7.72 7.72c-.78.78-.78 2.05 0 2.83L4 21.41c.39.39.9.59 1.41.59.51 0 1.02-.2 1.41-.59l7.78-7.78 2.81-2.81c.8-.78.8-2.07 0-2.86zM5.41 20L4 18.59l7.72-7.72 1.47 1.35L5.41 20z\"/>\n",
              "  </svg>\n",
              "      </button>\n",
              "      \n",
              "  <style>\n",
              "    .colab-df-container {\n",
              "      display:flex;\n",
              "      flex-wrap:wrap;\n",
              "      gap: 12px;\n",
              "    }\n",
              "\n",
              "    .colab-df-convert {\n",
              "      background-color: #E8F0FE;\n",
              "      border: none;\n",
              "      border-radius: 50%;\n",
              "      cursor: pointer;\n",
              "      display: none;\n",
              "      fill: #1967D2;\n",
              "      height: 32px;\n",
              "      padding: 0 0 0 0;\n",
              "      width: 32px;\n",
              "    }\n",
              "\n",
              "    .colab-df-convert:hover {\n",
              "      background-color: #E2EBFA;\n",
              "      box-shadow: 0px 1px 2px rgba(60, 64, 67, 0.3), 0px 1px 3px 1px rgba(60, 64, 67, 0.15);\n",
              "      fill: #174EA6;\n",
              "    }\n",
              "\n",
              "    [theme=dark] .colab-df-convert {\n",
              "      background-color: #3B4455;\n",
              "      fill: #D2E3FC;\n",
              "    }\n",
              "\n",
              "    [theme=dark] .colab-df-convert:hover {\n",
              "      background-color: #434B5C;\n",
              "      box-shadow: 0px 1px 3px 1px rgba(0, 0, 0, 0.15);\n",
              "      filter: drop-shadow(0px 1px 2px rgba(0, 0, 0, 0.3));\n",
              "      fill: #FFFFFF;\n",
              "    }\n",
              "  </style>\n",
              "\n",
              "      <script>\n",
              "        const buttonEl =\n",
              "          document.querySelector('#df-74d331bc-d244-4bf5-b922-58c3aff351b9 button.colab-df-convert');\n",
              "        buttonEl.style.display =\n",
              "          google.colab.kernel.accessAllowed ? 'block' : 'none';\n",
              "\n",
              "        async function convertToInteractive(key) {\n",
              "          const element = document.querySelector('#df-74d331bc-d244-4bf5-b922-58c3aff351b9');\n",
              "          const dataTable =\n",
              "            await google.colab.kernel.invokeFunction('convertToInteractive',\n",
              "                                                     [key], {});\n",
              "          if (!dataTable) return;\n",
              "\n",
              "          const docLinkHtml = 'Like what you see? Visit the ' +\n",
              "            '<a target=\"_blank\" href=https://colab.research.google.com/notebooks/data_table.ipynb>data table notebook</a>'\n",
              "            + ' to learn more about interactive tables.';\n",
              "          element.innerHTML = '';\n",
              "          dataTable['output_type'] = 'display_data';\n",
              "          await google.colab.output.renderOutput(dataTable, element);\n",
              "          const docLink = document.createElement('div');\n",
              "          docLink.innerHTML = docLinkHtml;\n",
              "          element.appendChild(docLink);\n",
              "        }\n",
              "      </script>\n",
              "    </div>\n",
              "  </div>\n",
              "  "
            ],
            "text/plain": [
              "            0    1      2       3    4   ...    10   11   12     13      14\n",
              "0   15570508.0  0.0  51.92   6.500  2.0  ...   0.0  1.0  2.0   73.0     1.0\n",
              "1   15641733.0  0.0  50.25   0.835  2.0  ...   0.0  1.0  2.0  240.0   118.0\n",
              "2   15641007.0  0.0  25.25  12.500  2.0  ...   0.0  1.0  2.0  180.0  1063.0\n",
              "3   15757467.0  0.0  52.83  15.000  2.0  ...  14.0  0.0  2.0    0.0  2201.0\n",
              "4   15815443.0  0.0  57.08  19.500  2.0  ...   7.0  0.0  2.0    0.0  3001.0\n",
              "5   15748432.0  0.0  58.33  10.000  2.0  ...  14.0  0.0  2.0    0.0  1603.0\n",
              "6   15696287.0  0.0  58.42  21.000  2.0  ...  13.0  0.0  2.0    0.0  6701.0\n",
              "7   15698749.0  0.0  56.50  16.000  2.0  ...  15.0  0.0  2.0    0.0   248.0\n",
              "8   15773776.0  0.0  35.42  12.000  2.0  ...   8.0  0.0  2.0    0.0  6591.0\n",
              "9   15800049.0  1.0  23.08  11.500  2.0  ...   9.0  0.0  2.0   56.0   743.0\n",
              "10  15593694.0  1.0  55.92  11.500  2.0  ...   5.0  0.0  2.0    0.0  8852.0\n",
              "11  15785367.0  1.0  51.33  10.000  2.0  ...  11.0  0.0  2.0    0.0  1250.0\n",
              "12  15781574.0  1.0  49.58  19.000  2.0  ...   1.0  0.0  2.0   94.0     1.0\n",
              "13  15775750.0  1.0  28.25   5.040  1.0  ...   8.0  1.0  2.0  144.0     8.0\n",
              "14  15575243.0  1.0  34.08   0.080  1.0  ...   1.0  1.0  2.0  280.0  2001.0\n",
              "15  15690372.0  1.0  21.00   3.000  1.0  ...   8.0  1.0  2.0  160.0     2.0\n",
              "16  15775235.0  1.0  43.08   0.375  1.0  ...   8.0  1.0  2.0  300.0   163.0\n",
              "17  15780088.0  1.0  34.50   4.040  1.0  ...   7.0  1.0  2.0  195.0     1.0\n",
              "18  15762045.0  1.0  21.00   4.790  1.0  ...   1.0  1.0  2.0   80.0   301.0\n",
              "19  15750476.0  1.0  36.67   4.415  1.0  ...  10.0  1.0  2.0  320.0     1.0\n",
              "20  15586174.0  1.0  30.08   1.040  1.0  ...  10.0  1.0  2.0  132.0    29.0\n",
              "21  15799859.0  1.0  23.58   0.460  1.0  ...   6.0  1.0  2.0  208.0   348.0\n",
              "22  15646563.0  1.0  26.67   1.750  1.0  ...   5.0  1.0  2.0  160.0  5778.0\n",
              "23  15789014.0  1.0  27.58   2.040  1.0  ...   3.0  1.0  2.0  370.0   561.0\n",
              "24  15652048.0  1.0  13.75   4.000  1.0  ...   2.0  1.0  2.0  120.0  1001.0\n",
              "25  15594651.0  1.0  33.17   3.165  1.0  ...   3.0  1.0  2.0  380.0     1.0\n",
              "\n",
              "[26 rows x 15 columns]"
            ]
          },
          "metadata": {},
          "execution_count": 17
        }
      ]
    },
    {
      "cell_type": "code",
      "metadata": {
        "colab": {
          "base_uri": "https://localhost:8080/",
          "height": 175
        },
        "id": "iGXYWmKCA6M4",
        "outputId": "91bdcad4-abec-411d-fcee-ed0879f9f920"
      },
      "source": [
        "dist=som.distance_map()\n",
        "\n",
        "outliers_100=[]\n",
        "\n",
        "for i in ind_100:\n",
        "  for j in mappings[i]:\n",
        "    outliers_100.append(list(j))\n",
        "outliers_100=sc.inverse_transform(outliers_100)\n",
        "\n",
        "frauds_100=pd.DataFrame(outliers_100)\n",
        "frauds_100"
      ],
      "execution_count": null,
      "outputs": [
        {
          "output_type": "execute_result",
          "data": {
            "text/html": [
              "\n",
              "  <div id=\"df-a3d7d15a-a738-4788-9cbf-707e1f5e40a5\">\n",
              "    <div class=\"colab-df-container\">\n",
              "      <div>\n",
              "<style scoped>\n",
              "    .dataframe tbody tr th:only-of-type {\n",
              "        vertical-align: middle;\n",
              "    }\n",
              "\n",
              "    .dataframe tbody tr th {\n",
              "        vertical-align: top;\n",
              "    }\n",
              "\n",
              "    .dataframe thead th {\n",
              "        text-align: right;\n",
              "    }\n",
              "</style>\n",
              "<table border=\"1\" class=\"dataframe\">\n",
              "  <thead>\n",
              "    <tr style=\"text-align: right;\">\n",
              "      <th></th>\n",
              "      <th>0</th>\n",
              "      <th>1</th>\n",
              "      <th>2</th>\n",
              "      <th>3</th>\n",
              "      <th>4</th>\n",
              "      <th>5</th>\n",
              "      <th>6</th>\n",
              "      <th>7</th>\n",
              "      <th>8</th>\n",
              "      <th>9</th>\n",
              "      <th>10</th>\n",
              "      <th>11</th>\n",
              "      <th>12</th>\n",
              "      <th>13</th>\n",
              "      <th>14</th>\n",
              "    </tr>\n",
              "  </thead>\n",
              "  <tbody>\n",
              "    <tr>\n",
              "      <th>0</th>\n",
              "      <td>15800049.0</td>\n",
              "      <td>1.0</td>\n",
              "      <td>23.08</td>\n",
              "      <td>11.5</td>\n",
              "      <td>2.0</td>\n",
              "      <td>3.0</td>\n",
              "      <td>4.0</td>\n",
              "      <td>3.5</td>\n",
              "      <td>1.0</td>\n",
              "      <td>1.0</td>\n",
              "      <td>9.0</td>\n",
              "      <td>0.0</td>\n",
              "      <td>2.0</td>\n",
              "      <td>56.0</td>\n",
              "      <td>743.0</td>\n",
              "    </tr>\n",
              "    <tr>\n",
              "      <th>1</th>\n",
              "      <td>15593694.0</td>\n",
              "      <td>1.0</td>\n",
              "      <td>55.92</td>\n",
              "      <td>11.5</td>\n",
              "      <td>2.0</td>\n",
              "      <td>1.0</td>\n",
              "      <td>1.0</td>\n",
              "      <td>5.0</td>\n",
              "      <td>1.0</td>\n",
              "      <td>1.0</td>\n",
              "      <td>5.0</td>\n",
              "      <td>0.0</td>\n",
              "      <td>2.0</td>\n",
              "      <td>0.0</td>\n",
              "      <td>8852.0</td>\n",
              "    </tr>\n",
              "    <tr>\n",
              "      <th>2</th>\n",
              "      <td>15785367.0</td>\n",
              "      <td>1.0</td>\n",
              "      <td>51.33</td>\n",
              "      <td>10.0</td>\n",
              "      <td>2.0</td>\n",
              "      <td>3.0</td>\n",
              "      <td>5.0</td>\n",
              "      <td>0.0</td>\n",
              "      <td>1.0</td>\n",
              "      <td>1.0</td>\n",
              "      <td>11.0</td>\n",
              "      <td>0.0</td>\n",
              "      <td>2.0</td>\n",
              "      <td>0.0</td>\n",
              "      <td>1250.0</td>\n",
              "    </tr>\n",
              "    <tr>\n",
              "      <th>3</th>\n",
              "      <td>15781574.0</td>\n",
              "      <td>1.0</td>\n",
              "      <td>49.58</td>\n",
              "      <td>19.0</td>\n",
              "      <td>2.0</td>\n",
              "      <td>1.0</td>\n",
              "      <td>1.0</td>\n",
              "      <td>0.0</td>\n",
              "      <td>1.0</td>\n",
              "      <td>1.0</td>\n",
              "      <td>1.0</td>\n",
              "      <td>0.0</td>\n",
              "      <td>2.0</td>\n",
              "      <td>94.0</td>\n",
              "      <td>1.0</td>\n",
              "    </tr>\n",
              "  </tbody>\n",
              "</table>\n",
              "</div>\n",
              "      <button class=\"colab-df-convert\" onclick=\"convertToInteractive('df-a3d7d15a-a738-4788-9cbf-707e1f5e40a5')\"\n",
              "              title=\"Convert this dataframe to an interactive table.\"\n",
              "              style=\"display:none;\">\n",
              "        \n",
              "  <svg xmlns=\"http://www.w3.org/2000/svg\" height=\"24px\"viewBox=\"0 0 24 24\"\n",
              "       width=\"24px\">\n",
              "    <path d=\"M0 0h24v24H0V0z\" fill=\"none\"/>\n",
              "    <path d=\"M18.56 5.44l.94 2.06.94-2.06 2.06-.94-2.06-.94-.94-2.06-.94 2.06-2.06.94zm-11 1L8.5 8.5l.94-2.06 2.06-.94-2.06-.94L8.5 2.5l-.94 2.06-2.06.94zm10 10l.94 2.06.94-2.06 2.06-.94-2.06-.94-.94-2.06-.94 2.06-2.06.94z\"/><path d=\"M17.41 7.96l-1.37-1.37c-.4-.4-.92-.59-1.43-.59-.52 0-1.04.2-1.43.59L10.3 9.45l-7.72 7.72c-.78.78-.78 2.05 0 2.83L4 21.41c.39.39.9.59 1.41.59.51 0 1.02-.2 1.41-.59l7.78-7.78 2.81-2.81c.8-.78.8-2.07 0-2.86zM5.41 20L4 18.59l7.72-7.72 1.47 1.35L5.41 20z\"/>\n",
              "  </svg>\n",
              "      </button>\n",
              "      \n",
              "  <style>\n",
              "    .colab-df-container {\n",
              "      display:flex;\n",
              "      flex-wrap:wrap;\n",
              "      gap: 12px;\n",
              "    }\n",
              "\n",
              "    .colab-df-convert {\n",
              "      background-color: #E8F0FE;\n",
              "      border: none;\n",
              "      border-radius: 50%;\n",
              "      cursor: pointer;\n",
              "      display: none;\n",
              "      fill: #1967D2;\n",
              "      height: 32px;\n",
              "      padding: 0 0 0 0;\n",
              "      width: 32px;\n",
              "    }\n",
              "\n",
              "    .colab-df-convert:hover {\n",
              "      background-color: #E2EBFA;\n",
              "      box-shadow: 0px 1px 2px rgba(60, 64, 67, 0.3), 0px 1px 3px 1px rgba(60, 64, 67, 0.15);\n",
              "      fill: #174EA6;\n",
              "    }\n",
              "\n",
              "    [theme=dark] .colab-df-convert {\n",
              "      background-color: #3B4455;\n",
              "      fill: #D2E3FC;\n",
              "    }\n",
              "\n",
              "    [theme=dark] .colab-df-convert:hover {\n",
              "      background-color: #434B5C;\n",
              "      box-shadow: 0px 1px 3px 1px rgba(0, 0, 0, 0.15);\n",
              "      filter: drop-shadow(0px 1px 2px rgba(0, 0, 0, 0.3));\n",
              "      fill: #FFFFFF;\n",
              "    }\n",
              "  </style>\n",
              "\n",
              "      <script>\n",
              "        const buttonEl =\n",
              "          document.querySelector('#df-a3d7d15a-a738-4788-9cbf-707e1f5e40a5 button.colab-df-convert');\n",
              "        buttonEl.style.display =\n",
              "          google.colab.kernel.accessAllowed ? 'block' : 'none';\n",
              "\n",
              "        async function convertToInteractive(key) {\n",
              "          const element = document.querySelector('#df-a3d7d15a-a738-4788-9cbf-707e1f5e40a5');\n",
              "          const dataTable =\n",
              "            await google.colab.kernel.invokeFunction('convertToInteractive',\n",
              "                                                     [key], {});\n",
              "          if (!dataTable) return;\n",
              "\n",
              "          const docLinkHtml = 'Like what you see? Visit the ' +\n",
              "            '<a target=\"_blank\" href=https://colab.research.google.com/notebooks/data_table.ipynb>data table notebook</a>'\n",
              "            + ' to learn more about interactive tables.';\n",
              "          element.innerHTML = '';\n",
              "          dataTable['output_type'] = 'display_data';\n",
              "          await google.colab.output.renderOutput(dataTable, element);\n",
              "          const docLink = document.createElement('div');\n",
              "          docLink.innerHTML = docLinkHtml;\n",
              "          element.appendChild(docLink);\n",
              "        }\n",
              "      </script>\n",
              "    </div>\n",
              "  </div>\n",
              "  "
            ],
            "text/plain": [
              "           0    1      2     3    4    5   ...   9     10   11   12    13      14\n",
              "0  15800049.0  1.0  23.08  11.5  2.0  3.0  ...  1.0   9.0  0.0  2.0  56.0   743.0\n",
              "1  15593694.0  1.0  55.92  11.5  2.0  1.0  ...  1.0   5.0  0.0  2.0   0.0  8852.0\n",
              "2  15785367.0  1.0  51.33  10.0  2.0  3.0  ...  1.0  11.0  0.0  2.0   0.0  1250.0\n",
              "3  15781574.0  1.0  49.58  19.0  2.0  1.0  ...  1.0   1.0  0.0  2.0  94.0     1.0\n",
              "\n",
              "[4 rows x 15 columns]"
            ]
          },
          "metadata": {},
          "execution_count": 18
        }
      ]
    },
    {
      "cell_type": "code",
      "metadata": {
        "id": "By7GmvAQJKqL"
      },
      "source": [
        ""
      ],
      "execution_count": null,
      "outputs": []
    },
    {
      "cell_type": "markdown",
      "metadata": {
        "id": "cvRtQiojNCfB"
      },
      "source": [
        "4.2 - Hybrid deep learning model"
      ]
    },
    {
      "cell_type": "markdown",
      "metadata": {
        "id": "j0g1sIyzNNTE"
      },
      "source": [
        "4.2.1 - Outliers with SOM"
      ]
    },
    {
      "cell_type": "code",
      "metadata": {
        "id": "_XV4B0DVNHnd"
      },
      "source": [
        "import numpy as np\n",
        "import pandas as pd\n",
        "import matplotlib.pyplot as plt"
      ],
      "execution_count": null,
      "outputs": []
    },
    {
      "cell_type": "code",
      "metadata": {
        "id": "yi3zyuLYNHq_",
        "colab": {
          "base_uri": "https://localhost:8080/",
          "height": 250
        },
        "outputId": "4496a224-82fe-4ec5-c308-b86349818bff"
      },
      "source": [
        "data1=pd.read_csv('Credit_Card_Applications1.csv')\n",
        "data1.head()"
      ],
      "execution_count": null,
      "outputs": [
        {
          "output_type": "execute_result",
          "data": {
            "text/html": [
              "\n",
              "  <div id=\"df-7529502b-1f65-4b52-876e-411b920d71f4\">\n",
              "    <div class=\"colab-df-container\">\n",
              "      <div>\n",
              "<style scoped>\n",
              "    .dataframe tbody tr th:only-of-type {\n",
              "        vertical-align: middle;\n",
              "    }\n",
              "\n",
              "    .dataframe tbody tr th {\n",
              "        vertical-align: top;\n",
              "    }\n",
              "\n",
              "    .dataframe thead th {\n",
              "        text-align: right;\n",
              "    }\n",
              "</style>\n",
              "<table border=\"1\" class=\"dataframe\">\n",
              "  <thead>\n",
              "    <tr style=\"text-align: right;\">\n",
              "      <th></th>\n",
              "      <th>CustomerID</th>\n",
              "      <th>A1</th>\n",
              "      <th>A2</th>\n",
              "      <th>A3</th>\n",
              "      <th>A4</th>\n",
              "      <th>A5</th>\n",
              "      <th>A6</th>\n",
              "      <th>A7</th>\n",
              "      <th>A8</th>\n",
              "      <th>A9</th>\n",
              "      <th>A10</th>\n",
              "      <th>A11</th>\n",
              "      <th>A12</th>\n",
              "      <th>A13</th>\n",
              "      <th>A14</th>\n",
              "      <th>Class</th>\n",
              "    </tr>\n",
              "  </thead>\n",
              "  <tbody>\n",
              "    <tr>\n",
              "      <th>0</th>\n",
              "      <td>15776156</td>\n",
              "      <td>1</td>\n",
              "      <td>22.08</td>\n",
              "      <td>11.46</td>\n",
              "      <td>2</td>\n",
              "      <td>4</td>\n",
              "      <td>4</td>\n",
              "      <td>1.585</td>\n",
              "      <td>0</td>\n",
              "      <td>0</td>\n",
              "      <td>0</td>\n",
              "      <td>1</td>\n",
              "      <td>2</td>\n",
              "      <td>100</td>\n",
              "      <td>1213</td>\n",
              "      <td>0</td>\n",
              "    </tr>\n",
              "    <tr>\n",
              "      <th>1</th>\n",
              "      <td>15739548</td>\n",
              "      <td>0</td>\n",
              "      <td>22.67</td>\n",
              "      <td>7.00</td>\n",
              "      <td>2</td>\n",
              "      <td>8</td>\n",
              "      <td>4</td>\n",
              "      <td>0.165</td>\n",
              "      <td>0</td>\n",
              "      <td>0</td>\n",
              "      <td>0</td>\n",
              "      <td>0</td>\n",
              "      <td>2</td>\n",
              "      <td>160</td>\n",
              "      <td>1</td>\n",
              "      <td>0</td>\n",
              "    </tr>\n",
              "    <tr>\n",
              "      <th>2</th>\n",
              "      <td>15662854</td>\n",
              "      <td>0</td>\n",
              "      <td>29.58</td>\n",
              "      <td>1.75</td>\n",
              "      <td>1</td>\n",
              "      <td>4</td>\n",
              "      <td>4</td>\n",
              "      <td>1.250</td>\n",
              "      <td>0</td>\n",
              "      <td>0</td>\n",
              "      <td>0</td>\n",
              "      <td>1</td>\n",
              "      <td>2</td>\n",
              "      <td>280</td>\n",
              "      <td>1</td>\n",
              "      <td>0</td>\n",
              "    </tr>\n",
              "    <tr>\n",
              "      <th>3</th>\n",
              "      <td>15687688</td>\n",
              "      <td>0</td>\n",
              "      <td>21.67</td>\n",
              "      <td>11.50</td>\n",
              "      <td>1</td>\n",
              "      <td>5</td>\n",
              "      <td>3</td>\n",
              "      <td>0.000</td>\n",
              "      <td>1</td>\n",
              "      <td>1</td>\n",
              "      <td>11</td>\n",
              "      <td>1</td>\n",
              "      <td>2</td>\n",
              "      <td>0</td>\n",
              "      <td>1</td>\n",
              "      <td>1</td>\n",
              "    </tr>\n",
              "    <tr>\n",
              "      <th>4</th>\n",
              "      <td>15715750</td>\n",
              "      <td>1</td>\n",
              "      <td>20.17</td>\n",
              "      <td>8.17</td>\n",
              "      <td>2</td>\n",
              "      <td>6</td>\n",
              "      <td>4</td>\n",
              "      <td>1.960</td>\n",
              "      <td>1</td>\n",
              "      <td>1</td>\n",
              "      <td>14</td>\n",
              "      <td>0</td>\n",
              "      <td>2</td>\n",
              "      <td>60</td>\n",
              "      <td>159</td>\n",
              "      <td>1</td>\n",
              "    </tr>\n",
              "  </tbody>\n",
              "</table>\n",
              "</div>\n",
              "      <button class=\"colab-df-convert\" onclick=\"convertToInteractive('df-7529502b-1f65-4b52-876e-411b920d71f4')\"\n",
              "              title=\"Convert this dataframe to an interactive table.\"\n",
              "              style=\"display:none;\">\n",
              "        \n",
              "  <svg xmlns=\"http://www.w3.org/2000/svg\" height=\"24px\"viewBox=\"0 0 24 24\"\n",
              "       width=\"24px\">\n",
              "    <path d=\"M0 0h24v24H0V0z\" fill=\"none\"/>\n",
              "    <path d=\"M18.56 5.44l.94 2.06.94-2.06 2.06-.94-2.06-.94-.94-2.06-.94 2.06-2.06.94zm-11 1L8.5 8.5l.94-2.06 2.06-.94-2.06-.94L8.5 2.5l-.94 2.06-2.06.94zm10 10l.94 2.06.94-2.06 2.06-.94-2.06-.94-.94-2.06-.94 2.06-2.06.94z\"/><path d=\"M17.41 7.96l-1.37-1.37c-.4-.4-.92-.59-1.43-.59-.52 0-1.04.2-1.43.59L10.3 9.45l-7.72 7.72c-.78.78-.78 2.05 0 2.83L4 21.41c.39.39.9.59 1.41.59.51 0 1.02-.2 1.41-.59l7.78-7.78 2.81-2.81c.8-.78.8-2.07 0-2.86zM5.41 20L4 18.59l7.72-7.72 1.47 1.35L5.41 20z\"/>\n",
              "  </svg>\n",
              "      </button>\n",
              "      \n",
              "  <style>\n",
              "    .colab-df-container {\n",
              "      display:flex;\n",
              "      flex-wrap:wrap;\n",
              "      gap: 12px;\n",
              "    }\n",
              "\n",
              "    .colab-df-convert {\n",
              "      background-color: #E8F0FE;\n",
              "      border: none;\n",
              "      border-radius: 50%;\n",
              "      cursor: pointer;\n",
              "      display: none;\n",
              "      fill: #1967D2;\n",
              "      height: 32px;\n",
              "      padding: 0 0 0 0;\n",
              "      width: 32px;\n",
              "    }\n",
              "\n",
              "    .colab-df-convert:hover {\n",
              "      background-color: #E2EBFA;\n",
              "      box-shadow: 0px 1px 2px rgba(60, 64, 67, 0.3), 0px 1px 3px 1px rgba(60, 64, 67, 0.15);\n",
              "      fill: #174EA6;\n",
              "    }\n",
              "\n",
              "    [theme=dark] .colab-df-convert {\n",
              "      background-color: #3B4455;\n",
              "      fill: #D2E3FC;\n",
              "    }\n",
              "\n",
              "    [theme=dark] .colab-df-convert:hover {\n",
              "      background-color: #434B5C;\n",
              "      box-shadow: 0px 1px 3px 1px rgba(0, 0, 0, 0.15);\n",
              "      filter: drop-shadow(0px 1px 2px rgba(0, 0, 0, 0.3));\n",
              "      fill: #FFFFFF;\n",
              "    }\n",
              "  </style>\n",
              "\n",
              "      <script>\n",
              "        const buttonEl =\n",
              "          document.querySelector('#df-7529502b-1f65-4b52-876e-411b920d71f4 button.colab-df-convert');\n",
              "        buttonEl.style.display =\n",
              "          google.colab.kernel.accessAllowed ? 'block' : 'none';\n",
              "\n",
              "        async function convertToInteractive(key) {\n",
              "          const element = document.querySelector('#df-7529502b-1f65-4b52-876e-411b920d71f4');\n",
              "          const dataTable =\n",
              "            await google.colab.kernel.invokeFunction('convertToInteractive',\n",
              "                                                     [key], {});\n",
              "          if (!dataTable) return;\n",
              "\n",
              "          const docLinkHtml = 'Like what you see? Visit the ' +\n",
              "            '<a target=\"_blank\" href=https://colab.research.google.com/notebooks/data_table.ipynb>data table notebook</a>'\n",
              "            + ' to learn more about interactive tables.';\n",
              "          element.innerHTML = '';\n",
              "          dataTable['output_type'] = 'display_data';\n",
              "          await google.colab.output.renderOutput(dataTable, element);\n",
              "          const docLink = document.createElement('div');\n",
              "          docLink.innerHTML = docLinkHtml;\n",
              "          element.appendChild(docLink);\n",
              "        }\n",
              "      </script>\n",
              "    </div>\n",
              "  </div>\n",
              "  "
            ],
            "text/plain": [
              "   CustomerID  A1     A2     A3  A4  A5  ...  A10  A11  A12  A13   A14  Class\n",
              "0    15776156   1  22.08  11.46   2   4  ...    0    1    2  100  1213      0\n",
              "1    15739548   0  22.67   7.00   2   8  ...    0    0    2  160     1      0\n",
              "2    15662854   0  29.58   1.75   1   4  ...    0    1    2  280     1      0\n",
              "3    15687688   0  21.67  11.50   1   5  ...   11    1    2    0     1      1\n",
              "4    15715750   1  20.17   8.17   2   6  ...   14    0    2   60   159      1\n",
              "\n",
              "[5 rows x 16 columns]"
            ]
          },
          "metadata": {},
          "execution_count": 20
        }
      ]
    },
    {
      "cell_type": "code",
      "metadata": {
        "id": "WH33ni9bXeT-"
      },
      "source": [
        "X=data1.iloc[:,:-1].values\n",
        "Y=data1.iloc[:,-1].values"
      ],
      "execution_count": null,
      "outputs": []
    },
    {
      "cell_type": "code",
      "metadata": {
        "colab": {
          "base_uri": "https://localhost:8080/"
        },
        "id": "HNVftHgeXeXa",
        "outputId": "1185d264-0c0b-4a7a-e2be-63910d41d667"
      },
      "source": [
        "from sklearn.preprocessing import MinMaxScaler\n",
        "sc=MinMaxScaler()\n",
        "X=sc.fit_transform(X)\n",
        "X.shape"
      ],
      "execution_count": null,
      "outputs": [
        {
          "output_type": "execute_result",
          "data": {
            "text/plain": [
              "(690, 15)"
            ]
          },
          "metadata": {},
          "execution_count": 22
        }
      ]
    },
    {
      "cell_type": "code",
      "metadata": {
        "id": "wu1RLa9tNHu9"
      },
      "source": [
        "from minisom import MiniSom\n",
        "som=MiniSom(x=10,y=10,input_len=15,sigma=1,learning_rate=0.5)\n",
        "som.random_weights_init(X)\n",
        "som.train_random(X,num_iteration=100)"
      ],
      "execution_count": null,
      "outputs": []
    },
    {
      "cell_type": "code",
      "metadata": {
        "id": "l_AwFd6XNHyW",
        "colab": {
          "base_uri": "https://localhost:8080/",
          "height": 269
        },
        "outputId": "031195b3-fd54-4b06-a059-db2e06c1598e"
      },
      "source": [
        "# Visualizing esults\n",
        "from pylab import bone,pcolor,colorbar,plot,show\n",
        "bone()\n",
        "pcolor(som.distance_map().T,cmap='cividis')\n",
        "colorbar()\n",
        "markers=['s','^']\n",
        "colors=['lime','magenta']\n",
        "\n",
        "for i,x in enumerate(X):\n",
        "  w=som.winner(x)\n",
        "  plot(w[0]+0.5,w[1]+0.5,markers[Y[i]],\n",
        "       markeredgecolor=colors[Y[i]],\n",
        "       markerfacecolor='None',\n",
        "       markersize=10,markeredgewidth=1.2)\n",
        "\n",
        "show()"
      ],
      "execution_count": null,
      "outputs": [
        {
          "output_type": "display_data",
          "data": {
            "image/png": "[encoded data removed]",
            "text/plain": [
              "<Figure size 432x288 with 2 Axes>"
            ]
          },
          "metadata": {
            "needs_background": "light"
          }
        }
      ]
    },
    {
      "cell_type": "code",
      "metadata": {
        "id": "ua8uPDrCNH4E",
        "colab": {
          "base_uri": "https://localhost:8080/"
        },
        "outputId": "c4a882c8-3802-43f1-a431-2c0996845a2e"
      },
      "source": [
        "dist=som.distance_map()\n",
        "ind_100=[]\n",
        "for i in range(len(dist)):\n",
        "  for j in dist[i]:\n",
        "    if j>0.90:\n",
        "      ind_100.append((i,np.where(dist[i]==j)[0][0]))\n",
        "ind_100\n"
      ],
      "execution_count": null,
      "outputs": [
        {
          "output_type": "execute_result",
          "data": {
            "text/plain": [
              "[(1, 4), (5, 1), (7, 7), (8, 6)]"
            ]
          },
          "metadata": {},
          "execution_count": 202
        }
      ]
    },
    {
      "cell_type": "code",
      "metadata": {
        "colab": {
          "base_uri": "https://localhost:8080/"
        },
        "id": "kYxemtuwYXbt",
        "outputId": "b8281018-3f88-4ace-e0d7-ef51aef5c4d4"
      },
      "source": [
        "mappings=som.win_map(X)\n",
        "\n",
        "outliers_100=[]\n",
        "for i in ind_100:\n",
        "  for j in mappings[i]:\n",
        "    outliers_100.append(list(j))\n",
        "outliers_100"
      ],
      "execution_count": null,
      "outputs": [
        {
          "output_type": "execute_result",
          "data": {
            "text/plain": [
              "[[0.8830492253602955,\n",
              "  0.0,\n",
              "  0.08150375939849627,\n",
              "  0.02089285714285714,\n",
              "  0.0,\n",
              "  0.38461538461538464,\n",
              "  0.375,\n",
              "  0.02052631578947368,\n",
              "  1.0,\n",
              "  0.0,\n",
              "  0.0,\n",
              "  1.0,\n",
              "  0.5,\n",
              "  0.08,\n",
              "  0.0],\n",
              " [0.8074512771844695,\n",
              "  0.0,\n",
              "  0.5425563909774436,\n",
              "  0.48517857142857146,\n",
              "  0.5,\n",
              "  0.23076923076923078,\n",
              "  0.875,\n",
              "  0.2982456140350877,\n",
              "  1.0,\n",
              "  0.0,\n",
              "  0.0,\n",
              "  1.0,\n",
              "  0.5,\n",
              "  0.0,\n",
              "  0.0],\n",
              " [0.00850922399882137,\n",
              "  0.0,\n",
              "  0.22300751879699246,\n",
              "  0.12642857142857142,\n",
              "  0.5,\n",
              "  0.15384615384615385,\n",
              "  0.5,\n",
              "  0.017543859649122806,\n",
              "  1.0,\n",
              "  0.0,\n",
              "  0.0,\n",
              "  1.0,\n",
              "  0.5,\n",
              "  0.0855,\n",
              "  0.0],\n",
              " [0.05553620124214831,\n",
              "  0.0,\n",
              "  0.17037593984962404,\n",
              "  0.0907142857142857,\n",
              "  0.0,\n",
              "  0.38461538461538464,\n",
              "  0.375,\n",
              "  0.008771929824561403,\n",
              "  1.0,\n",
              "  0.0,\n",
              "  0.0,\n",
              "  1.0,\n",
              "  0.5,\n",
              "  0.185,\n",
              "  0.0],\n",
              " [0.3068205935233834,\n",
              "  0.0,\n",
              "  0.651578947368421,\n",
              "  0.011964285714285714,\n",
              "  0.5,\n",
              "  0.15384615384615385,\n",
              "  0.5,\n",
              "  0.03508771929824561,\n",
              "  1.0,\n",
              "  0.0,\n",
              "  0.0,\n",
              "  1.0,\n",
              "  0.5,\n",
              "  0.126,\n",
              "  0.021970000000000003],\n",
              " [0.6998506380916965,\n",
              "  0.0,\n",
              "  0.5300751879699248,\n",
              "  0.05357142857142857,\n",
              "  0.5,\n",
              "  0.3076923076923077,\n",
              "  0.25,\n",
              "  0.0,\n",
              "  1.0,\n",
              "  0.0,\n",
              "  0.0,\n",
              "  1.0,\n",
              "  0.5,\n",
              "  0.05,\n",
              "  0.00027],\n",
              " [0.9851799350495938,\n",
              "  0.0,\n",
              "  0.3458646616541353,\n",
              "  0.18303571428571427,\n",
              "  0.5,\n",
              "  0.6923076923076923,\n",
              "  0.375,\n",
              "  0.17543859649122806,\n",
              "  1.0,\n",
              "  0.0,\n",
              "  0.0,\n",
              "  1.0,\n",
              "  0.5,\n",
              "  0.0,\n",
              "  0.04],\n",
              " [0.5480220559086106,\n",
              "  0.0,\n",
              "  0.13157894736842105,\n",
              "  0.39285714285714285,\n",
              "  0.0,\n",
              "  0.7692307692307694,\n",
              "  0.375,\n",
              "  0.10526315789473684,\n",
              "  1.0,\n",
              "  0.0,\n",
              "  0.0,\n",
              "  1.0,\n",
              "  0.5,\n",
              "  0.134,\n",
              "  0.0],\n",
              " [0.2257206812184407,\n",
              "  0.0,\n",
              "  0.057593984962406,\n",
              "  0.3214285714285714,\n",
              "  0.5,\n",
              "  0.38461538461538464,\n",
              "  0.375,\n",
              "  0.04824561403508772,\n",
              "  1.0,\n",
              "  0.0,\n",
              "  0.0,\n",
              "  1.0,\n",
              "  0.5,\n",
              "  0.0,\n",
              "  0.0],\n",
              " [0.6014239435548134,\n",
              "  0.0,\n",
              "  0.2679699248120301,\n",
              "  0.125,\n",
              "  0.5,\n",
              "  0.07692307692307693,\n",
              "  0.375,\n",
              "  0.10526315789473684,\n",
              "  1.0,\n",
              "  0.0,\n",
              "  0.0,\n",
              "  1.0,\n",
              "  0.5,\n",
              "  0.15,\n",
              "  0.0],\n",
              " [0.9065547053005503,\n",
              "  0.0,\n",
              "  0.30330827067669175,\n",
              "  0.056607142857142856,\n",
              "  0.0,\n",
              "  0.0,\n",
              "  0.0,\n",
              "  0.0,\n",
              "  1.0,\n",
              "  0.0,\n",
              "  0.0,\n",
              "  0.0,\n",
              "  0.5,\n",
              "  0.16,\n",
              "  0.0],\n",
              " [0.8113915484385075,\n",
              "  0.0,\n",
              "  0.4147368421052632,\n",
              "  0.03571428571428571,\n",
              "  0.5,\n",
              "  0.15384615384615385,\n",
              "  0.5,\n",
              "  0.07894736842105263,\n",
              "  1.0,\n",
              "  0.0,\n",
              "  0.0,\n",
              "  1.0,\n",
              "  0.5,\n",
              "  0.0,\n",
              "  0.003],\n",
              " [0.7320655590660294,\n",
              "  0.0,\n",
              "  0.368421052631579,\n",
              "  0.21428571428571427,\n",
              "  0.5,\n",
              "  0.23076923076923078,\n",
              "  0.375,\n",
              "  0.03508771929824561,\n",
              "  1.0,\n",
              "  0.0,\n",
              "  0.0,\n",
              "  1.0,\n",
              "  0.5,\n",
              "  0.0,\n",
              "  0.0],\n",
              " [0.49645015196472997,\n",
              "  0.0,\n",
              "  0.22300751879699246,\n",
              "  0.05946428571428571,\n",
              "  0.5,\n",
              "  0.7692307692307694,\n",
              "  0.375,\n",
              "  0.08473684210526315,\n",
              "  1.0,\n",
              "  0.0,\n",
              "  0.0,\n",
              "  1.0,\n",
              "  0.5,\n",
              "  0.22,\n",
              "  0.0],\n",
              " [0.42703490583792814,\n",
              "  0.0,\n",
              "  0.3609022556390977,\n",
              "  0.19642857142857142,\n",
              "  0.5,\n",
              "  0.7692307692307694,\n",
              "  0.375,\n",
              "  0.0043859649122807015,\n",
              "  1.0,\n",
              "  0.0,\n",
              "  0.0,\n",
              "  1.0,\n",
              "  0.5,\n",
              "  0.114,\n",
              "  0.0],\n",
              " [0.8926476300309574,\n",
              "  0.0,\n",
              "  0.18045112781954883,\n",
              "  0.017857142857142856,\n",
              "  0.5,\n",
              "  0.5384615384615385,\n",
              "  0.875,\n",
              "  0.03070175438596491,\n",
              "  1.0,\n",
              "  0.0,\n",
              "  0.0,\n",
              "  1.0,\n",
              "  0.5,\n",
              "  0.2455,\n",
              "  0.0],\n",
              " [0.48842545319126174,\n",
              "  0.0,\n",
              "  0.11909774436090229,\n",
              "  0.4107142857142857,\n",
              "  0.0,\n",
              "  0.3076923076923077,\n",
              "  0.25,\n",
              "  0.0,\n",
              "  1.0,\n",
              "  1.0,\n",
              "  0.16417910447761194,\n",
              "  1.0,\n",
              "  0.5,\n",
              "  0.0,\n",
              "  0.0],\n",
              " [0.22236103936667462,\n",
              "  0.0,\n",
              "  0.07774436090225564,\n",
              "  0.33035714285714285,\n",
              "  0.0,\n",
              "  0.5384615384615385,\n",
              "  0.375,\n",
              "  0.03508771929824561,\n",
              "  1.0,\n",
              "  1.0,\n",
              "  0.05970149253731343,\n",
              "  1.0,\n",
              "  0.5,\n",
              "  0.04,\n",
              "  0.005000000000000001],\n",
              " [0.6207168570730701,\n",
              "  0.0,\n",
              "  0.14541353383458647,\n",
              "  0.028214285714285713,\n",
              "  0.0,\n",
              "  0.7692307692307694,\n",
              "  0.375,\n",
              "  0.05263157894736842,\n",
              "  1.0,\n",
              "  1.0,\n",
              "  0.029850746268656716,\n",
              "  1.0,\n",
              "  0.5,\n",
              "  0.04,\n",
              "  0.004000000000000001],\n",
              " [0.026616852668297497,\n",
              "  0.0,\n",
              "  0.40977443609022557,\n",
              "  0.07285714285714286,\n",
              "  0.0,\n",
              "  0.7692307692307694,\n",
              "  0.875,\n",
              "  0.0043859649122807015,\n",
              "  1.0,\n",
              "  1.0,\n",
              "  0.34328358208955223,\n",
              "  1.0,\n",
              "  0.5,\n",
              "  0.2275,\n",
              "  0.012360000000000001],\n",
              " [0.5318084803927476,\n",
              "  0.0,\n",
              "  0.0902255639097744,\n",
              "  0.026785714285714284,\n",
              "  0.5,\n",
              "  0.5384615384615385,\n",
              "  0.375,\n",
              "  0.027894736842105264,\n",
              "  1.0,\n",
              "  1.0,\n",
              "  0.07462686567164178,\n",
              "  1.0,\n",
              "  0.5,\n",
              "  0.07,\n",
              "  5.000000000000001e-05],\n",
              " [0.3889816561152344,\n",
              "  0.0,\n",
              "  0.23804511278195487,\n",
              "  0.0625,\n",
              "  0.0,\n",
              "  0.23076923076923078,\n",
              "  0.375,\n",
              "  0.043859649122807015,\n",
              "  0.0,\n",
              "  0.0,\n",
              "  0.0,\n",
              "  1.0,\n",
              "  0.5,\n",
              "  0.14,\n",
              "  0.0],\n",
              " [0.23023357319334536,\n",
              "  0.0,\n",
              "  0.19293233082706765,\n",
              "  0.0907142857142857,\n",
              "  0.0,\n",
              "  0.0,\n",
              "  0.0,\n",
              "  0.0,\n",
              "  0.0,\n",
              "  0.0,\n",
              "  0.0,\n",
              "  1.0,\n",
              "  0.5,\n",
              "  0.09,\n",
              "  0.0006000000000000001],\n",
              " [0.019196809341330834,\n",
              "  0.0,\n",
              "  0.573984962406015,\n",
              "  0.23214285714285712,\n",
              "  0.5,\n",
              "  0.15384615384615385,\n",
              "  0.5,\n",
              "  0.10824561403508771,\n",
              "  0.0,\n",
              "  0.0,\n",
              "  0.0,\n",
              "  1.0,\n",
              "  0.5,\n",
              "  0.0365,\n",
              "  0.0],\n",
              " [0.24672344821787107,\n",
              "  0.0,\n",
              "  0.14781954887218043,\n",
              "  0.4107142857142857,\n",
              "  0.0,\n",
              "  0.23076923076923078,\n",
              "  0.875,\n",
              "  0.10526315789473684,\n",
              "  0.0,\n",
              "  0.0,\n",
              "  0.0,\n",
              "  1.0,\n",
              "  0.5,\n",
              "  0.01,\n",
              "  0.00016],\n",
              " [0.2093349190522531,\n",
              "  0.0,\n",
              "  0.3169924812030075,\n",
              "  0.04464285714285714,\n",
              "  0.0,\n",
              "  0.15384615384615385,\n",
              "  0.875,\n",
              "  0.017543859649122806,\n",
              "  0.0,\n",
              "  0.0,\n",
              "  0.0,\n",
              "  1.0,\n",
              "  0.5,\n",
              "  0.08,\n",
              "  0.0],\n",
              " [0.8991346619735836,\n",
              "  0.0,\n",
              "  0.07774436090225564,\n",
              "  0.3214285714285714,\n",
              "  0.5,\n",
              "  0.38461538461538464,\n",
              "  0.375,\n",
              "  0.02631578947368421,\n",
              "  1.0,\n",
              "  1.0,\n",
              "  0.029850746268656716,\n",
              "  0.0,\n",
              "  0.5,\n",
              "  0.044,\n",
              "  0.005910000000000001],\n",
              " [0.8124246683404834,\n",
              "  0.0,\n",
              "  0.13037593984962406,\n",
              "  0.20232142857142857,\n",
              "  0.5,\n",
              "  0.7692307692307694,\n",
              "  0.375,\n",
              "  0.09070175438596491,\n",
              "  1.0,\n",
              "  1.0,\n",
              "  0.1044776119402985,\n",
              "  0.0,\n",
              "  0.5,\n",
              "  0.0645,\n",
              "  0.03257],\n",
              " [0.7321456458801379,\n",
              "  0.0,\n",
              "  0.2544360902255639,\n",
              "  0.42857142857142855,\n",
              "  0.5,\n",
              "  0.5384615384615385,\n",
              "  0.375,\n",
              "  0.07017543859649122,\n",
              "  1.0,\n",
              "  1.0,\n",
              "  0.014925373134328358,\n",
              "  0.0,\n",
              "  0.5,\n",
              "  0.11,\n",
              "  0.00019],\n",
              " [0.7678443432681092,\n",
              "  0.0,\n",
              "  0.5876691729323308,\n",
              "  0.5357142857142857,\n",
              "  0.5,\n",
              "  0.5384615384615385,\n",
              "  0.375,\n",
              "  0.19298245614035087,\n",
              "  1.0,\n",
              "  1.0,\n",
              "  0.208955223880597,\n",
              "  0.0,\n",
              "  0.5,\n",
              "  0.0,\n",
              "  0.022000000000000002],\n",
              " [0.9439312214440463,\n",
              "  0.0,\n",
              "  0.3308270676691729,\n",
              "  0.032678571428571425,\n",
              "  0.5,\n",
              "  0.38461538461538464,\n",
              "  0.375,\n",
              "  0.02631578947368421,\n",
              "  1.0,\n",
              "  1.0,\n",
              "  0.05970149253731343,\n",
              "  0.0,\n",
              "  0.5,\n",
              "  0.0,\n",
              "  0.01583],\n",
              " [1.0,\n",
              "  0.0,\n",
              "  0.651578947368421,\n",
              "  0.6964285714285714,\n",
              "  0.5,\n",
              "  0.5384615384615385,\n",
              "  0.375,\n",
              "  0.19298245614035087,\n",
              "  1.0,\n",
              "  1.0,\n",
              "  0.1044776119402985,\n",
              "  0.0,\n",
              "  0.5,\n",
              "  0.0,\n",
              "  0.030000000000000002],\n",
              " [0.7316651249955015,\n",
              "  0.0,\n",
              "  0.6703759398496241,\n",
              "  0.3571428571428571,\n",
              "  0.5,\n",
              "  0.7692307692307694,\n",
              "  0.375,\n",
              "  0.14035087719298245,\n",
              "  1.0,\n",
              "  1.0,\n",
              "  0.208955223880597,\n",
              "  0.0,\n",
              "  0.5,\n",
              "  0.0,\n",
              "  0.016020000000000003],\n",
              " [0.8906334466561816,\n",
              "  0.0,\n",
              "  0.23684210526315788,\n",
              "  0.016428571428571428,\n",
              "  0.5,\n",
              "  0.23076923076923078,\n",
              "  0.375,\n",
              "  0.018947368421052633,\n",
              "  1.0,\n",
              "  1.0,\n",
              "  0.05970149253731343,\n",
              "  0.0,\n",
              "  0.5,\n",
              "  0.19,\n",
              "  0.005000000000000001],\n",
              " [0.8254628016770198,\n",
              "  0.0,\n",
              "  0.16165413533834586,\n",
              "  0.45535714285714285,\n",
              "  0.5,\n",
              "  0.5384615384615385,\n",
              "  0.5,\n",
              "  0.16666666666666666,\n",
              "  1.0,\n",
              "  1.0,\n",
              "  0.029850746268656716,\n",
              "  0.0,\n",
              "  0.5,\n",
              "  0.0365,\n",
              "  0.00444],\n",
              " [0.9702877919664914,\n",
              "  0.0,\n",
              "  0.21684210526315792,\n",
              "  0.013392857142857142,\n",
              "  0.5,\n",
              "  0.7692307692307694,\n",
              "  0.375,\n",
              "  0.02052631578947368,\n",
              "  1.0,\n",
              "  1.0,\n",
              "  0.05970149253731343,\n",
              "  0.0,\n",
              "  0.5,\n",
              "  0.04,\n",
              "  0.0],\n",
              " [0.9184556058767726,\n",
              "  0.0,\n",
              "  0.08150375939849627,\n",
              "  0.30660714285714286,\n",
              "  0.5,\n",
              "  0.9230769230769231,\n",
              "  0.875,\n",
              "  0.02631578947368421,\n",
              "  1.0,\n",
              "  1.0,\n",
              "  0.1044776119402985,\n",
              "  0.0,\n",
              "  0.5,\n",
              "  0.048,\n",
              "  0.0],\n",
              " [0.9717413676425295,\n",
              "  0.0,\n",
              "  0.13157894736842105,\n",
              "  0.30357142857142855,\n",
              "  0.5,\n",
              "  0.7692307692307694,\n",
              "  0.375,\n",
              "  0.06140350877192982,\n",
              "  1.0,\n",
              "  1.0,\n",
              "  0.14925373134328357,\n",
              "  0.0,\n",
              "  0.5,\n",
              "  0.04,\n",
              "  0.0099],\n",
              " [0.5327174657328584,\n",
              "  0.0,\n",
              "  0.6428571428571429,\n",
              "  0.5714285714285714,\n",
              "  0.5,\n",
              "  0.3076923076923077,\n",
              "  0.0,\n",
              "  0.0,\n",
              "  1.0,\n",
              "  1.0,\n",
              "  0.22388059701492538,\n",
              "  0.0,\n",
              "  0.5,\n",
              "  0.0,\n",
              "  0.00247],\n",
              " [0.7973723516291713,\n",
              "  0.0,\n",
              "  0.10030075187969925,\n",
              "  0.26785714285714285,\n",
              "  0.5,\n",
              "  0.23076923076923078,\n",
              "  0.375,\n",
              "  0.05263157894736842,\n",
              "  1.0,\n",
              "  1.0,\n",
              "  0.014925373134328358,\n",
              "  0.0,\n",
              "  0.5,\n",
              "  0.08,\n",
              "  0.00234],\n",
              " [0.6567278930360558,\n",
              "  0.0,\n",
              "  0.11654135338345864,\n",
              "  0.21428571428571427,\n",
              "  0.5,\n",
              "  0.38461538461538464,\n",
              "  0.375,\n",
              "  0.08771929824561403,\n",
              "  1.0,\n",
              "  1.0,\n",
              "  0.04477611940298507,\n",
              "  0.0,\n",
              "  0.5,\n",
              "  0.04,\n",
              "  0.00918],\n",
              " [0.8842585362532986,\n",
              "  0.0,\n",
              "  0.10406015037593988,\n",
              "  0.06553571428571428,\n",
              "  0.5,\n",
              "  0.7692307692307694,\n",
              "  0.375,\n",
              "  0.0731578947368421,\n",
              "  1.0,\n",
              "  1.0,\n",
              "  0.07462686567164178,\n",
              "  0.0,\n",
              "  0.5,\n",
              "  0.11,\n",
              "  0.025030000000000004],\n",
              " [0.833151135831244,\n",
              "  0.0,\n",
              "  0.3258646616541354,\n",
              "  0.42857142857142855,\n",
              "  0.5,\n",
              "  0.7692307692307694,\n",
              "  0.875,\n",
              "  0.49122807017543857,\n",
              "  1.0,\n",
              "  1.0,\n",
              "  0.11940298507462686,\n",
              "  0.0,\n",
              "  0.5,\n",
              "  0.0,\n",
              "  0.06590000000000001],\n",
              " [0.8514469685138693,\n",
              "  0.0,\n",
              "  0.061353383458646576,\n",
              "  0.39285714285714285,\n",
              "  0.5,\n",
              "  1.0000000000000002,\n",
              "  0.875,\n",
              "  0.03508771929824561,\n",
              "  1.0,\n",
              "  1.0,\n",
              "  0.16417910447761194,\n",
              "  0.0,\n",
              "  0.5,\n",
              "  0.0,\n",
              "  0.030000000000000002],\n",
              " [0.9052012381421477,\n",
              "  0.0,\n",
              "  0.19804511278195489,\n",
              "  0.4821428571428571,\n",
              "  0.5,\n",
              "  0.7692307692307694,\n",
              "  0.875,\n",
              "  0.17543859649122806,\n",
              "  1.0,\n",
              "  1.0,\n",
              "  0.029850746268656716,\n",
              "  0.0,\n",
              "  0.5,\n",
              "  0.0,\n",
              "  0.05],\n",
              " [0.8440349338683149,\n",
              "  0.0,\n",
              "  0.2055639097744361,\n",
              "  0.5178571428571428,\n",
              "  0.5,\n",
              "  1.0000000000000002,\n",
              "  0.875,\n",
              "  0.10824561403508771,\n",
              "  1.0,\n",
              "  1.0,\n",
              "  0.014925373134328358,\n",
              "  0.0,\n",
              "  0.5,\n",
              "  0.06,\n",
              "  0.00011000000000000002]]"
            ]
          },
          "metadata": {},
          "execution_count": 203
        }
      ]
    },
    {
      "cell_type": "code",
      "metadata": {
        "colab": {
          "base_uri": "https://localhost:8080/"
        },
        "id": "rKKbD05iZ-QL",
        "outputId": "0cf5c9ea-e162-498a-b16c-9afc2dbcfcfa"
      },
      "source": [
        "outliers_100=sc.inverse_transform(outliers_100)\n",
        "\n",
        "frauds_100=pd.DataFrame(outliers_100)\n",
        "frauds_100[0]=frauds_100[0].astype('int64')\n",
        "outliers_100"
      ],
      "execution_count": null,
      "outputs": [
        {
          "output_type": "execute_result",
          "data": {
            "text/plain": [
              "array([[1.5786237e+07, 0.0000000e+00, 1.9170000e+01, 5.8500000e-01,\n",
              "        1.0000000e+00, 6.0000000e+00, 4.0000000e+00, 5.8500000e-01,\n",
              "        1.0000000e+00, 0.0000000e+00, 0.0000000e+00, 1.0000000e+00,\n",
              "        2.0000000e+00, 1.6000000e+02, 1.0000000e+00],\n",
              "       [1.5767358e+07, 0.0000000e+00, 4.9830000e+01, 1.3585000e+01,\n",
              "        2.0000000e+00, 4.0000000e+00, 8.0000000e+00, 8.5000000e+00,\n",
              "        1.0000000e+00, 0.0000000e+00, 0.0000000e+00, 1.0000000e+00,\n",
              "        2.0000000e+00, 0.0000000e+00, 1.0000000e+00],\n",
              "       [1.5567839e+07, 0.0000000e+00, 2.8580000e+01, 3.5400000e+00,\n",
              "        2.0000000e+00, 3.0000000e+00, 5.0000000e+00, 5.0000000e-01,\n",
              "        1.0000000e+00, 0.0000000e+00, 0.0000000e+00, 1.0000000e+00,\n",
              "        2.0000000e+00, 1.7100000e+02, 1.0000000e+00],\n",
              "       [1.5579583e+07, 0.0000000e+00, 2.5080000e+01, 2.5400000e+00,\n",
              "        1.0000000e+00, 6.0000000e+00, 4.0000000e+00, 2.5000000e-01,\n",
              "        1.0000000e+00, 0.0000000e+00, 0.0000000e+00, 1.0000000e+00,\n",
              "        2.0000000e+00, 3.7000000e+02, 1.0000000e+00],\n",
              "       [1.5642336e+07, 0.0000000e+00, 5.7080000e+01, 3.3500000e-01,\n",
              "        2.0000000e+00, 3.0000000e+00, 5.0000000e+00, 1.0000000e+00,\n",
              "        1.0000000e+00, 0.0000000e+00, 0.0000000e+00, 1.0000000e+00,\n",
              "        2.0000000e+00, 2.5200000e+02, 2.1980000e+03],\n",
              "       [1.5740487e+07, 0.0000000e+00, 4.9000000e+01, 1.5000000e+00,\n",
              "        2.0000000e+00, 5.0000000e+00, 3.0000000e+00, 0.0000000e+00,\n",
              "        1.0000000e+00, 0.0000000e+00, 0.0000000e+00, 1.0000000e+00,\n",
              "        2.0000000e+00, 1.0000000e+02, 2.8000000e+01],\n",
              "       [1.5811742e+07, 0.0000000e+00, 3.6750000e+01, 5.1250000e+00,\n",
              "        2.0000000e+00, 1.0000000e+01, 4.0000000e+00, 5.0000000e+00,\n",
              "        1.0000000e+00, 0.0000000e+00, 0.0000000e+00, 1.0000000e+00,\n",
              "        2.0000000e+00, 0.0000000e+00, 4.0010000e+03],\n",
              "       [1.5702571e+07, 0.0000000e+00, 2.2500000e+01, 1.1000000e+01,\n",
              "        1.0000000e+00, 1.1000000e+01, 4.0000000e+00, 3.0000000e+00,\n",
              "        1.0000000e+00, 0.0000000e+00, 0.0000000e+00, 1.0000000e+00,\n",
              "        2.0000000e+00, 2.6800000e+02, 1.0000000e+00],\n",
              "       [1.5622083e+07, 0.0000000e+00, 1.7580000e+01, 9.0000000e+00,\n",
              "        2.0000000e+00, 6.0000000e+00, 4.0000000e+00, 1.3750000e+00,\n",
              "        1.0000000e+00, 0.0000000e+00, 0.0000000e+00, 1.0000000e+00,\n",
              "        2.0000000e+00, 0.0000000e+00, 1.0000000e+00],\n",
              "       [1.5715907e+07, 0.0000000e+00, 3.1570000e+01, 3.5000000e+00,\n",
              "        2.0000000e+00, 2.0000000e+00, 4.0000000e+00, 3.0000000e+00,\n",
              "        1.0000000e+00, 0.0000000e+00, 0.0000000e+00, 1.0000000e+00,\n",
              "        2.0000000e+00, 3.0000000e+02, 1.0000000e+00],\n",
              "       [1.5792107e+07, 0.0000000e+00, 3.3920000e+01, 1.5850000e+00,\n",
              "        1.0000000e+00, 1.0000000e+00, 1.0000000e+00, 0.0000000e+00,\n",
              "        1.0000000e+00, 0.0000000e+00, 0.0000000e+00, 0.0000000e+00,\n",
              "        2.0000000e+00, 3.2000000e+02, 1.0000000e+00],\n",
              "       [1.5768342e+07, 0.0000000e+00, 4.1330000e+01, 1.0000000e+00,\n",
              "        2.0000000e+00, 3.0000000e+00, 5.0000000e+00, 2.2500000e+00,\n",
              "        1.0000000e+00, 0.0000000e+00, 0.0000000e+00, 1.0000000e+00,\n",
              "        2.0000000e+00, 0.0000000e+00, 3.0100000e+02],\n",
              "       [1.5748532e+07, 0.0000000e+00, 3.8250000e+01, 6.0000000e+00,\n",
              "        2.0000000e+00, 4.0000000e+00, 4.0000000e+00, 1.0000000e+00,\n",
              "        1.0000000e+00, 0.0000000e+00, 0.0000000e+00, 1.0000000e+00,\n",
              "        2.0000000e+00, 0.0000000e+00, 1.0000000e+00],\n",
              "       [1.5689692e+07, 0.0000000e+00, 2.8580000e+01, 1.6650000e+00,\n",
              "        2.0000000e+00, 1.1000000e+01, 4.0000000e+00, 2.4150000e+00,\n",
              "        1.0000000e+00, 0.0000000e+00, 0.0000000e+00, 1.0000000e+00,\n",
              "        2.0000000e+00, 4.4000000e+02, 1.0000000e+00],\n",
              "       [1.5672357e+07, 0.0000000e+00, 3.7750000e+01, 5.5000000e+00,\n",
              "        2.0000000e+00, 1.1000000e+01, 4.0000000e+00, 1.2500000e-01,\n",
              "        1.0000000e+00, 0.0000000e+00, 0.0000000e+00, 1.0000000e+00,\n",
              "        2.0000000e+00, 2.2800000e+02, 1.0000000e+00],\n",
              "       [1.5788634e+07, 0.0000000e+00, 2.5750000e+01, 5.0000000e-01,\n",
              "        2.0000000e+00, 8.0000000e+00, 8.0000000e+00, 8.7500000e-01,\n",
              "        1.0000000e+00, 0.0000000e+00, 0.0000000e+00, 1.0000000e+00,\n",
              "        2.0000000e+00, 4.9100000e+02, 1.0000000e+00],\n",
              "       [1.5687688e+07, 0.0000000e+00, 2.1670000e+01, 1.1500000e+01,\n",
              "        1.0000000e+00, 5.0000000e+00, 3.0000000e+00, 0.0000000e+00,\n",
              "        1.0000000e+00, 1.0000000e+00, 1.1000000e+01, 1.0000000e+00,\n",
              "        2.0000000e+00, 0.0000000e+00, 1.0000000e+00],\n",
              "       [1.5621244e+07, 0.0000000e+00, 1.8920000e+01, 9.2500000e+00,\n",
              "        1.0000000e+00, 8.0000000e+00, 4.0000000e+00, 1.0000000e+00,\n",
              "        1.0000000e+00, 1.0000000e+00, 4.0000000e+00, 1.0000000e+00,\n",
              "        2.0000000e+00, 8.0000000e+01, 5.0100000e+02],\n",
              "       [1.5720725e+07, 0.0000000e+00, 2.3420000e+01, 7.9000000e-01,\n",
              "        1.0000000e+00, 1.1000000e+01, 4.0000000e+00, 1.5000000e+00,\n",
              "        1.0000000e+00, 1.0000000e+00, 2.0000000e+00, 1.0000000e+00,\n",
              "        2.0000000e+00, 8.0000000e+01, 4.0100000e+02],\n",
              "       [1.5572361e+07, 0.0000000e+00, 4.1000000e+01, 2.0400000e+00,\n",
              "        1.0000000e+00, 1.1000000e+01, 8.0000000e+00, 1.2500000e-01,\n",
              "        1.0000000e+00, 1.0000000e+00, 2.3000000e+01, 1.0000000e+00,\n",
              "        2.0000000e+00, 4.5500000e+02, 1.2370000e+03],\n",
              "       [1.5698522e+07, 0.0000000e+00, 1.9750000e+01, 7.5000000e-01,\n",
              "        2.0000000e+00, 8.0000000e+00, 4.0000000e+00, 7.9500000e-01,\n",
              "        1.0000000e+00, 1.0000000e+00, 5.0000000e+00, 1.0000000e+00,\n",
              "        2.0000000e+00, 1.4000000e+02, 6.0000000e+00],\n",
              "       [1.5662854e+07, 0.0000000e+00, 2.9580000e+01, 1.7500000e+00,\n",
              "        1.0000000e+00, 4.0000000e+00, 4.0000000e+00, 1.2500000e+00,\n",
              "        0.0000000e+00, 0.0000000e+00, 0.0000000e+00, 1.0000000e+00,\n",
              "        2.0000000e+00, 2.8000000e+02, 1.0000000e+00],\n",
              "       [1.5623210e+07, 0.0000000e+00, 2.6580000e+01, 2.5400000e+00,\n",
              "        1.0000000e+00, 1.0000000e+00, 1.0000000e+00, 0.0000000e+00,\n",
              "        0.0000000e+00, 0.0000000e+00, 0.0000000e+00, 1.0000000e+00,\n",
              "        2.0000000e+00, 1.8000000e+02, 6.1000000e+01],\n",
              "       [1.5570508e+07, 0.0000000e+00, 5.1920000e+01, 6.5000000e+00,\n",
              "        2.0000000e+00, 3.0000000e+00, 5.0000000e+00, 3.0850000e+00,\n",
              "        0.0000000e+00, 0.0000000e+00, 0.0000000e+00, 1.0000000e+00,\n",
              "        2.0000000e+00, 7.3000000e+01, 1.0000000e+00],\n",
              "       [1.5627328e+07, 0.0000000e+00, 2.3580000e+01, 1.1500000e+01,\n",
              "        1.0000000e+00, 4.0000000e+00, 8.0000000e+00, 3.0000000e+00,\n",
              "        0.0000000e+00, 0.0000000e+00, 0.0000000e+00, 1.0000000e+00,\n",
              "        2.0000000e+00, 2.0000000e+01, 1.7000000e+01],\n",
              "       [1.5617991e+07, 0.0000000e+00, 3.4830000e+01, 1.2500000e+00,\n",
              "        1.0000000e+00, 3.0000000e+00, 8.0000000e+00, 5.0000000e-01,\n",
              "        0.0000000e+00, 0.0000000e+00, 0.0000000e+00, 1.0000000e+00,\n",
              "        2.0000000e+00, 1.6000000e+02, 1.0000000e+00],\n",
              "       [1.5790254e+07, 0.0000000e+00, 1.8920000e+01, 9.0000000e+00,\n",
              "        2.0000000e+00, 6.0000000e+00, 4.0000000e+00, 7.5000000e-01,\n",
              "        1.0000000e+00, 1.0000000e+00, 2.0000000e+00, 0.0000000e+00,\n",
              "        2.0000000e+00, 8.8000000e+01, 5.9200000e+02],\n",
              "       [1.5768600e+07, 0.0000000e+00, 2.2420000e+01, 5.6650000e+00,\n",
              "        2.0000000e+00, 1.1000000e+01, 4.0000000e+00, 2.5850000e+00,\n",
              "        1.0000000e+00, 1.0000000e+00, 7.0000000e+00, 0.0000000e+00,\n",
              "        2.0000000e+00, 1.2900000e+02, 3.2580000e+03],\n",
              "       [1.5748552e+07, 0.0000000e+00, 3.0670000e+01, 1.2000000e+01,\n",
              "        2.0000000e+00, 8.0000000e+00, 4.0000000e+00, 2.0000000e+00,\n",
              "        1.0000000e+00, 1.0000000e+00, 1.0000000e+00, 0.0000000e+00,\n",
              "        2.0000000e+00, 2.2000000e+02, 2.0000000e+01],\n",
              "       [1.5757467e+07, 0.0000000e+00, 5.2830000e+01, 1.5000000e+01,\n",
              "        2.0000000e+00, 8.0000000e+00, 4.0000000e+00, 5.5000000e+00,\n",
              "        1.0000000e+00, 1.0000000e+00, 1.4000000e+01, 0.0000000e+00,\n",
              "        2.0000000e+00, 0.0000000e+00, 2.2010000e+03],\n",
              "       [1.5801441e+07, 0.0000000e+00, 3.5750000e+01, 9.1500000e-01,\n",
              "        2.0000000e+00, 6.0000000e+00, 4.0000000e+00, 7.5000000e-01,\n",
              "        1.0000000e+00, 1.0000000e+00, 4.0000000e+00, 0.0000000e+00,\n",
              "        2.0000000e+00, 0.0000000e+00, 1.5840000e+03],\n",
              "       [1.5815443e+07, 0.0000000e+00, 5.7080000e+01, 1.9500000e+01,\n",
              "        2.0000000e+00, 8.0000000e+00, 4.0000000e+00, 5.5000000e+00,\n",
              "        1.0000000e+00, 1.0000000e+00, 7.0000000e+00, 0.0000000e+00,\n",
              "        2.0000000e+00, 0.0000000e+00, 3.0010000e+03],\n",
              "       [1.5748432e+07, 0.0000000e+00, 5.8330000e+01, 1.0000000e+01,\n",
              "        2.0000000e+00, 1.1000000e+01, 4.0000000e+00, 4.0000000e+00,\n",
              "        1.0000000e+00, 1.0000000e+00, 1.4000000e+01, 0.0000000e+00,\n",
              "        2.0000000e+00, 0.0000000e+00, 1.6030000e+03],\n",
              "       [1.5788131e+07, 0.0000000e+00, 2.9500000e+01, 4.6000000e-01,\n",
              "        2.0000000e+00, 4.0000000e+00, 4.0000000e+00, 5.4000000e-01,\n",
              "        1.0000000e+00, 1.0000000e+00, 4.0000000e+00, 0.0000000e+00,\n",
              "        2.0000000e+00, 3.8000000e+02, 5.0100000e+02],\n",
              "       [1.5771856e+07, 0.0000000e+00, 2.4500000e+01, 1.2750000e+01,\n",
              "        2.0000000e+00, 8.0000000e+00, 5.0000000e+00, 4.7500000e+00,\n",
              "        1.0000000e+00, 1.0000000e+00, 2.0000000e+00, 0.0000000e+00,\n",
              "        2.0000000e+00, 7.3000000e+01, 4.4500000e+02],\n",
              "       [1.5808023e+07, 0.0000000e+00, 2.8170000e+01, 3.7500000e-01,\n",
              "        2.0000000e+00, 1.1000000e+01, 4.0000000e+00, 5.8500000e-01,\n",
              "        1.0000000e+00, 1.0000000e+00, 4.0000000e+00, 0.0000000e+00,\n",
              "        2.0000000e+00, 8.0000000e+01, 1.0000000e+00],\n",
              "       [1.5795079e+07, 0.0000000e+00, 1.9170000e+01, 8.5850000e+00,\n",
              "        2.0000000e+00, 1.3000000e+01, 8.0000000e+00, 7.5000000e-01,\n",
              "        1.0000000e+00, 1.0000000e+00, 7.0000000e+00, 0.0000000e+00,\n",
              "        2.0000000e+00, 9.6000000e+01, 1.0000000e+00],\n",
              "       [1.5808386e+07, 0.0000000e+00, 2.2500000e+01, 8.5000000e+00,\n",
              "        2.0000000e+00, 1.1000000e+01, 4.0000000e+00, 1.7500000e+00,\n",
              "        1.0000000e+00, 1.0000000e+00, 1.0000000e+01, 0.0000000e+00,\n",
              "        2.0000000e+00, 8.0000000e+01, 9.9100000e+02],\n",
              "       [1.5698749e+07, 0.0000000e+00, 5.6500000e+01, 1.6000000e+01,\n",
              "        2.0000000e+00, 5.0000000e+00, 1.0000000e+00, 0.0000000e+00,\n",
              "        1.0000000e+00, 1.0000000e+00, 1.5000000e+01, 0.0000000e+00,\n",
              "        2.0000000e+00, 0.0000000e+00, 2.4800000e+02],\n",
              "       [1.5764841e+07, 0.0000000e+00, 2.0420000e+01, 7.5000000e+00,\n",
              "        2.0000000e+00, 4.0000000e+00, 4.0000000e+00, 1.5000000e+00,\n",
              "        1.0000000e+00, 1.0000000e+00, 1.0000000e+00, 0.0000000e+00,\n",
              "        2.0000000e+00, 1.6000000e+02, 2.3500000e+02],\n",
              "       [1.5729718e+07, 0.0000000e+00, 2.1500000e+01, 6.0000000e+00,\n",
              "        2.0000000e+00, 6.0000000e+00, 4.0000000e+00, 2.5000000e+00,\n",
              "        1.0000000e+00, 1.0000000e+00, 3.0000000e+00, 0.0000000e+00,\n",
              "        2.0000000e+00, 8.0000000e+01, 9.1900000e+02],\n",
              "       [1.5786539e+07, 0.0000000e+00, 2.0670000e+01, 1.8350000e+00,\n",
              "        2.0000000e+00, 1.1000000e+01, 4.0000000e+00, 2.0850000e+00,\n",
              "        1.0000000e+00, 1.0000000e+00, 5.0000000e+00, 0.0000000e+00,\n",
              "        2.0000000e+00, 2.2000000e+02, 2.5040000e+03],\n",
              "       [1.5773776e+07, 0.0000000e+00, 3.5420000e+01, 1.2000000e+01,\n",
              "        2.0000000e+00, 1.1000000e+01, 8.0000000e+00, 1.4000000e+01,\n",
              "        1.0000000e+00, 1.0000000e+00, 8.0000000e+00, 0.0000000e+00,\n",
              "        2.0000000e+00, 0.0000000e+00, 6.5910000e+03],\n",
              "       [1.5778345e+07, 0.0000000e+00, 1.7830000e+01, 1.1000000e+01,\n",
              "        2.0000000e+00, 1.4000000e+01, 8.0000000e+00, 1.0000000e+00,\n",
              "        1.0000000e+00, 1.0000000e+00, 1.1000000e+01, 0.0000000e+00,\n",
              "        2.0000000e+00, 0.0000000e+00, 3.0010000e+03],\n",
              "       [1.5791769e+07, 0.0000000e+00, 2.6920000e+01, 1.3500000e+01,\n",
              "        2.0000000e+00, 1.1000000e+01, 8.0000000e+00, 5.0000000e+00,\n",
              "        1.0000000e+00, 1.0000000e+00, 2.0000000e+00, 0.0000000e+00,\n",
              "        2.0000000e+00, 0.0000000e+00, 5.0010000e+03],\n",
              "       [1.5776494e+07, 0.0000000e+00, 2.7420000e+01, 1.4500000e+01,\n",
              "        2.0000000e+00, 1.4000000e+01, 8.0000000e+00, 3.0850000e+00,\n",
              "        1.0000000e+00, 1.0000000e+00, 1.0000000e+00, 0.0000000e+00,\n",
              "        2.0000000e+00, 1.2000000e+02, 1.2000000e+01]])"
            ]
          },
          "metadata": {},
          "execution_count": 204
        }
      ]
    },
    {
      "cell_type": "markdown",
      "metadata": {
        "id": "yvkYbSBONUUd"
      },
      "source": [
        "4.2.2 - Unsupervised combined with supervised DL"
      ]
    },
    {
      "cell_type": "code",
      "metadata": {
        "id": "yqrnUHdTNH7K"
      },
      "source": [
        "# Creating the matrix of features\n",
        "customers=data1.iloc[:,1:].values\n",
        "\n",
        "# Creating dependent variable\n",
        "is_fraud=np.zeros(len(data1))"
      ],
      "execution_count": null,
      "outputs": []
    },
    {
      "cell_type": "code",
      "metadata": {
        "colab": {
          "base_uri": "https://localhost:8080/"
        },
        "id": "lhcSRWkmiLD5",
        "outputId": "aa7ab274-345a-4d8b-b4bb-4b2294d63d00"
      },
      "source": [
        "outliers_100"
      ],
      "execution_count": null,
      "outputs": [
        {
          "output_type": "execute_result",
          "data": {
            "text/plain": [
              "array([[1.5786237e+07, 0.0000000e+00, 1.9170000e+01, 5.8500000e-01,\n",
              "        1.0000000e+00, 6.0000000e+00, 4.0000000e+00, 5.8500000e-01,\n",
              "        1.0000000e+00, 0.0000000e+00, 0.0000000e+00, 1.0000000e+00,\n",
              "        2.0000000e+00, 1.6000000e+02, 1.0000000e+00],\n",
              "       [1.5767358e+07, 0.0000000e+00, 4.9830000e+01, 1.3585000e+01,\n",
              "        2.0000000e+00, 4.0000000e+00, 8.0000000e+00, 8.5000000e+00,\n",
              "        1.0000000e+00, 0.0000000e+00, 0.0000000e+00, 1.0000000e+00,\n",
              "        2.0000000e+00, 0.0000000e+00, 1.0000000e+00],\n",
              "       [1.5567839e+07, 0.0000000e+00, 2.8580000e+01, 3.5400000e+00,\n",
              "        2.0000000e+00, 3.0000000e+00, 5.0000000e+00, 5.0000000e-01,\n",
              "        1.0000000e+00, 0.0000000e+00, 0.0000000e+00, 1.0000000e+00,\n",
              "        2.0000000e+00, 1.7100000e+02, 1.0000000e+00],\n",
              "       [1.5579583e+07, 0.0000000e+00, 2.5080000e+01, 2.5400000e+00,\n",
              "        1.0000000e+00, 6.0000000e+00, 4.0000000e+00, 2.5000000e-01,\n",
              "        1.0000000e+00, 0.0000000e+00, 0.0000000e+00, 1.0000000e+00,\n",
              "        2.0000000e+00, 3.7000000e+02, 1.0000000e+00],\n",
              "       [1.5642336e+07, 0.0000000e+00, 5.7080000e+01, 3.3500000e-01,\n",
              "        2.0000000e+00, 3.0000000e+00, 5.0000000e+00, 1.0000000e+00,\n",
              "        1.0000000e+00, 0.0000000e+00, 0.0000000e+00, 1.0000000e+00,\n",
              "        2.0000000e+00, 2.5200000e+02, 2.1980000e+03],\n",
              "       [1.5740487e+07, 0.0000000e+00, 4.9000000e+01, 1.5000000e+00,\n",
              "        2.0000000e+00, 5.0000000e+00, 3.0000000e+00, 0.0000000e+00,\n",
              "        1.0000000e+00, 0.0000000e+00, 0.0000000e+00, 1.0000000e+00,\n",
              "        2.0000000e+00, 1.0000000e+02, 2.8000000e+01],\n",
              "       [1.5811742e+07, 0.0000000e+00, 3.6750000e+01, 5.1250000e+00,\n",
              "        2.0000000e+00, 1.0000000e+01, 4.0000000e+00, 5.0000000e+00,\n",
              "        1.0000000e+00, 0.0000000e+00, 0.0000000e+00, 1.0000000e+00,\n",
              "        2.0000000e+00, 0.0000000e+00, 4.0010000e+03],\n",
              "       [1.5702571e+07, 0.0000000e+00, 2.2500000e+01, 1.1000000e+01,\n",
              "        1.0000000e+00, 1.1000000e+01, 4.0000000e+00, 3.0000000e+00,\n",
              "        1.0000000e+00, 0.0000000e+00, 0.0000000e+00, 1.0000000e+00,\n",
              "        2.0000000e+00, 2.6800000e+02, 1.0000000e+00],\n",
              "       [1.5622083e+07, 0.0000000e+00, 1.7580000e+01, 9.0000000e+00,\n",
              "        2.0000000e+00, 6.0000000e+00, 4.0000000e+00, 1.3750000e+00,\n",
              "        1.0000000e+00, 0.0000000e+00, 0.0000000e+00, 1.0000000e+00,\n",
              "        2.0000000e+00, 0.0000000e+00, 1.0000000e+00],\n",
              "       [1.5715907e+07, 0.0000000e+00, 3.1570000e+01, 3.5000000e+00,\n",
              "        2.0000000e+00, 2.0000000e+00, 4.0000000e+00, 3.0000000e+00,\n",
              "        1.0000000e+00, 0.0000000e+00, 0.0000000e+00, 1.0000000e+00,\n",
              "        2.0000000e+00, 3.0000000e+02, 1.0000000e+00],\n",
              "       [1.5792107e+07, 0.0000000e+00, 3.3920000e+01, 1.5850000e+00,\n",
              "        1.0000000e+00, 1.0000000e+00, 1.0000000e+00, 0.0000000e+00,\n",
              "        1.0000000e+00, 0.0000000e+00, 0.0000000e+00, 0.0000000e+00,\n",
              "        2.0000000e+00, 3.2000000e+02, 1.0000000e+00],\n",
              "       [1.5768342e+07, 0.0000000e+00, 4.1330000e+01, 1.0000000e+00,\n",
              "        2.0000000e+00, 3.0000000e+00, 5.0000000e+00, 2.2500000e+00,\n",
              "        1.0000000e+00, 0.0000000e+00, 0.0000000e+00, 1.0000000e+00,\n",
              "        2.0000000e+00, 0.0000000e+00, 3.0100000e+02],\n",
              "       [1.5748532e+07, 0.0000000e+00, 3.8250000e+01, 6.0000000e+00,\n",
              "        2.0000000e+00, 4.0000000e+00, 4.0000000e+00, 1.0000000e+00,\n",
              "        1.0000000e+00, 0.0000000e+00, 0.0000000e+00, 1.0000000e+00,\n",
              "        2.0000000e+00, 0.0000000e+00, 1.0000000e+00],\n",
              "       [1.5689692e+07, 0.0000000e+00, 2.8580000e+01, 1.6650000e+00,\n",
              "        2.0000000e+00, 1.1000000e+01, 4.0000000e+00, 2.4150000e+00,\n",
              "        1.0000000e+00, 0.0000000e+00, 0.0000000e+00, 1.0000000e+00,\n",
              "        2.0000000e+00, 4.4000000e+02, 1.0000000e+00],\n",
              "       [1.5672357e+07, 0.0000000e+00, 3.7750000e+01, 5.5000000e+00,\n",
              "        2.0000000e+00, 1.1000000e+01, 4.0000000e+00, 1.2500000e-01,\n",
              "        1.0000000e+00, 0.0000000e+00, 0.0000000e+00, 1.0000000e+00,\n",
              "        2.0000000e+00, 2.2800000e+02, 1.0000000e+00],\n",
              "       [1.5788634e+07, 0.0000000e+00, 2.5750000e+01, 5.0000000e-01,\n",
              "        2.0000000e+00, 8.0000000e+00, 8.0000000e+00, 8.7500000e-01,\n",
              "        1.0000000e+00, 0.0000000e+00, 0.0000000e+00, 1.0000000e+00,\n",
              "        2.0000000e+00, 4.9100000e+02, 1.0000000e+00],\n",
              "       [1.5687688e+07, 0.0000000e+00, 2.1670000e+01, 1.1500000e+01,\n",
              "        1.0000000e+00, 5.0000000e+00, 3.0000000e+00, 0.0000000e+00,\n",
              "        1.0000000e+00, 1.0000000e+00, 1.1000000e+01, 1.0000000e+00,\n",
              "        2.0000000e+00, 0.0000000e+00, 1.0000000e+00],\n",
              "       [1.5621244e+07, 0.0000000e+00, 1.8920000e+01, 9.2500000e+00,\n",
              "        1.0000000e+00, 8.0000000e+00, 4.0000000e+00, 1.0000000e+00,\n",
              "        1.0000000e+00, 1.0000000e+00, 4.0000000e+00, 1.0000000e+00,\n",
              "        2.0000000e+00, 8.0000000e+01, 5.0100000e+02],\n",
              "       [1.5720725e+07, 0.0000000e+00, 2.3420000e+01, 7.9000000e-01,\n",
              "        1.0000000e+00, 1.1000000e+01, 4.0000000e+00, 1.5000000e+00,\n",
              "        1.0000000e+00, 1.0000000e+00, 2.0000000e+00, 1.0000000e+00,\n",
              "        2.0000000e+00, 8.0000000e+01, 4.0100000e+02],\n",
              "       [1.5572361e+07, 0.0000000e+00, 4.1000000e+01, 2.0400000e+00,\n",
              "        1.0000000e+00, 1.1000000e+01, 8.0000000e+00, 1.2500000e-01,\n",
              "        1.0000000e+00, 1.0000000e+00, 2.3000000e+01, 1.0000000e+00,\n",
              "        2.0000000e+00, 4.5500000e+02, 1.2370000e+03],\n",
              "       [1.5698522e+07, 0.0000000e+00, 1.9750000e+01, 7.5000000e-01,\n",
              "        2.0000000e+00, 8.0000000e+00, 4.0000000e+00, 7.9500000e-01,\n",
              "        1.0000000e+00, 1.0000000e+00, 5.0000000e+00, 1.0000000e+00,\n",
              "        2.0000000e+00, 1.4000000e+02, 6.0000000e+00],\n",
              "       [1.5662854e+07, 0.0000000e+00, 2.9580000e+01, 1.7500000e+00,\n",
              "        1.0000000e+00, 4.0000000e+00, 4.0000000e+00, 1.2500000e+00,\n",
              "        0.0000000e+00, 0.0000000e+00, 0.0000000e+00, 1.0000000e+00,\n",
              "        2.0000000e+00, 2.8000000e+02, 1.0000000e+00],\n",
              "       [1.5623210e+07, 0.0000000e+00, 2.6580000e+01, 2.5400000e+00,\n",
              "        1.0000000e+00, 1.0000000e+00, 1.0000000e+00, 0.0000000e+00,\n",
              "        0.0000000e+00, 0.0000000e+00, 0.0000000e+00, 1.0000000e+00,\n",
              "        2.0000000e+00, 1.8000000e+02, 6.1000000e+01],\n",
              "       [1.5570508e+07, 0.0000000e+00, 5.1920000e+01, 6.5000000e+00,\n",
              "        2.0000000e+00, 3.0000000e+00, 5.0000000e+00, 3.0850000e+00,\n",
              "        0.0000000e+00, 0.0000000e+00, 0.0000000e+00, 1.0000000e+00,\n",
              "        2.0000000e+00, 7.3000000e+01, 1.0000000e+00],\n",
              "       [1.5627328e+07, 0.0000000e+00, 2.3580000e+01, 1.1500000e+01,\n",
              "        1.0000000e+00, 4.0000000e+00, 8.0000000e+00, 3.0000000e+00,\n",
              "        0.0000000e+00, 0.0000000e+00, 0.0000000e+00, 1.0000000e+00,\n",
              "        2.0000000e+00, 2.0000000e+01, 1.7000000e+01],\n",
              "       [1.5617991e+07, 0.0000000e+00, 3.4830000e+01, 1.2500000e+00,\n",
              "        1.0000000e+00, 3.0000000e+00, 8.0000000e+00, 5.0000000e-01,\n",
              "        0.0000000e+00, 0.0000000e+00, 0.0000000e+00, 1.0000000e+00,\n",
              "        2.0000000e+00, 1.6000000e+02, 1.0000000e+00],\n",
              "       [1.5790254e+07, 0.0000000e+00, 1.8920000e+01, 9.0000000e+00,\n",
              "        2.0000000e+00, 6.0000000e+00, 4.0000000e+00, 7.5000000e-01,\n",
              "        1.0000000e+00, 1.0000000e+00, 2.0000000e+00, 0.0000000e+00,\n",
              "        2.0000000e+00, 8.8000000e+01, 5.9200000e+02],\n",
              "       [1.5768600e+07, 0.0000000e+00, 2.2420000e+01, 5.6650000e+00,\n",
              "        2.0000000e+00, 1.1000000e+01, 4.0000000e+00, 2.5850000e+00,\n",
              "        1.0000000e+00, 1.0000000e+00, 7.0000000e+00, 0.0000000e+00,\n",
              "        2.0000000e+00, 1.2900000e+02, 3.2580000e+03],\n",
              "       [1.5748552e+07, 0.0000000e+00, 3.0670000e+01, 1.2000000e+01,\n",
              "        2.0000000e+00, 8.0000000e+00, 4.0000000e+00, 2.0000000e+00,\n",
              "        1.0000000e+00, 1.0000000e+00, 1.0000000e+00, 0.0000000e+00,\n",
              "        2.0000000e+00, 2.2000000e+02, 2.0000000e+01],\n",
              "       [1.5757467e+07, 0.0000000e+00, 5.2830000e+01, 1.5000000e+01,\n",
              "        2.0000000e+00, 8.0000000e+00, 4.0000000e+00, 5.5000000e+00,\n",
              "        1.0000000e+00, 1.0000000e+00, 1.4000000e+01, 0.0000000e+00,\n",
              "        2.0000000e+00, 0.0000000e+00, 2.2010000e+03],\n",
              "       [1.5801441e+07, 0.0000000e+00, 3.5750000e+01, 9.1500000e-01,\n",
              "        2.0000000e+00, 6.0000000e+00, 4.0000000e+00, 7.5000000e-01,\n",
              "        1.0000000e+00, 1.0000000e+00, 4.0000000e+00, 0.0000000e+00,\n",
              "        2.0000000e+00, 0.0000000e+00, 1.5840000e+03],\n",
              "       [1.5815443e+07, 0.0000000e+00, 5.7080000e+01, 1.9500000e+01,\n",
              "        2.0000000e+00, 8.0000000e+00, 4.0000000e+00, 5.5000000e+00,\n",
              "        1.0000000e+00, 1.0000000e+00, 7.0000000e+00, 0.0000000e+00,\n",
              "        2.0000000e+00, 0.0000000e+00, 3.0010000e+03],\n",
              "       [1.5748432e+07, 0.0000000e+00, 5.8330000e+01, 1.0000000e+01,\n",
              "        2.0000000e+00, 1.1000000e+01, 4.0000000e+00, 4.0000000e+00,\n",
              "        1.0000000e+00, 1.0000000e+00, 1.4000000e+01, 0.0000000e+00,\n",
              "        2.0000000e+00, 0.0000000e+00, 1.6030000e+03],\n",
              "       [1.5788131e+07, 0.0000000e+00, 2.9500000e+01, 4.6000000e-01,\n",
              "        2.0000000e+00, 4.0000000e+00, 4.0000000e+00, 5.4000000e-01,\n",
              "        1.0000000e+00, 1.0000000e+00, 4.0000000e+00, 0.0000000e+00,\n",
              "        2.0000000e+00, 3.8000000e+02, 5.0100000e+02],\n",
              "       [1.5771856e+07, 0.0000000e+00, 2.4500000e+01, 1.2750000e+01,\n",
              "        2.0000000e+00, 8.0000000e+00, 5.0000000e+00, 4.7500000e+00,\n",
              "        1.0000000e+00, 1.0000000e+00, 2.0000000e+00, 0.0000000e+00,\n",
              "        2.0000000e+00, 7.3000000e+01, 4.4500000e+02],\n",
              "       [1.5808023e+07, 0.0000000e+00, 2.8170000e+01, 3.7500000e-01,\n",
              "        2.0000000e+00, 1.1000000e+01, 4.0000000e+00, 5.8500000e-01,\n",
              "        1.0000000e+00, 1.0000000e+00, 4.0000000e+00, 0.0000000e+00,\n",
              "        2.0000000e+00, 8.0000000e+01, 1.0000000e+00],\n",
              "       [1.5795079e+07, 0.0000000e+00, 1.9170000e+01, 8.5850000e+00,\n",
              "        2.0000000e+00, 1.3000000e+01, 8.0000000e+00, 7.5000000e-01,\n",
              "        1.0000000e+00, 1.0000000e+00, 7.0000000e+00, 0.0000000e+00,\n",
              "        2.0000000e+00, 9.6000000e+01, 1.0000000e+00],\n",
              "       [1.5808386e+07, 0.0000000e+00, 2.2500000e+01, 8.5000000e+00,\n",
              "        2.0000000e+00, 1.1000000e+01, 4.0000000e+00, 1.7500000e+00,\n",
              "        1.0000000e+00, 1.0000000e+00, 1.0000000e+01, 0.0000000e+00,\n",
              "        2.0000000e+00, 8.0000000e+01, 9.9100000e+02],\n",
              "       [1.5698749e+07, 0.0000000e+00, 5.6500000e+01, 1.6000000e+01,\n",
              "        2.0000000e+00, 5.0000000e+00, 1.0000000e+00, 0.0000000e+00,\n",
              "        1.0000000e+00, 1.0000000e+00, 1.5000000e+01, 0.0000000e+00,\n",
              "        2.0000000e+00, 0.0000000e+00, 2.4800000e+02],\n",
              "       [1.5764841e+07, 0.0000000e+00, 2.0420000e+01, 7.5000000e+00,\n",
              "        2.0000000e+00, 4.0000000e+00, 4.0000000e+00, 1.5000000e+00,\n",
              "        1.0000000e+00, 1.0000000e+00, 1.0000000e+00, 0.0000000e+00,\n",
              "        2.0000000e+00, 1.6000000e+02, 2.3500000e+02],\n",
              "       [1.5729718e+07, 0.0000000e+00, 2.1500000e+01, 6.0000000e+00,\n",
              "        2.0000000e+00, 6.0000000e+00, 4.0000000e+00, 2.5000000e+00,\n",
              "        1.0000000e+00, 1.0000000e+00, 3.0000000e+00, 0.0000000e+00,\n",
              "        2.0000000e+00, 8.0000000e+01, 9.1900000e+02],\n",
              "       [1.5786539e+07, 0.0000000e+00, 2.0670000e+01, 1.8350000e+00,\n",
              "        2.0000000e+00, 1.1000000e+01, 4.0000000e+00, 2.0850000e+00,\n",
              "        1.0000000e+00, 1.0000000e+00, 5.0000000e+00, 0.0000000e+00,\n",
              "        2.0000000e+00, 2.2000000e+02, 2.5040000e+03],\n",
              "       [1.5773776e+07, 0.0000000e+00, 3.5420000e+01, 1.2000000e+01,\n",
              "        2.0000000e+00, 1.1000000e+01, 8.0000000e+00, 1.4000000e+01,\n",
              "        1.0000000e+00, 1.0000000e+00, 8.0000000e+00, 0.0000000e+00,\n",
              "        2.0000000e+00, 0.0000000e+00, 6.5910000e+03],\n",
              "       [1.5778345e+07, 0.0000000e+00, 1.7830000e+01, 1.1000000e+01,\n",
              "        2.0000000e+00, 1.4000000e+01, 8.0000000e+00, 1.0000000e+00,\n",
              "        1.0000000e+00, 1.0000000e+00, 1.1000000e+01, 0.0000000e+00,\n",
              "        2.0000000e+00, 0.0000000e+00, 3.0010000e+03],\n",
              "       [1.5791769e+07, 0.0000000e+00, 2.6920000e+01, 1.3500000e+01,\n",
              "        2.0000000e+00, 1.1000000e+01, 8.0000000e+00, 5.0000000e+00,\n",
              "        1.0000000e+00, 1.0000000e+00, 2.0000000e+00, 0.0000000e+00,\n",
              "        2.0000000e+00, 0.0000000e+00, 5.0010000e+03],\n",
              "       [1.5776494e+07, 0.0000000e+00, 2.7420000e+01, 1.4500000e+01,\n",
              "        2.0000000e+00, 1.4000000e+01, 8.0000000e+00, 3.0850000e+00,\n",
              "        1.0000000e+00, 1.0000000e+00, 1.0000000e+00, 0.0000000e+00,\n",
              "        2.0000000e+00, 1.2000000e+02, 1.2000000e+01]])"
            ]
          },
          "metadata": {},
          "execution_count": 206
        }
      ]
    },
    {
      "cell_type": "code",
      "metadata": {
        "id": "EqzcN5sqNH9k",
        "colab": {
          "base_uri": "https://localhost:8080/"
        },
        "outputId": "2883bbf9-c2d4-4a28-b84c-2e7b0a48a671"
      },
      "source": [
        "for i in range(len(data1)):\n",
        "  if data1.iloc[i,0] in outliers_100:\n",
        "    is_fraud[i]=1\n",
        "is_fraud.sum()"
      ],
      "execution_count": null,
      "outputs": [
        {
          "output_type": "execute_result",
          "data": {
            "text/plain": [
              "46.0"
            ]
          },
          "metadata": {},
          "execution_count": 208
        }
      ]
    },
    {
      "cell_type": "code",
      "metadata": {
        "id": "CvTXVjKdNH_y"
      },
      "source": [
        "from sklearn.preprocessing import MinMaxScaler\n",
        "sc=MinMaxScaler()\n",
        "customers=sc.fit_transform(customers)"
      ],
      "execution_count": null,
      "outputs": []
    },
    {
      "cell_type": "markdown",
      "metadata": {
        "id": "52252T1GlnF7"
      },
      "source": [
        "4.2.2 - ANN"
      ]
    },
    {
      "cell_type": "code",
      "metadata": {
        "id": "5y5GUvtJlnzW"
      },
      "source": [
        "from tensorflow.keras.models import Sequential\n",
        "from tensorflow.keras.layers import Dense"
      ],
      "execution_count": null,
      "outputs": []
    },
    {
      "cell_type": "code",
      "metadata": {
        "id": "UM8nRMsQlnzX"
      },
      "source": [
        "clf=Sequential()\n",
        "# first hidden layer\n",
        "clf.add(Dense(units=3,activation='relu',kernel_initializer='uniform',input_dim=15))\n",
        "# second hidden layer\n",
        "clf.add(Dense(units=3,activation='relu',kernel_initializer='uniform'))\n",
        "# output layer\n",
        "clf.add(Dense(units=1,activation='sigmoid',kernel_initializer='uniform'))\n"
      ],
      "execution_count": null,
      "outputs": []
    },
    {
      "cell_type": "code",
      "metadata": {
        "id": "6TleMon3lnzY"
      },
      "source": [
        "### compiling ANN\n",
        "\n",
        "clf.compile(optimizer='adam',loss='binary_crossentropy',metrics=['accuracy'])"
      ],
      "execution_count": null,
      "outputs": []
    },
    {
      "cell_type": "code",
      "metadata": {
        "colab": {
          "base_uri": "https://localhost:8080/"
        },
        "id": "muuBLJgKnLy4",
        "outputId": "9693724f-cbbb-4f61-9cf9-e8aa6c9fe9d4"
      },
      "source": [
        "# train ANN\n",
        "clf.fit(customers,is_fraud,batch_size=1,epochs=2)"
      ],
      "execution_count": null,
      "outputs": [
        {
          "output_type": "stream",
          "text": [
            "Epoch 1/2\n",
            "690/690 [==============================] - 1s 999us/step - loss: 0.4051 - accuracy: 0.9333\n",
            "Epoch 2/2\n",
            "690/690 [==============================] - 1s 1ms/step - loss: 0.2330 - accuracy: 0.9333\n"
          ],
          "name": "stdout"
        },
        {
          "output_type": "execute_result",
          "data": {
            "text/plain": [
              "<keras.callbacks.History at 0x7f097991dd90>"
            ]
          },
          "metadata": {},
          "execution_count": 213
        }
      ]
    },
    {
      "cell_type": "code",
      "metadata": {
        "colab": {
          "base_uri": "https://localhost:8080/"
        },
        "id": "xeua9_ZelnzY",
        "outputId": "96231571-a12e-4345-a26e-d83c97c2d842"
      },
      "source": [
        "# predict using ANN\n",
        "ypred=clf.predict(customers)\n",
        "ypred.max()"
      ],
      "execution_count": null,
      "outputs": [
        {
          "output_type": "execute_result",
          "data": {
            "text/plain": [
              "0.21045226"
            ]
          },
          "metadata": {},
          "execution_count": 214
        }
      ]
    },
    {
      "cell_type": "code",
      "metadata": {
        "colab": {
          "base_uri": "https://localhost:8080/"
        },
        "id": "f6AvM1GaoPkI",
        "outputId": "8277375b-8616-42c8-cf03-897437d7a73f"
      },
      "source": [
        "predictions=np.concatenate((data1.iloc[:,0:1].values,ypred),axis=1)\n",
        "predictions"
      ],
      "execution_count": null,
      "outputs": [
        {
          "output_type": "execute_result",
          "data": {
            "text/plain": [
              "array([[1.57761560e+07, 5.33930063e-02],\n",
              "       [1.57395480e+07, 1.32595658e-01],\n",
              "       [1.56628540e+07, 1.38405889e-01],\n",
              "       ...,\n",
              "       [1.56754500e+07, 1.16581291e-01],\n",
              "       [1.57764940e+07, 6.37785792e-02],\n",
              "       [1.55924120e+07, 4.46828008e-02]])"
            ]
          },
          "metadata": {},
          "execution_count": 215
        }
      ]
    },
    {
      "cell_type": "code",
      "metadata": {
        "colab": {
          "base_uri": "https://localhost:8080/"
        },
        "id": "Q1Tqzn_upG9-",
        "outputId": "077142b3-1ac6-42d1-c6f6-e33c193ff430"
      },
      "source": [
        "predictions=predictions[predictions[:,1].argsort()]\n",
        "predictions"
      ],
      "execution_count": null,
      "outputs": [
        {
          "output_type": "execute_result",
          "data": {
            "text/plain": [
              "array([[1.56548590e+07, 1.64186954e-02],\n",
              "       [1.57238270e+07, 1.67082548e-02],\n",
              "       [1.57250280e+07, 1.80113912e-02],\n",
              "       ...,\n",
              "       [1.57160820e+07, 1.99915916e-01],\n",
              "       [1.56114090e+07, 2.08959311e-01],\n",
              "       [1.57523440e+07, 2.10452259e-01]])"
            ]
          },
          "metadata": {},
          "execution_count": 216
        }
      ]
    },
    {
      "cell_type": "markdown",
      "metadata": {
        "id": "P8BeO_9Lnfne"
      },
      "source": [
        "# 5 - Boltzmann Machine"
      ]
    },
    {
      "cell_type": "code",
      "metadata": {
        "id": "uXv2cgLofubE"
      },
      "source": [
        "import pandas as pd\n",
        "import numpy as np\n",
        "import torch\n",
        "import torch.nn as nn\n",
        "import torch.nn.parallel\n",
        "import torch.optim as optim\n",
        "import torch.utils.data \n",
        "from torch.autograd import Variable"
      ],
      "execution_count": null,
      "outputs": []
    },
    {
      "cell_type": "markdown",
      "source": [
        "1 - Importing datasets"
      ],
      "metadata": {
        "id": "6WJ-N0EhVI1h"
      }
    },
    {
      "cell_type": "code",
      "metadata": {
        "id": "GRf5BTxhfueh",
        "colab": {
          "base_uri": "https://localhost:8080/",
          "height": 273
        },
        "outputId": "ea2d4b30-01e9-426d-a2dd-cb6b50bda738"
      },
      "source": [
        "movies=pd.read_csv('movies.dat',sep='::',header=None,engine='python',encoding='latin-1')\n",
        "\n",
        "print(movies.shape)\n",
        "print(movies.columns)\n",
        "\n",
        "movies.head(6)"
      ],
      "execution_count": null,
      "outputs": [
        {
          "output_type": "stream",
          "name": "stdout",
          "text": [
            "(3883, 3)\n",
            "Int64Index([0, 1, 2], dtype='int64')\n"
          ]
        },
        {
          "output_type": "execute_result",
          "data": {
            "text/html": [
              "\n",
              "  <div id=\"df-231aee6a-9872-4fc2-94c3-6ed1c146a731\">\n",
              "    <div class=\"colab-df-container\">\n",
              "      <div>\n",
              "<style scoped>\n",
              "    .dataframe tbody tr th:only-of-type {\n",
              "        vertical-align: middle;\n",
              "    }\n",
              "\n",
              "    .dataframe tbody tr th {\n",
              "        vertical-align: top;\n",
              "    }\n",
              "\n",
              "    .dataframe thead th {\n",
              "        text-align: right;\n",
              "    }\n",
              "</style>\n",
              "<table border=\"1\" class=\"dataframe\">\n",
              "  <thead>\n",
              "    <tr style=\"text-align: right;\">\n",
              "      <th></th>\n",
              "      <th>0</th>\n",
              "      <th>1</th>\n",
              "      <th>2</th>\n",
              "    </tr>\n",
              "  </thead>\n",
              "  <tbody>\n",
              "    <tr>\n",
              "      <th>0</th>\n",
              "      <td>1</td>\n",
              "      <td>Toy Story (1995)</td>\n",
              "      <td>Animation|Children's|Comedy</td>\n",
              "    </tr>\n",
              "    <tr>\n",
              "      <th>1</th>\n",
              "      <td>2</td>\n",
              "      <td>Jumanji (1995)</td>\n",
              "      <td>Adventure|Children's|Fantasy</td>\n",
              "    </tr>\n",
              "    <tr>\n",
              "      <th>2</th>\n",
              "      <td>3</td>\n",
              "      <td>Grumpier Old Men (1995)</td>\n",
              "      <td>Comedy|Romance</td>\n",
              "    </tr>\n",
              "    <tr>\n",
              "      <th>3</th>\n",
              "      <td>4</td>\n",
              "      <td>Waiting to Exhale (1995)</td>\n",
              "      <td>Comedy|Drama</td>\n",
              "    </tr>\n",
              "    <tr>\n",
              "      <th>4</th>\n",
              "      <td>5</td>\n",
              "      <td>Father of the Bride Part II (1995)</td>\n",
              "      <td>Comedy</td>\n",
              "    </tr>\n",
              "    <tr>\n",
              "      <th>5</th>\n",
              "      <td>6</td>\n",
              "      <td>Heat (1995)</td>\n",
              "      <td>Action|Crime|Thriller</td>\n",
              "    </tr>\n",
              "  </tbody>\n",
              "</table>\n",
              "</div>\n",
              "      <button class=\"colab-df-convert\" onclick=\"convertToInteractive('df-231aee6a-9872-4fc2-94c3-6ed1c146a731')\"\n",
              "              title=\"Convert this dataframe to an interactive table.\"\n",
              "              style=\"display:none;\">\n",
              "        \n",
              "  <svg xmlns=\"http://www.w3.org/2000/svg\" height=\"24px\"viewBox=\"0 0 24 24\"\n",
              "       width=\"24px\">\n",
              "    <path d=\"M0 0h24v24H0V0z\" fill=\"none\"/>\n",
              "    <path d=\"M18.56 5.44l.94 2.06.94-2.06 2.06-.94-2.06-.94-.94-2.06-.94 2.06-2.06.94zm-11 1L8.5 8.5l.94-2.06 2.06-.94-2.06-.94L8.5 2.5l-.94 2.06-2.06.94zm10 10l.94 2.06.94-2.06 2.06-.94-2.06-.94-.94-2.06-.94 2.06-2.06.94z\"/><path d=\"M17.41 7.96l-1.37-1.37c-.4-.4-.92-.59-1.43-.59-.52 0-1.04.2-1.43.59L10.3 9.45l-7.72 7.72c-.78.78-.78 2.05 0 2.83L4 21.41c.39.39.9.59 1.41.59.51 0 1.02-.2 1.41-.59l7.78-7.78 2.81-2.81c.8-.78.8-2.07 0-2.86zM5.41 20L4 18.59l7.72-7.72 1.47 1.35L5.41 20z\"/>\n",
              "  </svg>\n",
              "      </button>\n",
              "      \n",
              "  <style>\n",
              "    .colab-df-container {\n",
              "      display:flex;\n",
              "      flex-wrap:wrap;\n",
              "      gap: 12px;\n",
              "    }\n",
              "\n",
              "    .colab-df-convert {\n",
              "      background-color: #E8F0FE;\n",
              "      border: none;\n",
              "      border-radius: 50%;\n",
              "      cursor: pointer;\n",
              "      display: none;\n",
              "      fill: #1967D2;\n",
              "      height: 32px;\n",
              "      padding: 0 0 0 0;\n",
              "      width: 32px;\n",
              "    }\n",
              "\n",
              "    .colab-df-convert:hover {\n",
              "      background-color: #E2EBFA;\n",
              "      box-shadow: 0px 1px 2px rgba(60, 64, 67, 0.3), 0px 1px 3px 1px rgba(60, 64, 67, 0.15);\n",
              "      fill: #174EA6;\n",
              "    }\n",
              "\n",
              "    [theme=dark] .colab-df-convert {\n",
              "      background-color: #3B4455;\n",
              "      fill: #D2E3FC;\n",
              "    }\n",
              "\n",
              "    [theme=dark] .colab-df-convert:hover {\n",
              "      background-color: #434B5C;\n",
              "      box-shadow: 0px 1px 3px 1px rgba(0, 0, 0, 0.15);\n",
              "      filter: drop-shadow(0px 1px 2px rgba(0, 0, 0, 0.3));\n",
              "      fill: #FFFFFF;\n",
              "    }\n",
              "  </style>\n",
              "\n",
              "      <script>\n",
              "        const buttonEl =\n",
              "          document.querySelector('#df-231aee6a-9872-4fc2-94c3-6ed1c146a731 button.colab-df-convert');\n",
              "        buttonEl.style.display =\n",
              "          google.colab.kernel.accessAllowed ? 'block' : 'none';\n",
              "\n",
              "        async function convertToInteractive(key) {\n",
              "          const element = document.querySelector('#df-231aee6a-9872-4fc2-94c3-6ed1c146a731');\n",
              "          const dataTable =\n",
              "            await google.colab.kernel.invokeFunction('convertToInteractive',\n",
              "                                                     [key], {});\n",
              "          if (!dataTable) return;\n",
              "\n",
              "          const docLinkHtml = 'Like what you see? Visit the ' +\n",
              "            '<a target=\"_blank\" href=https://colab.research.google.com/notebooks/data_table.ipynb>data table notebook</a>'\n",
              "            + ' to learn more about interactive tables.';\n",
              "          element.innerHTML = '';\n",
              "          dataTable['output_type'] = 'display_data';\n",
              "          await google.colab.output.renderOutput(dataTable, element);\n",
              "          const docLink = document.createElement('div');\n",
              "          docLink.innerHTML = docLinkHtml;\n",
              "          element.appendChild(docLink);\n",
              "        }\n",
              "      </script>\n",
              "    </div>\n",
              "  </div>\n",
              "  "
            ],
            "text/plain": [
              "   0                                   1                             2\n",
              "0  1                    Toy Story (1995)   Animation|Children's|Comedy\n",
              "1  2                      Jumanji (1995)  Adventure|Children's|Fantasy\n",
              "2  3             Grumpier Old Men (1995)                Comedy|Romance\n",
              "3  4            Waiting to Exhale (1995)                  Comedy|Drama\n",
              "4  5  Father of the Bride Part II (1995)                        Comedy\n",
              "5  6                         Heat (1995)         Action|Crime|Thriller"
            ]
          },
          "metadata": {},
          "execution_count": 2
        }
      ]
    },
    {
      "cell_type": "code",
      "metadata": {
        "id": "vdx3nsFBfuhr",
        "colab": {
          "base_uri": "https://localhost:8080/",
          "height": 273
        },
        "outputId": "ccf74fef-e39a-4c65-dae2-0b4e2089629a"
      },
      "source": [
        "users=pd.read_csv('users.dat',sep='::',header=None,engine='python',encoding='latin-1')\n",
        "\n",
        "print(users.shape)\n",
        "print(users.columns)\n",
        "\n",
        "users.head(6)"
      ],
      "execution_count": null,
      "outputs": [
        {
          "output_type": "stream",
          "name": "stdout",
          "text": [
            "(6040, 5)\n",
            "Int64Index([0, 1, 2, 3, 4], dtype='int64')\n"
          ]
        },
        {
          "output_type": "execute_result",
          "data": {
            "text/html": [
              "\n",
              "  <div id=\"df-2fbce588-7686-4531-8598-12c4d668aaa7\">\n",
              "    <div class=\"colab-df-container\">\n",
              "      <div>\n",
              "<style scoped>\n",
              "    .dataframe tbody tr th:only-of-type {\n",
              "        vertical-align: middle;\n",
              "    }\n",
              "\n",
              "    .dataframe tbody tr th {\n",
              "        vertical-align: top;\n",
              "    }\n",
              "\n",
              "    .dataframe thead th {\n",
              "        text-align: right;\n",
              "    }\n",
              "</style>\n",
              "<table border=\"1\" class=\"dataframe\">\n",
              "  <thead>\n",
              "    <tr style=\"text-align: right;\">\n",
              "      <th></th>\n",
              "      <th>0</th>\n",
              "      <th>1</th>\n",
              "      <th>2</th>\n",
              "      <th>3</th>\n",
              "      <th>4</th>\n",
              "    </tr>\n",
              "  </thead>\n",
              "  <tbody>\n",
              "    <tr>\n",
              "      <th>0</th>\n",
              "      <td>1</td>\n",
              "      <td>F</td>\n",
              "      <td>1</td>\n",
              "      <td>10</td>\n",
              "      <td>48067</td>\n",
              "    </tr>\n",
              "    <tr>\n",
              "      <th>1</th>\n",
              "      <td>2</td>\n",
              "      <td>M</td>\n",
              "      <td>56</td>\n",
              "      <td>16</td>\n",
              "      <td>70072</td>\n",
              "    </tr>\n",
              "    <tr>\n",
              "      <th>2</th>\n",
              "      <td>3</td>\n",
              "      <td>M</td>\n",
              "      <td>25</td>\n",
              "      <td>15</td>\n",
              "      <td>55117</td>\n",
              "    </tr>\n",
              "    <tr>\n",
              "      <th>3</th>\n",
              "      <td>4</td>\n",
              "      <td>M</td>\n",
              "      <td>45</td>\n",
              "      <td>7</td>\n",
              "      <td>02460</td>\n",
              "    </tr>\n",
              "    <tr>\n",
              "      <th>4</th>\n",
              "      <td>5</td>\n",
              "      <td>M</td>\n",
              "      <td>25</td>\n",
              "      <td>20</td>\n",
              "      <td>55455</td>\n",
              "    </tr>\n",
              "    <tr>\n",
              "      <th>5</th>\n",
              "      <td>6</td>\n",
              "      <td>F</td>\n",
              "      <td>50</td>\n",
              "      <td>9</td>\n",
              "      <td>55117</td>\n",
              "    </tr>\n",
              "  </tbody>\n",
              "</table>\n",
              "</div>\n",
              "      <button class=\"colab-df-convert\" onclick=\"convertToInteractive('df-2fbce588-7686-4531-8598-12c4d668aaa7')\"\n",
              "              title=\"Convert this dataframe to an interactive table.\"\n",
              "              style=\"display:none;\">\n",
              "        \n",
              "  <svg xmlns=\"http://www.w3.org/2000/svg\" height=\"24px\"viewBox=\"0 0 24 24\"\n",
              "       width=\"24px\">\n",
              "    <path d=\"M0 0h24v24H0V0z\" fill=\"none\"/>\n",
              "    <path d=\"M18.56 5.44l.94 2.06.94-2.06 2.06-.94-2.06-.94-.94-2.06-.94 2.06-2.06.94zm-11 1L8.5 8.5l.94-2.06 2.06-.94-2.06-.94L8.5 2.5l-.94 2.06-2.06.94zm10 10l.94 2.06.94-2.06 2.06-.94-2.06-.94-.94-2.06-.94 2.06-2.06.94z\"/><path d=\"M17.41 7.96l-1.37-1.37c-.4-.4-.92-.59-1.43-.59-.52 0-1.04.2-1.43.59L10.3 9.45l-7.72 7.72c-.78.78-.78 2.05 0 2.83L4 21.41c.39.39.9.59 1.41.59.51 0 1.02-.2 1.41-.59l7.78-7.78 2.81-2.81c.8-.78.8-2.07 0-2.86zM5.41 20L4 18.59l7.72-7.72 1.47 1.35L5.41 20z\"/>\n",
              "  </svg>\n",
              "      </button>\n",
              "      \n",
              "  <style>\n",
              "    .colab-df-container {\n",
              "      display:flex;\n",
              "      flex-wrap:wrap;\n",
              "      gap: 12px;\n",
              "    }\n",
              "\n",
              "    .colab-df-convert {\n",
              "      background-color: #E8F0FE;\n",
              "      border: none;\n",
              "      border-radius: 50%;\n",
              "      cursor: pointer;\n",
              "      display: none;\n",
              "      fill: #1967D2;\n",
              "      height: 32px;\n",
              "      padding: 0 0 0 0;\n",
              "      width: 32px;\n",
              "    }\n",
              "\n",
              "    .colab-df-convert:hover {\n",
              "      background-color: #E2EBFA;\n",
              "      box-shadow: 0px 1px 2px rgba(60, 64, 67, 0.3), 0px 1px 3px 1px rgba(60, 64, 67, 0.15);\n",
              "      fill: #174EA6;\n",
              "    }\n",
              "\n",
              "    [theme=dark] .colab-df-convert {\n",
              "      background-color: #3B4455;\n",
              "      fill: #D2E3FC;\n",
              "    }\n",
              "\n",
              "    [theme=dark] .colab-df-convert:hover {\n",
              "      background-color: #434B5C;\n",
              "      box-shadow: 0px 1px 3px 1px rgba(0, 0, 0, 0.15);\n",
              "      filter: drop-shadow(0px 1px 2px rgba(0, 0, 0, 0.3));\n",
              "      fill: #FFFFFF;\n",
              "    }\n",
              "  </style>\n",
              "\n",
              "      <script>\n",
              "        const buttonEl =\n",
              "          document.querySelector('#df-2fbce588-7686-4531-8598-12c4d668aaa7 button.colab-df-convert');\n",
              "        buttonEl.style.display =\n",
              "          google.colab.kernel.accessAllowed ? 'block' : 'none';\n",
              "\n",
              "        async function convertToInteractive(key) {\n",
              "          const element = document.querySelector('#df-2fbce588-7686-4531-8598-12c4d668aaa7');\n",
              "          const dataTable =\n",
              "            await google.colab.kernel.invokeFunction('convertToInteractive',\n",
              "                                                     [key], {});\n",
              "          if (!dataTable) return;\n",
              "\n",
              "          const docLinkHtml = 'Like what you see? Visit the ' +\n",
              "            '<a target=\"_blank\" href=https://colab.research.google.com/notebooks/data_table.ipynb>data table notebook</a>'\n",
              "            + ' to learn more about interactive tables.';\n",
              "          element.innerHTML = '';\n",
              "          dataTable['output_type'] = 'display_data';\n",
              "          await google.colab.output.renderOutput(dataTable, element);\n",
              "          const docLink = document.createElement('div');\n",
              "          docLink.innerHTML = docLinkHtml;\n",
              "          element.appendChild(docLink);\n",
              "        }\n",
              "      </script>\n",
              "    </div>\n",
              "  </div>\n",
              "  "
            ],
            "text/plain": [
              "   0  1   2   3      4\n",
              "0  1  F   1  10  48067\n",
              "1  2  M  56  16  70072\n",
              "2  3  M  25  15  55117\n",
              "3  4  M  45   7  02460\n",
              "4  5  M  25  20  55455\n",
              "5  6  F  50   9  55117"
            ]
          },
          "metadata": {},
          "execution_count": 3
        }
      ]
    },
    {
      "cell_type": "code",
      "metadata": {
        "id": "aP0tvrdGfuk8",
        "colab": {
          "base_uri": "https://localhost:8080/",
          "height": 273
        },
        "outputId": "47b04360-1419-44d9-ddff-feb4503e69fc"
      },
      "source": [
        "ratings=pd.read_csv('ratings.dat',sep='::',header=None,engine='python',encoding='latin-1')\n",
        "\n",
        "print(ratings.shape)\n",
        "print(ratings.columns)\n",
        "\n",
        "ratings.head(6)"
      ],
      "execution_count": null,
      "outputs": [
        {
          "output_type": "stream",
          "name": "stdout",
          "text": [
            "(1000209, 4)\n",
            "Int64Index([0, 1, 2, 3], dtype='int64')\n"
          ]
        },
        {
          "output_type": "execute_result",
          "data": {
            "text/html": [
              "\n",
              "  <div id=\"df-091e6216-60d2-408d-a6e7-abe97a604d19\">\n",
              "    <div class=\"colab-df-container\">\n",
              "      <div>\n",
              "<style scoped>\n",
              "    .dataframe tbody tr th:only-of-type {\n",
              "        vertical-align: middle;\n",
              "    }\n",
              "\n",
              "    .dataframe tbody tr th {\n",
              "        vertical-align: top;\n",
              "    }\n",
              "\n",
              "    .dataframe thead th {\n",
              "        text-align: right;\n",
              "    }\n",
              "</style>\n",
              "<table border=\"1\" class=\"dataframe\">\n",
              "  <thead>\n",
              "    <tr style=\"text-align: right;\">\n",
              "      <th></th>\n",
              "      <th>0</th>\n",
              "      <th>1</th>\n",
              "      <th>2</th>\n",
              "      <th>3</th>\n",
              "    </tr>\n",
              "  </thead>\n",
              "  <tbody>\n",
              "    <tr>\n",
              "      <th>0</th>\n",
              "      <td>1</td>\n",
              "      <td>1193</td>\n",
              "      <td>5</td>\n",
              "      <td>978300760</td>\n",
              "    </tr>\n",
              "    <tr>\n",
              "      <th>1</th>\n",
              "      <td>1</td>\n",
              "      <td>661</td>\n",
              "      <td>3</td>\n",
              "      <td>978302109</td>\n",
              "    </tr>\n",
              "    <tr>\n",
              "      <th>2</th>\n",
              "      <td>1</td>\n",
              "      <td>914</td>\n",
              "      <td>3</td>\n",
              "      <td>978301968</td>\n",
              "    </tr>\n",
              "    <tr>\n",
              "      <th>3</th>\n",
              "      <td>1</td>\n",
              "      <td>3408</td>\n",
              "      <td>4</td>\n",
              "      <td>978300275</td>\n",
              "    </tr>\n",
              "    <tr>\n",
              "      <th>4</th>\n",
              "      <td>1</td>\n",
              "      <td>2355</td>\n",
              "      <td>5</td>\n",
              "      <td>978824291</td>\n",
              "    </tr>\n",
              "    <tr>\n",
              "      <th>5</th>\n",
              "      <td>1</td>\n",
              "      <td>1197</td>\n",
              "      <td>3</td>\n",
              "      <td>978302268</td>\n",
              "    </tr>\n",
              "  </tbody>\n",
              "</table>\n",
              "</div>\n",
              "      <button class=\"colab-df-convert\" onclick=\"convertToInteractive('df-091e6216-60d2-408d-a6e7-abe97a604d19')\"\n",
              "              title=\"Convert this dataframe to an interactive table.\"\n",
              "              style=\"display:none;\">\n",
              "        \n",
              "  <svg xmlns=\"http://www.w3.org/2000/svg\" height=\"24px\"viewBox=\"0 0 24 24\"\n",
              "       width=\"24px\">\n",
              "    <path d=\"M0 0h24v24H0V0z\" fill=\"none\"/>\n",
              "    <path d=\"M18.56 5.44l.94 2.06.94-2.06 2.06-.94-2.06-.94-.94-2.06-.94 2.06-2.06.94zm-11 1L8.5 8.5l.94-2.06 2.06-.94-2.06-.94L8.5 2.5l-.94 2.06-2.06.94zm10 10l.94 2.06.94-2.06 2.06-.94-2.06-.94-.94-2.06-.94 2.06-2.06.94z\"/><path d=\"M17.41 7.96l-1.37-1.37c-.4-.4-.92-.59-1.43-.59-.52 0-1.04.2-1.43.59L10.3 9.45l-7.72 7.72c-.78.78-.78 2.05 0 2.83L4 21.41c.39.39.9.59 1.41.59.51 0 1.02-.2 1.41-.59l7.78-7.78 2.81-2.81c.8-.78.8-2.07 0-2.86zM5.41 20L4 18.59l7.72-7.72 1.47 1.35L5.41 20z\"/>\n",
              "  </svg>\n",
              "      </button>\n",
              "      \n",
              "  <style>\n",
              "    .colab-df-container {\n",
              "      display:flex;\n",
              "      flex-wrap:wrap;\n",
              "      gap: 12px;\n",
              "    }\n",
              "\n",
              "    .colab-df-convert {\n",
              "      background-color: #E8F0FE;\n",
              "      border: none;\n",
              "      border-radius: 50%;\n",
              "      cursor: pointer;\n",
              "      display: none;\n",
              "      fill: #1967D2;\n",
              "      height: 32px;\n",
              "      padding: 0 0 0 0;\n",
              "      width: 32px;\n",
              "    }\n",
              "\n",
              "    .colab-df-convert:hover {\n",
              "      background-color: #E2EBFA;\n",
              "      box-shadow: 0px 1px 2px rgba(60, 64, 67, 0.3), 0px 1px 3px 1px rgba(60, 64, 67, 0.15);\n",
              "      fill: #174EA6;\n",
              "    }\n",
              "\n",
              "    [theme=dark] .colab-df-convert {\n",
              "      background-color: #3B4455;\n",
              "      fill: #D2E3FC;\n",
              "    }\n",
              "\n",
              "    [theme=dark] .colab-df-convert:hover {\n",
              "      background-color: #434B5C;\n",
              "      box-shadow: 0px 1px 3px 1px rgba(0, 0, 0, 0.15);\n",
              "      filter: drop-shadow(0px 1px 2px rgba(0, 0, 0, 0.3));\n",
              "      fill: #FFFFFF;\n",
              "    }\n",
              "  </style>\n",
              "\n",
              "      <script>\n",
              "        const buttonEl =\n",
              "          document.querySelector('#df-091e6216-60d2-408d-a6e7-abe97a604d19 button.colab-df-convert');\n",
              "        buttonEl.style.display =\n",
              "          google.colab.kernel.accessAllowed ? 'block' : 'none';\n",
              "\n",
              "        async function convertToInteractive(key) {\n",
              "          const element = document.querySelector('#df-091e6216-60d2-408d-a6e7-abe97a604d19');\n",
              "          const dataTable =\n",
              "            await google.colab.kernel.invokeFunction('convertToInteractive',\n",
              "                                                     [key], {});\n",
              "          if (!dataTable) return;\n",
              "\n",
              "          const docLinkHtml = 'Like what you see? Visit the ' +\n",
              "            '<a target=\"_blank\" href=https://colab.research.google.com/notebooks/data_table.ipynb>data table notebook</a>'\n",
              "            + ' to learn more about interactive tables.';\n",
              "          element.innerHTML = '';\n",
              "          dataTable['output_type'] = 'display_data';\n",
              "          await google.colab.output.renderOutput(dataTable, element);\n",
              "          const docLink = document.createElement('div');\n",
              "          docLink.innerHTML = docLinkHtml;\n",
              "          element.appendChild(docLink);\n",
              "        }\n",
              "      </script>\n",
              "    </div>\n",
              "  </div>\n",
              "  "
            ],
            "text/plain": [
              "   0     1  2          3\n",
              "0  1  1193  5  978300760\n",
              "1  1   661  3  978302109\n",
              "2  1   914  3  978301968\n",
              "3  1  3408  4  978300275\n",
              "4  1  2355  5  978824291\n",
              "5  1  1197  3  978302268"
            ]
          },
          "metadata": {},
          "execution_count": 4
        }
      ]
    },
    {
      "cell_type": "markdown",
      "source": [
        "2 - Preparing the train and test sets"
      ],
      "metadata": {
        "id": "afj0YJGQVPWh"
      }
    },
    {
      "cell_type": "code",
      "metadata": {
        "id": "nXLLJBbcfuoJ",
        "colab": {
          "base_uri": "https://localhost:8080/"
        },
        "outputId": "24d5f20a-0f42-4f3e-e8ac-db97bf8d46e1"
      },
      "source": [
        "# Prepare training data\n",
        "train_set=pd.read_csv('u1.base',sep='\\t',header=None,engine='python',encoding='latin-1')\n",
        "\n",
        "print(train_set.shape)\n",
        "print(train_set.columns)\n",
        "\n",
        "train_set=np.array(train_set,dtype='int')\n"
      ],
      "execution_count": null,
      "outputs": [
        {
          "output_type": "stream",
          "name": "stdout",
          "text": [
            "(80000, 4)\n",
            "Int64Index([0, 1, 2, 3], dtype='int64')\n"
          ]
        }
      ]
    },
    {
      "cell_type": "code",
      "metadata": {
        "id": "XxtEOtZjfutR",
        "colab": {
          "base_uri": "https://localhost:8080/"
        },
        "outputId": "7134e91b-9ef3-4a7c-96b0-5c3e0464fc22"
      },
      "source": [
        "# Prepare test set\n",
        "test_set=pd.read_csv('u1.test',sep='\\t',header=None,engine='python',encoding='latin-1')\n",
        "\n",
        "print(test_set.shape)\n",
        "print(test_set.columns)\n",
        "\n",
        "test_set=np.array(test_set,dtype='int')\n"
      ],
      "execution_count": null,
      "outputs": [
        {
          "output_type": "stream",
          "name": "stdout",
          "text": [
            "(20000, 4)\n",
            "Int64Index([0, 1, 2, 3], dtype='int64')\n"
          ]
        }
      ]
    },
    {
      "cell_type": "markdown",
      "source": [
        "3 - Getting the number of users and movies"
      ],
      "metadata": {
        "id": "KY4qRRDJVVxM"
      }
    },
    {
      "cell_type": "code",
      "source": [
        "nb_users=int(max(max(train_set[:,0]),max(test_set[:,0])))\n",
        "nb_users"
      ],
      "metadata": {
        "colab": {
          "base_uri": "https://localhost:8080/"
        },
        "id": "TnJNEA7XJqJj",
        "outputId": "8ff6bdef-fdf1-4bb3-c7b1-2dd26b6f606d"
      },
      "execution_count": null,
      "outputs": [
        {
          "output_type": "execute_result",
          "data": {
            "text/plain": [
              "943"
            ]
          },
          "metadata": {},
          "execution_count": 7
        }
      ]
    },
    {
      "cell_type": "code",
      "source": [
        "nb_movies=int(max(max(train_set[:,1]),max(test_set[:,1])))\n",
        "nb_movies"
      ],
      "metadata": {
        "colab": {
          "base_uri": "https://localhost:8080/"
        },
        "id": "krSgIDtVJqMz",
        "outputId": "b08345c8-7d5e-4f38-b1d0-9d2a6d69ea3b"
      },
      "execution_count": null,
      "outputs": [
        {
          "output_type": "execute_result",
          "data": {
            "text/plain": [
              "1682"
            ]
          },
          "metadata": {},
          "execution_count": 8
        }
      ]
    },
    {
      "cell_type": "markdown",
      "source": [
        "4 - Converting the data into array with users in indicies and movie in columns"
      ],
      "metadata": {
        "id": "n920KJPAXMaI"
      }
    },
    {
      "cell_type": "code",
      "source": [
        "def convert(data):\n",
        "  new_data=[]\n",
        "  for id_users in range(1,nb_users+1):\n",
        "    id_movies=data[:,1][data[:,0]==id_users]\n",
        "    id_ratings=data[:,2][data[:,0]==id_users]\n",
        "    ratings=np.zeros(nb_movies)\n",
        "    ratings[id_movies-1]=id_ratings\n",
        "    new_data.append(list(ratings))\n",
        "\n",
        "  return new_data"
      ],
      "metadata": {
        "id": "4e17FYiMJqPc"
      },
      "execution_count": null,
      "outputs": []
    },
    {
      "cell_type": "code",
      "source": [
        "train_set=convert(train_set)\n",
        "test_set=convert(test_set)"
      ],
      "metadata": {
        "id": "J3RJp6fUJqSD"
      },
      "execution_count": null,
      "outputs": []
    },
    {
      "cell_type": "markdown",
      "source": [
        "5 - Converting the data into torch tensors"
      ],
      "metadata": {
        "id": "t-KjHm3Ng2mn"
      }
    },
    {
      "cell_type": "code",
      "source": [
        "train_set=torch.FloatTensor(train_set)\n",
        "test_set=torch.FloatTensor(test_set)"
      ],
      "metadata": {
        "id": "yTrzYwk_g9FB"
      },
      "execution_count": null,
      "outputs": []
    },
    {
      "cell_type": "markdown",
      "source": [
        "6 - Converting the rating into binary rating \n",
        "`(1 liked, 0 for not liked)`"
      ],
      "metadata": {
        "id": "uhvZs64xstAp"
      }
    },
    {
      "cell_type": "code",
      "source": [
        "train_set[train_set==0]=-1\n",
        "# Or not wotking in Torch so line below is incorrect\n",
        "# train_set[train_set==1 or train_set==2]=0\n",
        "train_set[train_set==1]=0\n",
        "train_set[train_set==2]=0\n",
        "# train_set[train_set!=0]=1 # This is my way\n",
        "train_set[train_set>2]=1"
      ],
      "metadata": {
        "id": "kpHihu3Ag9Hv"
      },
      "execution_count": null,
      "outputs": []
    },
    {
      "cell_type": "code",
      "source": [
        "test_set[test_set==0]=-1\n",
        "test_set[test_set==1]=0\n",
        "test_set[test_set==2]=0\n",
        "test_set[test_set>2]=1"
      ],
      "metadata": {
        "id": "16qa7cGpg9K1"
      },
      "execution_count": null,
      "outputs": []
    },
    {
      "cell_type": "markdown",
      "source": [
        "7 - Creating the architecture of Neural Network"
      ],
      "metadata": {
        "id": "MzkXKCJN8mXg"
      }
    },
    {
      "cell_type": "code",
      "source": [
        "class RBM():\n",
        "  def __init__(self,nv,nh):\n",
        "    self.W=torch.randn(nh,nv)\n",
        "    self.a=torch.randn(1,nh)\n",
        "    self.b=torch.randn(1,nv)\n",
        "\n",
        "\n",
        "  def sample_h(self,x):\n",
        "    wx=torch.mm(x,self.W.t())\n",
        "    activation=wx+self.a.expand_as(wx)\n",
        "    p_h_given_v=torch.sigmoid(activation)\n",
        "    return p_h_given_v,torch.bernoulli(p_h_given_v)\n",
        "\n",
        "  def sample_v(self,y):\n",
        "    wy=torch.mm(y,self.W)\n",
        "    activation=wy+self.b.expand_as(wy)\n",
        "    p_v_given_h=torch.sigmoid(activation)\n",
        "    return p_v_given_h,torch.bernoulli(p_v_given_h)\n",
        "\n",
        "  def train(self,v0,vk,ph0,phk):\n",
        "    self.W+=(torch.mm(v0.t(), ph0) - torch.mm(vk.t(), phk)).t()\n",
        "    self.b+=torch.sum((v0-vk),0)\n",
        "    self.a+=torch.sum((ph0-phk),0)\n",
        " "
      ],
      "metadata": {
        "id": "tquaCX_dg9N7"
      },
      "execution_count": null,
      "outputs": []
    },
    {
      "cell_type": "markdown",
      "source": [
        "8 - Create RBM object"
      ],
      "metadata": {
        "id": "IMZOYDQny94s"
      }
    },
    {
      "cell_type": "code",
      "source": [
        "nv=len(train_set[0])\n",
        "nh=100\n",
        "batch_size=10\n",
        "\n",
        "rbm=RBM(nv,nh)"
      ],
      "metadata": {
        "id": "TaT_VnADg9Q2"
      },
      "execution_count": null,
      "outputs": []
    },
    {
      "cell_type": "markdown",
      "source": [
        "9 - Training the RBM"
      ],
      "metadata": {
        "id": "VX7AFL2lK9I4"
      }
    },
    {
      "cell_type": "code",
      "source": [
        "nb_epoch = 10\n",
        "\n",
        "for epoch in range(1,nb_epoch+1):\n",
        "  train_loss=0\n",
        "  s=0.0\n",
        "\n",
        "  for id_user in range(0,nb_users-batch_size,batch_size):\n",
        "    vk=train_set[id_user:id_user+batch_size]\n",
        "    v0=train_set[id_user:id_user+batch_size]\n",
        "    ph0,_=rbm.sample_h(v0)\n",
        "\n",
        "    for k in range(10):\n",
        "       _,hk=rbm.sample_h(vk)\n",
        "       _,vk=rbm.sample_v(hk)\n",
        "       vk[v0<0]=v0[v0<0]\n",
        "\n",
        "    phk,_=rbm.sample_h(vk)\n",
        "    \n",
        "    rbm.train(v0,vk,ph0,phk)\n",
        "    train_loss+=torch.mean(torch.abs(v0[v0>=0]-vk[v0>=0]))\n",
        "    s+=1.0\n",
        "\n",
        "  print(f'epoch : {epoch} Loss : {train_loss/s}')\n"
      ],
      "metadata": {
        "colab": {
          "base_uri": "https://localhost:8080/"
        },
        "id": "bMekFnxeLB55",
        "outputId": "29227185-0e14-445b-8847-d4b66e040027"
      },
      "execution_count": null,
      "outputs": [
        {
          "output_type": "stream",
          "name": "stdout",
          "text": [
            "epoch : 1 Loss : 0.27820783853530884\n",
            "epoch : 2 Loss : 0.2511022984981537\n",
            "epoch : 3 Loss : 0.25009748339653015\n",
            "epoch : 4 Loss : 0.25087735056877136\n",
            "epoch : 5 Loss : 0.2492605596780777\n",
            "epoch : 6 Loss : 0.24903282523155212\n",
            "epoch : 7 Loss : 0.24802792072296143\n",
            "epoch : 8 Loss : 0.24768760800361633\n",
            "epoch : 9 Loss : 0.24695271253585815\n",
            "epoch : 10 Loss : 0.24897809326648712\n"
          ]
        }
      ]
    },
    {
      "cell_type": "markdown",
      "source": [
        "10 - Test"
      ],
      "metadata": {
        "id": "j6dJsSo_4pN9"
      }
    },
    {
      "cell_type": "code",
      "source": [
        "test_loss = 0\n",
        "s = 0.\n",
        "for id_user in range(nb_users):\n",
        "    v = train_set[id_user:id_user+1]\n",
        "    vt = test_set[id_user:id_user+1]\n",
        "    if len(vt[vt>=0]) > 0:\n",
        "        _,h = rbm.sample_h(v)\n",
        "        _,v = rbm.sample_v(h)\n",
        "        test_loss += torch.mean(torch.abs(vt[vt>=0] - v[vt>=0]))\n",
        "        s += 1.\n",
        "print('test loss: '+str(test_loss/s))"
      ],
      "metadata": {
        "id": "T7ccmt8gLB9i"
      },
      "execution_count": null,
      "outputs": []
    },
    {
      "cell_type": "markdown",
      "source": [
        "# 6 - Auto Encoders"
      ],
      "metadata": {
        "id": "z7XZ0r1PpC5P"
      }
    },
    {
      "cell_type": "code",
      "source": [
        "import pandas as pd\n",
        "import numpy as np\n",
        "import torch\n",
        "import torch.nn as nn\n",
        "import torch.nn.parallel\n",
        "import torch.optim as optim\n",
        "import torch.utils.data \n",
        "from torch.autograd import Variable"
      ],
      "metadata": {
        "id": "TG7jbzolJqUj"
      },
      "execution_count": null,
      "outputs": []
    },
    {
      "cell_type": "markdown",
      "source": [
        "1 - Importing datasets"
      ],
      "metadata": {
        "id": "dZy0qCyQppag"
      }
    },
    {
      "cell_type": "code",
      "source": [
        "movies=pd.read_csv('movies.dat',sep='::',header=None,engine='python',encoding='latin-1')\n",
        "\n",
        "print(movies.shape)\n",
        "print(movies.columns)\n",
        "\n",
        "movies.head(6)"
      ],
      "metadata": {
        "id": "jEJsBNoSpiNn",
        "colab": {
          "base_uri": "https://localhost:8080/",
          "height": 273
        },
        "outputId": "a2a2677d-9f9a-4682-80a5-409c8b54fc1a"
      },
      "execution_count": null,
      "outputs": [
        {
          "output_type": "stream",
          "name": "stdout",
          "text": [
            "(3883, 3)\n",
            "Int64Index([0, 1, 2], dtype='int64')\n"
          ]
        },
        {
          "output_type": "execute_result",
          "data": {
            "text/html": [
              "\n",
              "  <div id=\"df-3e68b8c7-acc3-4660-8c71-6e96bb912b22\">\n",
              "    <div class=\"colab-df-container\">\n",
              "      <div>\n",
              "<style scoped>\n",
              "    .dataframe tbody tr th:only-of-type {\n",
              "        vertical-align: middle;\n",
              "    }\n",
              "\n",
              "    .dataframe tbody tr th {\n",
              "        vertical-align: top;\n",
              "    }\n",
              "\n",
              "    .dataframe thead th {\n",
              "        text-align: right;\n",
              "    }\n",
              "</style>\n",
              "<table border=\"1\" class=\"dataframe\">\n",
              "  <thead>\n",
              "    <tr style=\"text-align: right;\">\n",
              "      <th></th>\n",
              "      <th>0</th>\n",
              "      <th>1</th>\n",
              "      <th>2</th>\n",
              "    </tr>\n",
              "  </thead>\n",
              "  <tbody>\n",
              "    <tr>\n",
              "      <th>0</th>\n",
              "      <td>1</td>\n",
              "      <td>Toy Story (1995)</td>\n",
              "      <td>Animation|Children's|Comedy</td>\n",
              "    </tr>\n",
              "    <tr>\n",
              "      <th>1</th>\n",
              "      <td>2</td>\n",
              "      <td>Jumanji (1995)</td>\n",
              "      <td>Adventure|Children's|Fantasy</td>\n",
              "    </tr>\n",
              "    <tr>\n",
              "      <th>2</th>\n",
              "      <td>3</td>\n",
              "      <td>Grumpier Old Men (1995)</td>\n",
              "      <td>Comedy|Romance</td>\n",
              "    </tr>\n",
              "    <tr>\n",
              "      <th>3</th>\n",
              "      <td>4</td>\n",
              "      <td>Waiting to Exhale (1995)</td>\n",
              "      <td>Comedy|Drama</td>\n",
              "    </tr>\n",
              "    <tr>\n",
              "      <th>4</th>\n",
              "      <td>5</td>\n",
              "      <td>Father of the Bride Part II (1995)</td>\n",
              "      <td>Comedy</td>\n",
              "    </tr>\n",
              "    <tr>\n",
              "      <th>5</th>\n",
              "      <td>6</td>\n",
              "      <td>Heat (1995)</td>\n",
              "      <td>Action|Crime|Thriller</td>\n",
              "    </tr>\n",
              "  </tbody>\n",
              "</table>\n",
              "</div>\n",
              "      <button class=\"colab-df-convert\" onclick=\"convertToInteractive('df-3e68b8c7-acc3-4660-8c71-6e96bb912b22')\"\n",
              "              title=\"Convert this dataframe to an interactive table.\"\n",
              "              style=\"display:none;\">\n",
              "        \n",
              "  <svg xmlns=\"http://www.w3.org/2000/svg\" height=\"24px\"viewBox=\"0 0 24 24\"\n",
              "       width=\"24px\">\n",
              "    <path d=\"M0 0h24v24H0V0z\" fill=\"none\"/>\n",
              "    <path d=\"M18.56 5.44l.94 2.06.94-2.06 2.06-.94-2.06-.94-.94-2.06-.94 2.06-2.06.94zm-11 1L8.5 8.5l.94-2.06 2.06-.94-2.06-.94L8.5 2.5l-.94 2.06-2.06.94zm10 10l.94 2.06.94-2.06 2.06-.94-2.06-.94-.94-2.06-.94 2.06-2.06.94z\"/><path d=\"M17.41 7.96l-1.37-1.37c-.4-.4-.92-.59-1.43-.59-.52 0-1.04.2-1.43.59L10.3 9.45l-7.72 7.72c-.78.78-.78 2.05 0 2.83L4 21.41c.39.39.9.59 1.41.59.51 0 1.02-.2 1.41-.59l7.78-7.78 2.81-2.81c.8-.78.8-2.07 0-2.86zM5.41 20L4 18.59l7.72-7.72 1.47 1.35L5.41 20z\"/>\n",
              "  </svg>\n",
              "      </button>\n",
              "      \n",
              "  <style>\n",
              "    .colab-df-container {\n",
              "      display:flex;\n",
              "      flex-wrap:wrap;\n",
              "      gap: 12px;\n",
              "    }\n",
              "\n",
              "    .colab-df-convert {\n",
              "      background-color: #E8F0FE;\n",
              "      border: none;\n",
              "      border-radius: 50%;\n",
              "      cursor: pointer;\n",
              "      display: none;\n",
              "      fill: #1967D2;\n",
              "      height: 32px;\n",
              "      padding: 0 0 0 0;\n",
              "      width: 32px;\n",
              "    }\n",
              "\n",
              "    .colab-df-convert:hover {\n",
              "      background-color: #E2EBFA;\n",
              "      box-shadow: 0px 1px 2px rgba(60, 64, 67, 0.3), 0px 1px 3px 1px rgba(60, 64, 67, 0.15);\n",
              "      fill: #174EA6;\n",
              "    }\n",
              "\n",
              "    [theme=dark] .colab-df-convert {\n",
              "      background-color: #3B4455;\n",
              "      fill: #D2E3FC;\n",
              "    }\n",
              "\n",
              "    [theme=dark] .colab-df-convert:hover {\n",
              "      background-color: #434B5C;\n",
              "      box-shadow: 0px 1px 3px 1px rgba(0, 0, 0, 0.15);\n",
              "      filter: drop-shadow(0px 1px 2px rgba(0, 0, 0, 0.3));\n",
              "      fill: #FFFFFF;\n",
              "    }\n",
              "  </style>\n",
              "\n",
              "      <script>\n",
              "        const buttonEl =\n",
              "          document.querySelector('#df-3e68b8c7-acc3-4660-8c71-6e96bb912b22 button.colab-df-convert');\n",
              "        buttonEl.style.display =\n",
              "          google.colab.kernel.accessAllowed ? 'block' : 'none';\n",
              "\n",
              "        async function convertToInteractive(key) {\n",
              "          const element = document.querySelector('#df-3e68b8c7-acc3-4660-8c71-6e96bb912b22');\n",
              "          const dataTable =\n",
              "            await google.colab.kernel.invokeFunction('convertToInteractive',\n",
              "                                                     [key], {});\n",
              "          if (!dataTable) return;\n",
              "\n",
              "          const docLinkHtml = 'Like what you see? Visit the ' +\n",
              "            '<a target=\"_blank\" href=https://colab.research.google.com/notebooks/data_table.ipynb>data table notebook</a>'\n",
              "            + ' to learn more about interactive tables.';\n",
              "          element.innerHTML = '';\n",
              "          dataTable['output_type'] = 'display_data';\n",
              "          await google.colab.output.renderOutput(dataTable, element);\n",
              "          const docLink = document.createElement('div');\n",
              "          docLink.innerHTML = docLinkHtml;\n",
              "          element.appendChild(docLink);\n",
              "        }\n",
              "      </script>\n",
              "    </div>\n",
              "  </div>\n",
              "  "
            ],
            "text/plain": [
              "   0                                   1                             2\n",
              "0  1                    Toy Story (1995)   Animation|Children's|Comedy\n",
              "1  2                      Jumanji (1995)  Adventure|Children's|Fantasy\n",
              "2  3             Grumpier Old Men (1995)                Comedy|Romance\n",
              "3  4            Waiting to Exhale (1995)                  Comedy|Drama\n",
              "4  5  Father of the Bride Part II (1995)                        Comedy\n",
              "5  6                         Heat (1995)         Action|Crime|Thriller"
            ]
          },
          "metadata": {},
          "execution_count": 2
        }
      ]
    },
    {
      "cell_type": "code",
      "source": [
        "users=pd.read_csv('users.dat',sep='::',header=None,engine='python',encoding='latin-1')\n",
        "\n",
        "print(users.shape)\n",
        "print(users.columns)\n",
        "\n",
        "users.head(6)"
      ],
      "metadata": {
        "id": "DTtGez8FpuQG",
        "colab": {
          "base_uri": "https://localhost:8080/",
          "height": 273
        },
        "outputId": "280e4fb6-e5fb-4598-8301-9f01bd9dc9e2"
      },
      "execution_count": null,
      "outputs": [
        {
          "output_type": "stream",
          "name": "stdout",
          "text": [
            "(6040, 5)\n",
            "Int64Index([0, 1, 2, 3, 4], dtype='int64')\n"
          ]
        },
        {
          "output_type": "execute_result",
          "data": {
            "text/html": [
              "\n",
              "  <div id=\"df-7f90a200-68b6-473d-8adb-fd1b690fbf06\">\n",
              "    <div class=\"colab-df-container\">\n",
              "      <div>\n",
              "<style scoped>\n",
              "    .dataframe tbody tr th:only-of-type {\n",
              "        vertical-align: middle;\n",
              "    }\n",
              "\n",
              "    .dataframe tbody tr th {\n",
              "        vertical-align: top;\n",
              "    }\n",
              "\n",
              "    .dataframe thead th {\n",
              "        text-align: right;\n",
              "    }\n",
              "</style>\n",
              "<table border=\"1\" class=\"dataframe\">\n",
              "  <thead>\n",
              "    <tr style=\"text-align: right;\">\n",
              "      <th></th>\n",
              "      <th>0</th>\n",
              "      <th>1</th>\n",
              "      <th>2</th>\n",
              "      <th>3</th>\n",
              "      <th>4</th>\n",
              "    </tr>\n",
              "  </thead>\n",
              "  <tbody>\n",
              "    <tr>\n",
              "      <th>0</th>\n",
              "      <td>1</td>\n",
              "      <td>F</td>\n",
              "      <td>1</td>\n",
              "      <td>10</td>\n",
              "      <td>48067</td>\n",
              "    </tr>\n",
              "    <tr>\n",
              "      <th>1</th>\n",
              "      <td>2</td>\n",
              "      <td>M</td>\n",
              "      <td>56</td>\n",
              "      <td>16</td>\n",
              "      <td>70072</td>\n",
              "    </tr>\n",
              "    <tr>\n",
              "      <th>2</th>\n",
              "      <td>3</td>\n",
              "      <td>M</td>\n",
              "      <td>25</td>\n",
              "      <td>15</td>\n",
              "      <td>55117</td>\n",
              "    </tr>\n",
              "    <tr>\n",
              "      <th>3</th>\n",
              "      <td>4</td>\n",
              "      <td>M</td>\n",
              "      <td>45</td>\n",
              "      <td>7</td>\n",
              "      <td>02460</td>\n",
              "    </tr>\n",
              "    <tr>\n",
              "      <th>4</th>\n",
              "      <td>5</td>\n",
              "      <td>M</td>\n",
              "      <td>25</td>\n",
              "      <td>20</td>\n",
              "      <td>55455</td>\n",
              "    </tr>\n",
              "    <tr>\n",
              "      <th>5</th>\n",
              "      <td>6</td>\n",
              "      <td>F</td>\n",
              "      <td>50</td>\n",
              "      <td>9</td>\n",
              "      <td>55117</td>\n",
              "    </tr>\n",
              "  </tbody>\n",
              "</table>\n",
              "</div>\n",
              "      <button class=\"colab-df-convert\" onclick=\"convertToInteractive('df-7f90a200-68b6-473d-8adb-fd1b690fbf06')\"\n",
              "              title=\"Convert this dataframe to an interactive table.\"\n",
              "              style=\"display:none;\">\n",
              "        \n",
              "  <svg xmlns=\"http://www.w3.org/2000/svg\" height=\"24px\"viewBox=\"0 0 24 24\"\n",
              "       width=\"24px\">\n",
              "    <path d=\"M0 0h24v24H0V0z\" fill=\"none\"/>\n",
              "    <path d=\"M18.56 5.44l.94 2.06.94-2.06 2.06-.94-2.06-.94-.94-2.06-.94 2.06-2.06.94zm-11 1L8.5 8.5l.94-2.06 2.06-.94-2.06-.94L8.5 2.5l-.94 2.06-2.06.94zm10 10l.94 2.06.94-2.06 2.06-.94-2.06-.94-.94-2.06-.94 2.06-2.06.94z\"/><path d=\"M17.41 7.96l-1.37-1.37c-.4-.4-.92-.59-1.43-.59-.52 0-1.04.2-1.43.59L10.3 9.45l-7.72 7.72c-.78.78-.78 2.05 0 2.83L4 21.41c.39.39.9.59 1.41.59.51 0 1.02-.2 1.41-.59l7.78-7.78 2.81-2.81c.8-.78.8-2.07 0-2.86zM5.41 20L4 18.59l7.72-7.72 1.47 1.35L5.41 20z\"/>\n",
              "  </svg>\n",
              "      </button>\n",
              "      \n",
              "  <style>\n",
              "    .colab-df-container {\n",
              "      display:flex;\n",
              "      flex-wrap:wrap;\n",
              "      gap: 12px;\n",
              "    }\n",
              "\n",
              "    .colab-df-convert {\n",
              "      background-color: #E8F0FE;\n",
              "      border: none;\n",
              "      border-radius: 50%;\n",
              "      cursor: pointer;\n",
              "      display: none;\n",
              "      fill: #1967D2;\n",
              "      height: 32px;\n",
              "      padding: 0 0 0 0;\n",
              "      width: 32px;\n",
              "    }\n",
              "\n",
              "    .colab-df-convert:hover {\n",
              "      background-color: #E2EBFA;\n",
              "      box-shadow: 0px 1px 2px rgba(60, 64, 67, 0.3), 0px 1px 3px 1px rgba(60, 64, 67, 0.15);\n",
              "      fill: #174EA6;\n",
              "    }\n",
              "\n",
              "    [theme=dark] .colab-df-convert {\n",
              "      background-color: #3B4455;\n",
              "      fill: #D2E3FC;\n",
              "    }\n",
              "\n",
              "    [theme=dark] .colab-df-convert:hover {\n",
              "      background-color: #434B5C;\n",
              "      box-shadow: 0px 1px 3px 1px rgba(0, 0, 0, 0.15);\n",
              "      filter: drop-shadow(0px 1px 2px rgba(0, 0, 0, 0.3));\n",
              "      fill: #FFFFFF;\n",
              "    }\n",
              "  </style>\n",
              "\n",
              "      <script>\n",
              "        const buttonEl =\n",
              "          document.querySelector('#df-7f90a200-68b6-473d-8adb-fd1b690fbf06 button.colab-df-convert');\n",
              "        buttonEl.style.display =\n",
              "          google.colab.kernel.accessAllowed ? 'block' : 'none';\n",
              "\n",
              "        async function convertToInteractive(key) {\n",
              "          const element = document.querySelector('#df-7f90a200-68b6-473d-8adb-fd1b690fbf06');\n",
              "          const dataTable =\n",
              "            await google.colab.kernel.invokeFunction('convertToInteractive',\n",
              "                                                     [key], {});\n",
              "          if (!dataTable) return;\n",
              "\n",
              "          const docLinkHtml = 'Like what you see? Visit the ' +\n",
              "            '<a target=\"_blank\" href=https://colab.research.google.com/notebooks/data_table.ipynb>data table notebook</a>'\n",
              "            + ' to learn more about interactive tables.';\n",
              "          element.innerHTML = '';\n",
              "          dataTable['output_type'] = 'display_data';\n",
              "          await google.colab.output.renderOutput(dataTable, element);\n",
              "          const docLink = document.createElement('div');\n",
              "          docLink.innerHTML = docLinkHtml;\n",
              "          element.appendChild(docLink);\n",
              "        }\n",
              "      </script>\n",
              "    </div>\n",
              "  </div>\n",
              "  "
            ],
            "text/plain": [
              "   0  1   2   3      4\n",
              "0  1  F   1  10  48067\n",
              "1  2  M  56  16  70072\n",
              "2  3  M  25  15  55117\n",
              "3  4  M  45   7  02460\n",
              "4  5  M  25  20  55455\n",
              "5  6  F  50   9  55117"
            ]
          },
          "metadata": {},
          "execution_count": 3
        }
      ]
    },
    {
      "cell_type": "code",
      "source": [
        "ratings=pd.read_csv('ratings.dat',sep='::',header=None,engine='python',encoding='latin-1')\n",
        "\n",
        "print(ratings.shape)\n",
        "print(ratings.columns)\n",
        "\n",
        "ratings.head(6)"
      ],
      "metadata": {
        "id": "iDhV31FqpuTY",
        "colab": {
          "base_uri": "https://localhost:8080/",
          "height": 273
        },
        "outputId": "6bccf64a-4b6f-4828-ed88-6ccd21b4f859"
      },
      "execution_count": null,
      "outputs": [
        {
          "output_type": "stream",
          "name": "stdout",
          "text": [
            "(1000209, 4)\n",
            "Int64Index([0, 1, 2, 3], dtype='int64')\n"
          ]
        },
        {
          "output_type": "execute_result",
          "data": {
            "text/html": [
              "\n",
              "  <div id=\"df-ef64aee7-ca71-4f6a-9d7f-8382354926d7\">\n",
              "    <div class=\"colab-df-container\">\n",
              "      <div>\n",
              "<style scoped>\n",
              "    .dataframe tbody tr th:only-of-type {\n",
              "        vertical-align: middle;\n",
              "    }\n",
              "\n",
              "    .dataframe tbody tr th {\n",
              "        vertical-align: top;\n",
              "    }\n",
              "\n",
              "    .dataframe thead th {\n",
              "        text-align: right;\n",
              "    }\n",
              "</style>\n",
              "<table border=\"1\" class=\"dataframe\">\n",
              "  <thead>\n",
              "    <tr style=\"text-align: right;\">\n",
              "      <th></th>\n",
              "      <th>0</th>\n",
              "      <th>1</th>\n",
              "      <th>2</th>\n",
              "      <th>3</th>\n",
              "    </tr>\n",
              "  </thead>\n",
              "  <tbody>\n",
              "    <tr>\n",
              "      <th>0</th>\n",
              "      <td>1</td>\n",
              "      <td>1193</td>\n",
              "      <td>5</td>\n",
              "      <td>978300760</td>\n",
              "    </tr>\n",
              "    <tr>\n",
              "      <th>1</th>\n",
              "      <td>1</td>\n",
              "      <td>661</td>\n",
              "      <td>3</td>\n",
              "      <td>978302109</td>\n",
              "    </tr>\n",
              "    <tr>\n",
              "      <th>2</th>\n",
              "      <td>1</td>\n",
              "      <td>914</td>\n",
              "      <td>3</td>\n",
              "      <td>978301968</td>\n",
              "    </tr>\n",
              "    <tr>\n",
              "      <th>3</th>\n",
              "      <td>1</td>\n",
              "      <td>3408</td>\n",
              "      <td>4</td>\n",
              "      <td>978300275</td>\n",
              "    </tr>\n",
              "    <tr>\n",
              "      <th>4</th>\n",
              "      <td>1</td>\n",
              "      <td>2355</td>\n",
              "      <td>5</td>\n",
              "      <td>978824291</td>\n",
              "    </tr>\n",
              "    <tr>\n",
              "      <th>5</th>\n",
              "      <td>1</td>\n",
              "      <td>1197</td>\n",
              "      <td>3</td>\n",
              "      <td>978302268</td>\n",
              "    </tr>\n",
              "  </tbody>\n",
              "</table>\n",
              "</div>\n",
              "      <button class=\"colab-df-convert\" onclick=\"convertToInteractive('df-ef64aee7-ca71-4f6a-9d7f-8382354926d7')\"\n",
              "              title=\"Convert this dataframe to an interactive table.\"\n",
              "              style=\"display:none;\">\n",
              "        \n",
              "  <svg xmlns=\"http://www.w3.org/2000/svg\" height=\"24px\"viewBox=\"0 0 24 24\"\n",
              "       width=\"24px\">\n",
              "    <path d=\"M0 0h24v24H0V0z\" fill=\"none\"/>\n",
              "    <path d=\"M18.56 5.44l.94 2.06.94-2.06 2.06-.94-2.06-.94-.94-2.06-.94 2.06-2.06.94zm-11 1L8.5 8.5l.94-2.06 2.06-.94-2.06-.94L8.5 2.5l-.94 2.06-2.06.94zm10 10l.94 2.06.94-2.06 2.06-.94-2.06-.94-.94-2.06-.94 2.06-2.06.94z\"/><path d=\"M17.41 7.96l-1.37-1.37c-.4-.4-.92-.59-1.43-.59-.52 0-1.04.2-1.43.59L10.3 9.45l-7.72 7.72c-.78.78-.78 2.05 0 2.83L4 21.41c.39.39.9.59 1.41.59.51 0 1.02-.2 1.41-.59l7.78-7.78 2.81-2.81c.8-.78.8-2.07 0-2.86zM5.41 20L4 18.59l7.72-7.72 1.47 1.35L5.41 20z\"/>\n",
              "  </svg>\n",
              "      </button>\n",
              "      \n",
              "  <style>\n",
              "    .colab-df-container {\n",
              "      display:flex;\n",
              "      flex-wrap:wrap;\n",
              "      gap: 12px;\n",
              "    }\n",
              "\n",
              "    .colab-df-convert {\n",
              "      background-color: #E8F0FE;\n",
              "      border: none;\n",
              "      border-radius: 50%;\n",
              "      cursor: pointer;\n",
              "      display: none;\n",
              "      fill: #1967D2;\n",
              "      height: 32px;\n",
              "      padding: 0 0 0 0;\n",
              "      width: 32px;\n",
              "    }\n",
              "\n",
              "    .colab-df-convert:hover {\n",
              "      background-color: #E2EBFA;\n",
              "      box-shadow: 0px 1px 2px rgba(60, 64, 67, 0.3), 0px 1px 3px 1px rgba(60, 64, 67, 0.15);\n",
              "      fill: #174EA6;\n",
              "    }\n",
              "\n",
              "    [theme=dark] .colab-df-convert {\n",
              "      background-color: #3B4455;\n",
              "      fill: #D2E3FC;\n",
              "    }\n",
              "\n",
              "    [theme=dark] .colab-df-convert:hover {\n",
              "      background-color: #434B5C;\n",
              "      box-shadow: 0px 1px 3px 1px rgba(0, 0, 0, 0.15);\n",
              "      filter: drop-shadow(0px 1px 2px rgba(0, 0, 0, 0.3));\n",
              "      fill: #FFFFFF;\n",
              "    }\n",
              "  </style>\n",
              "\n",
              "      <script>\n",
              "        const buttonEl =\n",
              "          document.querySelector('#df-ef64aee7-ca71-4f6a-9d7f-8382354926d7 button.colab-df-convert');\n",
              "        buttonEl.style.display =\n",
              "          google.colab.kernel.accessAllowed ? 'block' : 'none';\n",
              "\n",
              "        async function convertToInteractive(key) {\n",
              "          const element = document.querySelector('#df-ef64aee7-ca71-4f6a-9d7f-8382354926d7');\n",
              "          const dataTable =\n",
              "            await google.colab.kernel.invokeFunction('convertToInteractive',\n",
              "                                                     [key], {});\n",
              "          if (!dataTable) return;\n",
              "\n",
              "          const docLinkHtml = 'Like what you see? Visit the ' +\n",
              "            '<a target=\"_blank\" href=https://colab.research.google.com/notebooks/data_table.ipynb>data table notebook</a>'\n",
              "            + ' to learn more about interactive tables.';\n",
              "          element.innerHTML = '';\n",
              "          dataTable['output_type'] = 'display_data';\n",
              "          await google.colab.output.renderOutput(dataTable, element);\n",
              "          const docLink = document.createElement('div');\n",
              "          docLink.innerHTML = docLinkHtml;\n",
              "          element.appendChild(docLink);\n",
              "        }\n",
              "      </script>\n",
              "    </div>\n",
              "  </div>\n",
              "  "
            ],
            "text/plain": [
              "   0     1  2          3\n",
              "0  1  1193  5  978300760\n",
              "1  1   661  3  978302109\n",
              "2  1   914  3  978301968\n",
              "3  1  3408  4  978300275\n",
              "4  1  2355  5  978824291\n",
              "5  1  1197  3  978302268"
            ]
          },
          "metadata": {},
          "execution_count": 4
        }
      ]
    },
    {
      "cell_type": "markdown",
      "source": [
        "2 - Preparing the train and test sets"
      ],
      "metadata": {
        "id": "ierbqJopqD9W"
      }
    },
    {
      "cell_type": "code",
      "source": [
        "# Prepare training data\n",
        "train_set=pd.read_csv('u1.base',sep='\\t',header=None,engine='python',encoding='latin-1')\n",
        "\n",
        "print(train_set.shape)\n",
        "print(train_set.columns)\n",
        "\n",
        "train_set=np.array(train_set,dtype='int')\n"
      ],
      "metadata": {
        "id": "09kA9qhBpuW_",
        "colab": {
          "base_uri": "https://localhost:8080/"
        },
        "outputId": "da0d3fae-d33b-46b0-b7cd-87e10f257ef8"
      },
      "execution_count": null,
      "outputs": [
        {
          "output_type": "stream",
          "name": "stdout",
          "text": [
            "(80000, 4)\n",
            "Int64Index([0, 1, 2, 3], dtype='int64')\n"
          ]
        }
      ]
    },
    {
      "cell_type": "code",
      "source": [
        "# Prepare test set\n",
        "test_set=pd.read_csv('u1.test',sep='\\t',header=None,engine='python',encoding='latin-1')\n",
        "\n",
        "print(test_set.shape)\n",
        "print(test_set.columns)\n",
        "\n",
        "test_set=np.array(test_set,dtype='int')\n"
      ],
      "metadata": {
        "id": "D7zfTWTQqhfC",
        "colab": {
          "base_uri": "https://localhost:8080/"
        },
        "outputId": "3ed627ec-f51a-42e7-b862-42acd3c31451"
      },
      "execution_count": null,
      "outputs": [
        {
          "output_type": "stream",
          "name": "stdout",
          "text": [
            "(20000, 4)\n",
            "Int64Index([0, 1, 2, 3], dtype='int64')\n"
          ]
        }
      ]
    },
    {
      "cell_type": "markdown",
      "source": [
        "3 - Getting the number of users and movies"
      ],
      "metadata": {
        "id": "uUUMBqPZqJPV"
      }
    },
    {
      "cell_type": "code",
      "source": [
        "nb_users=int(max(max(train_set[:,0]),max(test_set[:,0])))\n",
        "nb_users"
      ],
      "metadata": {
        "id": "3Cwrncj6qJqn",
        "colab": {
          "base_uri": "https://localhost:8080/"
        },
        "outputId": "74ffad06-8d2f-44d7-b381-f8aaca6c80a3"
      },
      "execution_count": null,
      "outputs": [
        {
          "output_type": "execute_result",
          "data": {
            "text/plain": [
              "943"
            ]
          },
          "metadata": {},
          "execution_count": 7
        }
      ]
    },
    {
      "cell_type": "code",
      "source": [
        "nb_movies=int(max(max(train_set[:,1]),max(test_set[:,1])))\n",
        "nb_movies"
      ],
      "metadata": {
        "id": "_XkwnX1arHmK",
        "colab": {
          "base_uri": "https://localhost:8080/"
        },
        "outputId": "d3a21912-2de4-43fd-c3ff-0590e25a5afb"
      },
      "execution_count": null,
      "outputs": [
        {
          "output_type": "execute_result",
          "data": {
            "text/plain": [
              "1682"
            ]
          },
          "metadata": {},
          "execution_count": 8
        }
      ]
    },
    {
      "cell_type": "markdown",
      "source": [
        "4 - Converting the data into array with users in indicies and movie in columns"
      ],
      "metadata": {
        "id": "hKQxmopjqKGx"
      }
    },
    {
      "cell_type": "code",
      "source": [
        "def convert(data):\n",
        "  new_data=[]\n",
        "  for id_users in range(1,nb_users+1):\n",
        "    id_movies=data[:,1][data[:,0]==id_users]\n",
        "    id_ratings=data[:,2][data[:,0]==id_users]\n",
        "    ratings=np.zeros(nb_movies)\n",
        "    ratings[id_movies-1]=id_ratings\n",
        "    new_data.append(list(ratings))\n",
        "\n",
        "  return new_data"
      ],
      "metadata": {
        "id": "LgVH2XhoqKTr"
      },
      "execution_count": null,
      "outputs": []
    },
    {
      "cell_type": "code",
      "source": [
        "train_set=convert(train_set)\n",
        "test_set=convert(test_set)"
      ],
      "metadata": {
        "id": "MxSJe19Bq86B"
      },
      "execution_count": null,
      "outputs": []
    },
    {
      "cell_type": "markdown",
      "source": [
        "5 - Converting the data into torch tensors"
      ],
      "metadata": {
        "id": "P_22oIelqFDA"
      }
    },
    {
      "cell_type": "code",
      "source": [
        "train_set=torch.FloatTensor(train_set)\n",
        "test_set=torch.FloatTensor(test_set)"
      ],
      "metadata": {
        "id": "2CMmLSZKpuay"
      },
      "execution_count": null,
      "outputs": []
    },
    {
      "cell_type": "markdown",
      "source": [
        "6 - Creating the architecture of Neural Network"
      ],
      "metadata": {
        "id": "qFlX205PrT-R"
      }
    },
    {
      "cell_type": "code",
      "source": [
        "class SAE(nn.Module):\n",
        "    def __init__(self, ):\n",
        "        super(SAE, self).__init__()\n",
        "        self.fc1 = nn.Linear(nb_movies, 24)\n",
        "        self.fc2 = nn.Linear(24, 12)\n",
        "        self.fc3 = nn.Linear(12, 24)\n",
        "        self.fc4 = nn.Linear(24, nb_movies)\n",
        "        self.activation = nn.Sigmoid()\n",
        "    def forward(self, x):\n",
        "        x = self.activation(self.fc1(x))\n",
        "        x = self.activation(self.fc2(x))\n",
        "        x = self.activation(self.fc3(x))\n",
        "        x = self.fc4(x)\n",
        "        return x\n",
        "sae = SAE()\n",
        "criterion = nn.MSELoss()\n",
        "optimizer = optim.RMSprop(sae.parameters(), lr = 0.01, weight_decay = 0.5)"
      ],
      "metadata": {
        "id": "bdZPgUEFrURg"
      },
      "execution_count": null,
      "outputs": []
    },
    {
      "cell_type": "markdown",
      "source": [
        "7- Training the SAE"
      ],
      "metadata": {
        "id": "1XyY_paRrUey"
      }
    },
    {
      "cell_type": "code",
      "source": [
        "nb_epoch = 240\n",
        "for epoch in range(1, nb_epoch + 1):\n",
        "  train_loss = 0\n",
        "  s = 0.\n",
        "  for id_user in range(nb_users):\n",
        "    input = Variable(train_set[id_user]).unsqueeze(0)\n",
        "    target = input.clone()\n",
        "    if torch.sum(target.data > 0) > 0:\n",
        "      output = sae(input)\n",
        "      target.require_grad = False\n",
        "      output[target == 0] = 0\n",
        "      loss = criterion(output, target)\n",
        "      mean_corrector = nb_movies/float(torch.sum(target.data > 0) + 1e-10)\n",
        "      loss.backward()\n",
        "      train_loss += np.sqrt(loss.data*mean_corrector)\n",
        "      s += 1.\n",
        "      optimizer.step()\n",
        "  print('epoch: '+str(epoch)+'\\tloss: '+ str(train_loss/s))"
      ],
      "metadata": {
        "id": "JWzDDHGFpueT",
        "colab": {
          "base_uri": "https://localhost:8080/"
        },
        "outputId": "8e4cf88e-a5ce-4013-bb55-26522747d67c"
      },
      "execution_count": null,
      "outputs": [
        {
          "output_type": "stream",
          "name": "stdout",
          "text": [
            "epoch: 1\tloss: tensor(1.7001)\n",
            "epoch: 2\tloss: tensor(1.0846)\n",
            "epoch: 3\tloss: tensor(1.0501)\n",
            "epoch: 4\tloss: tensor(1.0380)\n",
            "epoch: 5\tloss: tensor(1.0320)\n",
            "epoch: 6\tloss: tensor(1.0287)\n",
            "epoch: 7\tloss: tensor(1.0265)\n",
            "epoch: 8\tloss: tensor(1.0250)\n",
            "epoch: 9\tloss: tensor(1.0241)\n",
            "epoch: 10\tloss: tensor(1.0235)\n",
            "epoch: 11\tloss: tensor(1.0229)\n",
            "epoch: 12\tloss: tensor(1.0224)\n",
            "epoch: 13\tloss: tensor(1.0221)\n",
            "epoch: 14\tloss: tensor(1.0215)\n",
            "epoch: 15\tloss: tensor(1.0216)\n",
            "epoch: 16\tloss: tensor(1.0215)\n",
            "epoch: 17\tloss: tensor(1.0213)\n",
            "epoch: 18\tloss: tensor(1.0209)\n",
            "epoch: 19\tloss: tensor(1.0207)\n",
            "epoch: 20\tloss: tensor(1.0206)\n",
            "epoch: 21\tloss: tensor(1.0201)\n",
            "epoch: 22\tloss: tensor(1.0187)\n",
            "epoch: 23\tloss: tensor(1.0172)\n",
            "epoch: 24\tloss: tensor(1.0143)\n",
            "epoch: 25\tloss: tensor(1.0131)\n",
            "epoch: 26\tloss: tensor(1.0097)\n",
            "epoch: 27\tloss: tensor(1.0106)\n",
            "epoch: 28\tloss: tensor(1.0063)\n",
            "epoch: 29\tloss: tensor(1.0048)\n",
            "epoch: 30\tloss: tensor(1.0028)\n",
            "epoch: 31\tloss: tensor(1.0031)\n",
            "epoch: 32\tloss: tensor(0.9989)\n",
            "epoch: 33\tloss: tensor(0.9982)\n",
            "epoch: 34\tloss: tensor(0.9971)\n",
            "epoch: 35\tloss: tensor(0.9971)\n",
            "epoch: 36\tloss: tensor(0.9888)\n",
            "epoch: 37\tloss: tensor(0.9889)\n",
            "epoch: 38\tloss: tensor(0.9856)\n",
            "epoch: 39\tloss: tensor(0.9876)\n",
            "epoch: 40\tloss: tensor(0.9853)\n",
            "epoch: 41\tloss: tensor(0.9857)\n",
            "epoch: 42\tloss: tensor(0.9825)\n",
            "epoch: 43\tloss: tensor(0.9835)\n",
            "epoch: 44\tloss: tensor(0.9772)\n",
            "epoch: 45\tloss: tensor(0.9775)\n",
            "epoch: 46\tloss: tensor(0.9713)\n",
            "epoch: 47\tloss: tensor(0.9723)\n",
            "epoch: 48\tloss: tensor(0.9702)\n",
            "epoch: 49\tloss: tensor(0.9689)\n",
            "epoch: 50\tloss: tensor(0.9664)\n",
            "epoch: 51\tloss: tensor(0.9700)\n",
            "epoch: 52\tloss: tensor(0.9627)\n",
            "epoch: 53\tloss: tensor(0.9625)\n",
            "epoch: 54\tloss: tensor(0.9579)\n",
            "epoch: 55\tloss: tensor(0.9594)\n",
            "epoch: 56\tloss: tensor(0.9562)\n",
            "epoch: 57\tloss: tensor(0.9584)\n",
            "epoch: 58\tloss: tensor(0.9549)\n",
            "epoch: 59\tloss: tensor(0.9551)\n",
            "epoch: 60\tloss: tensor(0.9515)\n",
            "epoch: 61\tloss: tensor(0.9527)\n",
            "epoch: 62\tloss: tensor(0.9500)\n",
            "epoch: 63\tloss: tensor(0.9503)\n",
            "epoch: 64\tloss: tensor(0.9475)\n",
            "epoch: 65\tloss: tensor(0.9492)\n",
            "epoch: 66\tloss: tensor(0.9465)\n",
            "epoch: 67\tloss: tensor(0.9482)\n",
            "epoch: 68\tloss: tensor(0.9452)\n",
            "epoch: 69\tloss: tensor(0.9466)\n",
            "epoch: 70\tloss: tensor(0.9442)\n",
            "epoch: 71\tloss: tensor(0.9451)\n",
            "epoch: 72\tloss: tensor(0.9434)\n",
            "epoch: 73\tloss: tensor(0.9470)\n",
            "epoch: 74\tloss: tensor(0.9468)\n",
            "epoch: 75\tloss: tensor(0.9459)\n",
            "epoch: 76\tloss: tensor(0.9444)\n",
            "epoch: 77\tloss: tensor(0.9450)\n",
            "epoch: 78\tloss: tensor(0.9419)\n",
            "epoch: 79\tloss: tensor(0.9428)\n",
            "epoch: 80\tloss: tensor(0.9405)\n",
            "epoch: 81\tloss: tensor(0.9414)\n",
            "epoch: 82\tloss: tensor(0.9386)\n",
            "epoch: 83\tloss: tensor(0.9403)\n",
            "epoch: 84\tloss: tensor(0.9373)\n",
            "epoch: 85\tloss: tensor(0.9393)\n",
            "epoch: 86\tloss: tensor(0.9367)\n",
            "epoch: 87\tloss: tensor(0.9381)\n",
            "epoch: 88\tloss: tensor(0.9359)\n",
            "epoch: 89\tloss: tensor(0.9376)\n",
            "epoch: 90\tloss: tensor(0.9350)\n",
            "epoch: 91\tloss: tensor(0.9362)\n",
            "epoch: 92\tloss: tensor(0.9338)\n",
            "epoch: 93\tloss: tensor(0.9353)\n",
            "epoch: 94\tloss: tensor(0.9331)\n",
            "epoch: 95\tloss: tensor(0.9348)\n",
            "epoch: 96\tloss: tensor(0.9326)\n",
            "epoch: 97\tloss: tensor(0.9335)\n",
            "epoch: 98\tloss: tensor(0.9315)\n",
            "epoch: 99\tloss: tensor(0.9327)\n",
            "epoch: 100\tloss: tensor(0.9311)\n",
            "epoch: 101\tloss: tensor(0.9320)\n",
            "epoch: 102\tloss: tensor(0.9305)\n",
            "epoch: 103\tloss: tensor(0.9313)\n",
            "epoch: 104\tloss: tensor(0.9296)\n",
            "epoch: 105\tloss: tensor(0.9305)\n",
            "epoch: 106\tloss: tensor(0.9290)\n",
            "epoch: 107\tloss: tensor(0.9296)\n",
            "epoch: 108\tloss: tensor(0.9281)\n",
            "epoch: 109\tloss: tensor(0.9291)\n",
            "epoch: 110\tloss: tensor(0.9277)\n",
            "epoch: 111\tloss: tensor(0.9286)\n",
            "epoch: 112\tloss: tensor(0.9271)\n",
            "epoch: 113\tloss: tensor(0.9279)\n",
            "epoch: 114\tloss: tensor(0.9265)\n",
            "epoch: 115\tloss: tensor(0.9272)\n",
            "epoch: 116\tloss: tensor(0.9258)\n",
            "epoch: 117\tloss: tensor(0.9265)\n",
            "epoch: 118\tloss: tensor(0.9253)\n",
            "epoch: 119\tloss: tensor(0.9258)\n",
            "epoch: 120\tloss: tensor(0.9246)\n",
            "epoch: 121\tloss: tensor(0.9255)\n",
            "epoch: 122\tloss: tensor(0.9239)\n",
            "epoch: 123\tloss: tensor(0.9249)\n",
            "epoch: 124\tloss: tensor(0.9236)\n",
            "epoch: 125\tloss: tensor(0.9242)\n",
            "epoch: 126\tloss: tensor(0.9230)\n",
            "epoch: 127\tloss: tensor(0.9237)\n",
            "epoch: 128\tloss: tensor(0.9226)\n",
            "epoch: 129\tloss: tensor(0.9232)\n",
            "epoch: 130\tloss: tensor(0.9221)\n",
            "epoch: 131\tloss: tensor(0.9227)\n",
            "epoch: 132\tloss: tensor(0.9216)\n",
            "epoch: 133\tloss: tensor(0.9222)\n",
            "epoch: 134\tloss: tensor(0.9210)\n",
            "epoch: 135\tloss: tensor(0.9217)\n",
            "epoch: 136\tloss: tensor(0.9207)\n",
            "epoch: 137\tloss: tensor(0.9211)\n",
            "epoch: 138\tloss: tensor(0.9202)\n",
            "epoch: 139\tloss: tensor(0.9209)\n",
            "epoch: 140\tloss: tensor(0.9200)\n",
            "epoch: 141\tloss: tensor(0.9204)\n",
            "epoch: 142\tloss: tensor(0.9194)\n",
            "epoch: 143\tloss: tensor(0.9200)\n",
            "epoch: 144\tloss: tensor(0.9190)\n",
            "epoch: 145\tloss: tensor(0.9194)\n",
            "epoch: 146\tloss: tensor(0.9186)\n",
            "epoch: 147\tloss: tensor(0.9193)\n",
            "epoch: 148\tloss: tensor(0.9181)\n",
            "epoch: 149\tloss: tensor(0.9188)\n",
            "epoch: 150\tloss: tensor(0.9179)\n",
            "epoch: 151\tloss: tensor(0.9185)\n",
            "epoch: 152\tloss: tensor(0.9175)\n",
            "epoch: 153\tloss: tensor(0.9180)\n",
            "epoch: 154\tloss: tensor(0.9171)\n",
            "epoch: 155\tloss: tensor(0.9177)\n",
            "epoch: 156\tloss: tensor(0.9167)\n",
            "epoch: 157\tloss: tensor(0.9177)\n",
            "epoch: 158\tloss: tensor(0.9166)\n",
            "epoch: 159\tloss: tensor(0.9171)\n",
            "epoch: 160\tloss: tensor(0.9161)\n",
            "epoch: 161\tloss: tensor(0.9166)\n",
            "epoch: 162\tloss: tensor(0.9157)\n",
            "epoch: 163\tloss: tensor(0.9163)\n",
            "epoch: 164\tloss: tensor(0.9154)\n",
            "epoch: 165\tloss: tensor(0.9160)\n",
            "epoch: 166\tloss: tensor(0.9150)\n",
            "epoch: 167\tloss: tensor(0.9156)\n",
            "epoch: 168\tloss: tensor(0.9147)\n",
            "epoch: 169\tloss: tensor(0.9153)\n",
            "epoch: 170\tloss: tensor(0.9144)\n",
            "epoch: 171\tloss: tensor(0.9150)\n",
            "epoch: 172\tloss: tensor(0.9141)\n",
            "epoch: 173\tloss: tensor(0.9145)\n",
            "epoch: 174\tloss: tensor(0.9137)\n",
            "epoch: 175\tloss: tensor(0.9143)\n",
            "epoch: 176\tloss: tensor(0.9134)\n",
            "epoch: 177\tloss: tensor(0.9142)\n",
            "epoch: 178\tloss: tensor(0.9132)\n",
            "epoch: 179\tloss: tensor(0.9139)\n",
            "epoch: 180\tloss: tensor(0.9130)\n",
            "epoch: 181\tloss: tensor(0.9135)\n",
            "epoch: 182\tloss: tensor(0.9127)\n",
            "epoch: 183\tloss: tensor(0.9132)\n",
            "epoch: 184\tloss: tensor(0.9122)\n",
            "epoch: 185\tloss: tensor(0.9129)\n",
            "epoch: 186\tloss: tensor(0.9121)\n",
            "epoch: 187\tloss: tensor(0.9126)\n",
            "epoch: 188\tloss: tensor(0.9117)\n",
            "epoch: 189\tloss: tensor(0.9122)\n",
            "epoch: 190\tloss: tensor(0.9117)\n",
            "epoch: 191\tloss: tensor(0.9141)\n",
            "epoch: 192\tloss: tensor(0.9114)\n",
            "epoch: 193\tloss: tensor(0.9119)\n",
            "epoch: 194\tloss: tensor(0.9109)\n",
            "epoch: 195\tloss: tensor(0.9113)\n",
            "epoch: 196\tloss: tensor(0.9106)\n",
            "epoch: 197\tloss: tensor(0.9109)\n",
            "epoch: 198\tloss: tensor(0.9101)\n",
            "epoch: 199\tloss: tensor(0.9106)\n",
            "epoch: 200\tloss: tensor(0.9099)\n",
            "epoch: 201\tloss: tensor(0.9101)\n",
            "epoch: 202\tloss: tensor(0.9096)\n",
            "epoch: 203\tloss: tensor(0.9101)\n",
            "epoch: 204\tloss: tensor(0.9096)\n",
            "epoch: 205\tloss: tensor(0.9098)\n",
            "epoch: 206\tloss: tensor(0.9091)\n",
            "epoch: 207\tloss: tensor(0.9094)\n",
            "epoch: 208\tloss: tensor(0.9087)\n",
            "epoch: 209\tloss: tensor(0.9092)\n",
            "epoch: 210\tloss: tensor(0.9084)\n",
            "epoch: 211\tloss: tensor(0.9089)\n",
            "epoch: 212\tloss: tensor(0.9083)\n",
            "epoch: 213\tloss: tensor(0.9085)\n",
            "epoch: 214\tloss: tensor(0.9077)\n",
            "epoch: 215\tloss: tensor(0.9080)\n",
            "epoch: 216\tloss: tensor(0.9074)\n",
            "epoch: 217\tloss: tensor(0.9078)\n",
            "epoch: 218\tloss: tensor(0.9070)\n",
            "epoch: 219\tloss: tensor(0.9071)\n",
            "epoch: 220\tloss: tensor(0.9064)\n",
            "epoch: 221\tloss: tensor(0.9066)\n",
            "epoch: 222\tloss: tensor(0.9059)\n",
            "epoch: 223\tloss: tensor(0.9063)\n",
            "epoch: 224\tloss: tensor(0.9058)\n",
            "epoch: 225\tloss: tensor(0.9059)\n",
            "epoch: 226\tloss: tensor(0.9051)\n",
            "epoch: 227\tloss: tensor(0.9053)\n",
            "epoch: 228\tloss: tensor(0.9047)\n",
            "epoch: 229\tloss: tensor(0.9049)\n",
            "epoch: 230\tloss: tensor(0.9043)\n",
            "epoch: 231\tloss: tensor(0.9041)\n",
            "epoch: 232\tloss: tensor(0.9034)\n",
            "epoch: 233\tloss: tensor(0.9036)\n",
            "epoch: 234\tloss: tensor(0.9030)\n",
            "epoch: 235\tloss: tensor(0.9029)\n",
            "epoch: 236\tloss: tensor(0.9023)\n",
            "epoch: 237\tloss: tensor(0.9019)\n",
            "epoch: 238\tloss: tensor(0.9015)\n",
            "epoch: 239\tloss: tensor(0.9012)\n",
            "epoch: 240\tloss: tensor(0.9008)\n"
          ]
        }
      ]
    },
    {
      "cell_type": "markdown",
      "source": [
        "8 - Testing the SAE"
      ],
      "metadata": {
        "id": "YB84g2qyr_UK"
      }
    },
    {
      "cell_type": "code",
      "source": [
        "test_loss = 0\n",
        "s = 0.\n",
        "for id_user in range(nb_users):\n",
        "  input = Variable(train_set[id_user]).unsqueeze(0)\n",
        "  target = Variable(test_set[id_user]).unsqueeze(0)\n",
        "  if torch.sum(target.data > 0) > 0:\n",
        "    output = sae(input)\n",
        "    target.require_grad = False\n",
        "    output[target == 0] = 0\n",
        "    loss = criterion(output, target)\n",
        "    mean_corrector = nb_movies/float(torch.sum(target.data > 0) + 1e-10)\n",
        "    test_loss += np.sqrt(loss.data*mean_corrector)\n",
        "    s += 1.\n",
        "print('test loss: '+str(test_loss/s))"
      ],
      "metadata": {
        "id": "VmNn0N80r_jN",
        "colab": {
          "base_uri": "https://localhost:8080/"
        },
        "outputId": "87d2d4c1-4a0d-4945-dad5-0a20430d519d"
      },
      "execution_count": null,
      "outputs": [
        {
          "output_type": "stream",
          "name": "stdout",
          "text": [
            "test loss: tensor(0.9494)\n"
          ]
        }
      ]
    }
  ]
}